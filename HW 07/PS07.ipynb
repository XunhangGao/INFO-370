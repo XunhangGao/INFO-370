{
 "cells": [
  {
   "cell_type": "code",
   "execution_count": 1,
   "id": "999f0aa3-6bb8-40c9-9efc-a3b85cea21ac",
   "metadata": {},
   "outputs": [],
   "source": [
    "import numpy as np\n",
    "import pandas as pd\n",
    "import matplotlib.pyplot as plt\n",
    "import seaborn as sns\n",
    "import statsmodels.formula.api as smf"
   ]
  },
  {
   "cell_type": "markdown",
   "id": "a13ea205-efea-4916-8913-f50a7218f3c6",
   "metadata": {},
   "source": [
    "# PS 07\n",
    "David Gao\n",
    "## 1 Heart attack: inferential modeling\n",
    "#### 1.1 "
   ]
  },
  {
   "cell_type": "code",
   "execution_count": 46,
   "id": "e4b32cf9-82ad-4cdc-84ca-13c1905be0d4",
   "metadata": {},
   "outputs": [
    {
     "data": {
      "text/html": [
       "<div>\n",
       "<style scoped>\n",
       "    .dataframe tbody tr th:only-of-type {\n",
       "        vertical-align: middle;\n",
       "    }\n",
       "\n",
       "    .dataframe tbody tr th {\n",
       "        vertical-align: top;\n",
       "    }\n",
       "\n",
       "    .dataframe thead th {\n",
       "        text-align: right;\n",
       "    }\n",
       "</style>\n",
       "<table border=\"1\" class=\"dataframe\">\n",
       "  <thead>\n",
       "    <tr style=\"text-align: right;\">\n",
       "      <th></th>\n",
       "      <th>age</th>\n",
       "      <th>sex</th>\n",
       "      <th>cp</th>\n",
       "      <th>trtbps</th>\n",
       "      <th>chol</th>\n",
       "      <th>fbs</th>\n",
       "      <th>restecg</th>\n",
       "      <th>thalachh</th>\n",
       "      <th>exng</th>\n",
       "      <th>oldpeak</th>\n",
       "      <th>slp</th>\n",
       "      <th>caa</th>\n",
       "      <th>thall</th>\n",
       "      <th>output</th>\n",
       "    </tr>\n",
       "  </thead>\n",
       "  <tbody>\n",
       "    <tr>\n",
       "      <th>0</th>\n",
       "      <td>63</td>\n",
       "      <td>1</td>\n",
       "      <td>3</td>\n",
       "      <td>145</td>\n",
       "      <td>233</td>\n",
       "      <td>1</td>\n",
       "      <td>0</td>\n",
       "      <td>150</td>\n",
       "      <td>0</td>\n",
       "      <td>2.3</td>\n",
       "      <td>0</td>\n",
       "      <td>0</td>\n",
       "      <td>1</td>\n",
       "      <td>1</td>\n",
       "    </tr>\n",
       "    <tr>\n",
       "      <th>1</th>\n",
       "      <td>37</td>\n",
       "      <td>1</td>\n",
       "      <td>2</td>\n",
       "      <td>130</td>\n",
       "      <td>250</td>\n",
       "      <td>0</td>\n",
       "      <td>1</td>\n",
       "      <td>187</td>\n",
       "      <td>0</td>\n",
       "      <td>3.5</td>\n",
       "      <td>0</td>\n",
       "      <td>0</td>\n",
       "      <td>2</td>\n",
       "      <td>1</td>\n",
       "    </tr>\n",
       "    <tr>\n",
       "      <th>2</th>\n",
       "      <td>41</td>\n",
       "      <td>0</td>\n",
       "      <td>1</td>\n",
       "      <td>130</td>\n",
       "      <td>204</td>\n",
       "      <td>0</td>\n",
       "      <td>0</td>\n",
       "      <td>172</td>\n",
       "      <td>0</td>\n",
       "      <td>1.4</td>\n",
       "      <td>2</td>\n",
       "      <td>0</td>\n",
       "      <td>2</td>\n",
       "      <td>1</td>\n",
       "    </tr>\n",
       "    <tr>\n",
       "      <th>3</th>\n",
       "      <td>56</td>\n",
       "      <td>1</td>\n",
       "      <td>1</td>\n",
       "      <td>120</td>\n",
       "      <td>236</td>\n",
       "      <td>0</td>\n",
       "      <td>1</td>\n",
       "      <td>178</td>\n",
       "      <td>0</td>\n",
       "      <td>0.8</td>\n",
       "      <td>2</td>\n",
       "      <td>0</td>\n",
       "      <td>2</td>\n",
       "      <td>1</td>\n",
       "    </tr>\n",
       "    <tr>\n",
       "      <th>4</th>\n",
       "      <td>57</td>\n",
       "      <td>0</td>\n",
       "      <td>0</td>\n",
       "      <td>120</td>\n",
       "      <td>354</td>\n",
       "      <td>0</td>\n",
       "      <td>1</td>\n",
       "      <td>163</td>\n",
       "      <td>1</td>\n",
       "      <td>0.6</td>\n",
       "      <td>2</td>\n",
       "      <td>0</td>\n",
       "      <td>2</td>\n",
       "      <td>1</td>\n",
       "    </tr>\n",
       "  </tbody>\n",
       "</table>\n",
       "</div>"
      ],
      "text/plain": [
       "   age  sex  cp  trtbps  chol  fbs  restecg  thalachh  exng  oldpeak  slp  \\\n",
       "0   63    1   3     145   233    1        0       150     0      2.3    0   \n",
       "1   37    1   2     130   250    0        1       187     0      3.5    0   \n",
       "2   41    0   1     130   204    0        0       172     0      1.4    2   \n",
       "3   56    1   1     120   236    0        1       178     0      0.8    2   \n",
       "4   57    0   0     120   354    0        1       163     1      0.6    2   \n",
       "\n",
       "   caa  thall  output  \n",
       "0    0      1       1  \n",
       "1    0      2       1  \n",
       "2    0      2       1  \n",
       "3    0      2       1  \n",
       "4    0      2       1  "
      ]
     },
     "execution_count": 46,
     "metadata": {},
     "output_type": "execute_result"
    }
   ],
   "source": [
    "heart = pd.read_csv(r\"heart.csv\", sep=\",\")\n",
    "heart.head(5)"
   ]
  },
  {
   "cell_type": "code",
   "execution_count": 3,
   "id": "0a60b4f1-96bc-4b44-9d7e-21ec31e74e16",
   "metadata": {},
   "outputs": [
    {
     "data": {
      "text/plain": [
       "(303, 14)"
      ]
     },
     "execution_count": 3,
     "metadata": {},
     "output_type": "execute_result"
    }
   ],
   "source": [
    "heart.shape"
   ]
  },
  {
   "cell_type": "markdown",
   "id": "9f6c2a27-d7e6-404c-ac7b-2aa005e274e5",
   "metadata": {},
   "source": [
    "#### 1.2"
   ]
  },
  {
   "cell_type": "code",
   "execution_count": 4,
   "id": "695a1088-f70d-4518-a79c-7392a7130cc3",
   "metadata": {},
   "outputs": [
    {
     "data": {
      "text/plain": [
       "age         0\n",
       "sex         0\n",
       "cp          0\n",
       "trtbps      0\n",
       "chol        0\n",
       "fbs         0\n",
       "restecg     0\n",
       "thalachh    0\n",
       "exng        0\n",
       "oldpeak     0\n",
       "slp         0\n",
       "caa         0\n",
       "thall       0\n",
       "output      0\n",
       "dtype: int64"
      ]
     },
     "execution_count": 4,
     "metadata": {},
     "output_type": "execute_result"
    }
   ],
   "source": [
    "heart.isna().sum()"
   ]
  },
  {
   "cell_type": "code",
   "execution_count": 5,
   "id": "21e51cb2-2e14-4f55-bae4-a08f4568a21f",
   "metadata": {},
   "outputs": [
    {
     "data": {
      "text/plain": [
       "age           int64\n",
       "sex           int64\n",
       "cp            int64\n",
       "trtbps        int64\n",
       "chol          int64\n",
       "fbs           int64\n",
       "restecg       int64\n",
       "thalachh      int64\n",
       "exng          int64\n",
       "oldpeak     float64\n",
       "slp           int64\n",
       "caa           int64\n",
       "thall         int64\n",
       "output        int64\n",
       "dtype: object"
      ]
     },
     "execution_count": 5,
     "metadata": {},
     "output_type": "execute_result"
    }
   ],
   "source": [
    "heart.dtypes"
   ]
  },
  {
   "cell_type": "code",
   "execution_count": 6,
   "id": "066bc227-1d63-47a9-b39d-37cc70bb78b7",
   "metadata": {},
   "outputs": [
    {
     "data": {
      "text/html": [
       "<div>\n",
       "<style scoped>\n",
       "    .dataframe tbody tr th:only-of-type {\n",
       "        vertical-align: middle;\n",
       "    }\n",
       "\n",
       "    .dataframe tbody tr th {\n",
       "        vertical-align: top;\n",
       "    }\n",
       "\n",
       "    .dataframe thead th {\n",
       "        text-align: right;\n",
       "    }\n",
       "</style>\n",
       "<table border=\"1\" class=\"dataframe\">\n",
       "  <thead>\n",
       "    <tr style=\"text-align: right;\">\n",
       "      <th></th>\n",
       "      <th>age</th>\n",
       "      <th>sex</th>\n",
       "      <th>cp</th>\n",
       "      <th>trtbps</th>\n",
       "      <th>chol</th>\n",
       "      <th>fbs</th>\n",
       "      <th>restecg</th>\n",
       "      <th>thalachh</th>\n",
       "      <th>exng</th>\n",
       "      <th>oldpeak</th>\n",
       "      <th>slp</th>\n",
       "      <th>caa</th>\n",
       "      <th>thall</th>\n",
       "      <th>output</th>\n",
       "    </tr>\n",
       "  </thead>\n",
       "  <tbody>\n",
       "    <tr>\n",
       "      <th>count</th>\n",
       "      <td>303.000000</td>\n",
       "      <td>303.000000</td>\n",
       "      <td>303.000000</td>\n",
       "      <td>303.000000</td>\n",
       "      <td>303.000000</td>\n",
       "      <td>303.000000</td>\n",
       "      <td>303.000000</td>\n",
       "      <td>303.000000</td>\n",
       "      <td>303.000000</td>\n",
       "      <td>303.000000</td>\n",
       "      <td>303.000000</td>\n",
       "      <td>303.000000</td>\n",
       "      <td>303.000000</td>\n",
       "      <td>303.000000</td>\n",
       "    </tr>\n",
       "    <tr>\n",
       "      <th>mean</th>\n",
       "      <td>54.366337</td>\n",
       "      <td>0.683168</td>\n",
       "      <td>0.966997</td>\n",
       "      <td>131.623762</td>\n",
       "      <td>246.264026</td>\n",
       "      <td>0.148515</td>\n",
       "      <td>0.528053</td>\n",
       "      <td>149.646865</td>\n",
       "      <td>0.326733</td>\n",
       "      <td>1.039604</td>\n",
       "      <td>1.399340</td>\n",
       "      <td>0.729373</td>\n",
       "      <td>2.313531</td>\n",
       "      <td>0.544554</td>\n",
       "    </tr>\n",
       "    <tr>\n",
       "      <th>std</th>\n",
       "      <td>9.082101</td>\n",
       "      <td>0.466011</td>\n",
       "      <td>1.032052</td>\n",
       "      <td>17.538143</td>\n",
       "      <td>51.830751</td>\n",
       "      <td>0.356198</td>\n",
       "      <td>0.525860</td>\n",
       "      <td>22.905161</td>\n",
       "      <td>0.469794</td>\n",
       "      <td>1.161075</td>\n",
       "      <td>0.616226</td>\n",
       "      <td>1.022606</td>\n",
       "      <td>0.612277</td>\n",
       "      <td>0.498835</td>\n",
       "    </tr>\n",
       "    <tr>\n",
       "      <th>min</th>\n",
       "      <td>29.000000</td>\n",
       "      <td>0.000000</td>\n",
       "      <td>0.000000</td>\n",
       "      <td>94.000000</td>\n",
       "      <td>126.000000</td>\n",
       "      <td>0.000000</td>\n",
       "      <td>0.000000</td>\n",
       "      <td>71.000000</td>\n",
       "      <td>0.000000</td>\n",
       "      <td>0.000000</td>\n",
       "      <td>0.000000</td>\n",
       "      <td>0.000000</td>\n",
       "      <td>0.000000</td>\n",
       "      <td>0.000000</td>\n",
       "    </tr>\n",
       "    <tr>\n",
       "      <th>25%</th>\n",
       "      <td>47.500000</td>\n",
       "      <td>0.000000</td>\n",
       "      <td>0.000000</td>\n",
       "      <td>120.000000</td>\n",
       "      <td>211.000000</td>\n",
       "      <td>0.000000</td>\n",
       "      <td>0.000000</td>\n",
       "      <td>133.500000</td>\n",
       "      <td>0.000000</td>\n",
       "      <td>0.000000</td>\n",
       "      <td>1.000000</td>\n",
       "      <td>0.000000</td>\n",
       "      <td>2.000000</td>\n",
       "      <td>0.000000</td>\n",
       "    </tr>\n",
       "    <tr>\n",
       "      <th>50%</th>\n",
       "      <td>55.000000</td>\n",
       "      <td>1.000000</td>\n",
       "      <td>1.000000</td>\n",
       "      <td>130.000000</td>\n",
       "      <td>240.000000</td>\n",
       "      <td>0.000000</td>\n",
       "      <td>1.000000</td>\n",
       "      <td>153.000000</td>\n",
       "      <td>0.000000</td>\n",
       "      <td>0.800000</td>\n",
       "      <td>1.000000</td>\n",
       "      <td>0.000000</td>\n",
       "      <td>2.000000</td>\n",
       "      <td>1.000000</td>\n",
       "    </tr>\n",
       "    <tr>\n",
       "      <th>75%</th>\n",
       "      <td>61.000000</td>\n",
       "      <td>1.000000</td>\n",
       "      <td>2.000000</td>\n",
       "      <td>140.000000</td>\n",
       "      <td>274.500000</td>\n",
       "      <td>0.000000</td>\n",
       "      <td>1.000000</td>\n",
       "      <td>166.000000</td>\n",
       "      <td>1.000000</td>\n",
       "      <td>1.600000</td>\n",
       "      <td>2.000000</td>\n",
       "      <td>1.000000</td>\n",
       "      <td>3.000000</td>\n",
       "      <td>1.000000</td>\n",
       "    </tr>\n",
       "    <tr>\n",
       "      <th>max</th>\n",
       "      <td>77.000000</td>\n",
       "      <td>1.000000</td>\n",
       "      <td>3.000000</td>\n",
       "      <td>200.000000</td>\n",
       "      <td>564.000000</td>\n",
       "      <td>1.000000</td>\n",
       "      <td>2.000000</td>\n",
       "      <td>202.000000</td>\n",
       "      <td>1.000000</td>\n",
       "      <td>6.200000</td>\n",
       "      <td>2.000000</td>\n",
       "      <td>4.000000</td>\n",
       "      <td>3.000000</td>\n",
       "      <td>1.000000</td>\n",
       "    </tr>\n",
       "  </tbody>\n",
       "</table>\n",
       "</div>"
      ],
      "text/plain": [
       "              age         sex          cp      trtbps        chol         fbs  \\\n",
       "count  303.000000  303.000000  303.000000  303.000000  303.000000  303.000000   \n",
       "mean    54.366337    0.683168    0.966997  131.623762  246.264026    0.148515   \n",
       "std      9.082101    0.466011    1.032052   17.538143   51.830751    0.356198   \n",
       "min     29.000000    0.000000    0.000000   94.000000  126.000000    0.000000   \n",
       "25%     47.500000    0.000000    0.000000  120.000000  211.000000    0.000000   \n",
       "50%     55.000000    1.000000    1.000000  130.000000  240.000000    0.000000   \n",
       "75%     61.000000    1.000000    2.000000  140.000000  274.500000    0.000000   \n",
       "max     77.000000    1.000000    3.000000  200.000000  564.000000    1.000000   \n",
       "\n",
       "          restecg    thalachh        exng     oldpeak         slp         caa  \\\n",
       "count  303.000000  303.000000  303.000000  303.000000  303.000000  303.000000   \n",
       "mean     0.528053  149.646865    0.326733    1.039604    1.399340    0.729373   \n",
       "std      0.525860   22.905161    0.469794    1.161075    0.616226    1.022606   \n",
       "min      0.000000   71.000000    0.000000    0.000000    0.000000    0.000000   \n",
       "25%      0.000000  133.500000    0.000000    0.000000    1.000000    0.000000   \n",
       "50%      1.000000  153.000000    0.000000    0.800000    1.000000    0.000000   \n",
       "75%      1.000000  166.000000    1.000000    1.600000    2.000000    1.000000   \n",
       "max      2.000000  202.000000    1.000000    6.200000    2.000000    4.000000   \n",
       "\n",
       "            thall      output  \n",
       "count  303.000000  303.000000  \n",
       "mean     2.313531    0.544554  \n",
       "std      0.612277    0.498835  \n",
       "min      0.000000    0.000000  \n",
       "25%      2.000000    0.000000  \n",
       "50%      2.000000    1.000000  \n",
       "75%      3.000000    1.000000  \n",
       "max      3.000000    1.000000  "
      ]
     },
     "execution_count": 6,
     "metadata": {},
     "output_type": "execute_result"
    }
   ],
   "source": [
    "heart.describe()"
   ]
  },
  {
   "cell_type": "code",
   "execution_count": 7,
   "id": "3f9275e3-b526-4d2d-99a7-f2ca9bd3b02e",
   "metadata": {},
   "outputs": [
    {
     "data": {
      "text/plain": [
       "0.5445544554455446"
      ]
     },
     "execution_count": 7,
     "metadata": {},
     "output_type": "execute_result"
    }
   ],
   "source": [
    "heart[heart.output == 1].output.sum()/303 # calculating percentage of heart attack"
   ]
  },
  {
   "cell_type": "markdown",
   "id": "7555655c-c6f6-47e9-8818-23deff0d06fd",
   "metadata": {},
   "source": [
    "Categorical variables are sex, cp, fbs, restecg, exng, and output. And 54.45 percentage of these patients have heart attack. The differences between data and ducumentation is that cp is categorized as 0,1, 2, 3 instead of 1, 2, 3, 4. And caa is 0-4 instead of 0-3.\n",
    "#### 1.3\n",
    "Nominal variables are sex, cp, fbs, restecg, esng, caa and output. And caa might be ordinal variables.\n",
    "#### 1.4"
   ]
  },
  {
   "cell_type": "code",
   "execution_count": 10,
   "id": "c96b7fcd-281f-4f4f-a033-0be51f338da2",
   "metadata": {},
   "outputs": [
    {
     "name": "stdout",
     "output_type": "stream",
     "text": [
      "Optimization terminated successfully.\n",
      "         Current function value: 0.345478\n",
      "         Iterations 7\n"
     ]
    },
    {
     "data": {
      "text/html": [
       "<table class=\"simpletable\">\n",
       "<caption>Logit Regression Results</caption>\n",
       "<tr>\n",
       "  <th>Dep. Variable:</th>        <td>output</td>      <th>  No. Observations:  </th>  <td>   303</td>  \n",
       "</tr>\n",
       "<tr>\n",
       "  <th>Model:</th>                 <td>Logit</td>      <th>  Df Residuals:      </th>  <td>   286</td>  \n",
       "</tr>\n",
       "<tr>\n",
       "  <th>Method:</th>                 <td>MLE</td>       <th>  Df Model:          </th>  <td>    16</td>  \n",
       "</tr>\n",
       "<tr>\n",
       "  <th>Date:</th>            <td>Sat, 28 May 2022</td> <th>  Pseudo R-squ.:     </th>  <td>0.4987</td>  \n",
       "</tr>\n",
       "<tr>\n",
       "  <th>Time:</th>                <td>21:30:37</td>     <th>  Log-Likelihood:    </th> <td> -104.68</td> \n",
       "</tr>\n",
       "<tr>\n",
       "  <th>converged:</th>             <td>True</td>       <th>  LL-Null:           </th> <td> -208.82</td> \n",
       "</tr>\n",
       "<tr>\n",
       "  <th>Covariance Type:</th>     <td>nonrobust</td>    <th>  LLR p-value:       </th> <td>1.674e-35</td>\n",
       "</tr>\n",
       "</table>\n",
       "<table class=\"simpletable\">\n",
       "<tr>\n",
       "         <td></td>            <th>coef</th>     <th>std err</th>      <th>z</th>      <th>P>|z|</th>  <th>[0.025</th>    <th>0.975]</th>  \n",
       "</tr>\n",
       "<tr>\n",
       "  <th>Intercept</th>       <td>    3.2475</td> <td>    2.577</td> <td>    1.260</td> <td> 0.208</td> <td>   -1.804</td> <td>    8.299</td>\n",
       "</tr>\n",
       "<tr>\n",
       "  <th>C(sex)[T.1]</th>     <td>   -1.7661</td> <td>    0.477</td> <td>   -3.699</td> <td> 0.000</td> <td>   -2.702</td> <td>   -0.830</td>\n",
       "</tr>\n",
       "<tr>\n",
       "  <th>C(cp)[T.1]</th>      <td>    1.1925</td> <td>    0.544</td> <td>    2.192</td> <td> 0.028</td> <td>    0.126</td> <td>    2.259</td>\n",
       "</tr>\n",
       "<tr>\n",
       "  <th>C(cp)[T.2]</th>      <td>    2.0373</td> <td>    0.464</td> <td>    4.386</td> <td> 0.000</td> <td>    1.127</td> <td>    2.948</td>\n",
       "</tr>\n",
       "<tr>\n",
       "  <th>C(cp)[T.3]</th>      <td>    2.1519</td> <td>    0.633</td> <td>    3.400</td> <td> 0.001</td> <td>    0.911</td> <td>    3.392</td>\n",
       "</tr>\n",
       "<tr>\n",
       "  <th>C(fbs)[T.1]</th>     <td>   -0.0111</td> <td>    0.538</td> <td>   -0.021</td> <td> 0.984</td> <td>   -1.066</td> <td>    1.044</td>\n",
       "</tr>\n",
       "<tr>\n",
       "  <th>C(restecg)[T.1]</th> <td>    0.4970</td> <td>    0.363</td> <td>    1.370</td> <td> 0.171</td> <td>   -0.214</td> <td>    1.208</td>\n",
       "</tr>\n",
       "<tr>\n",
       "  <th>C(restecg)[T.2]</th> <td>   -0.3395</td> <td>    2.227</td> <td>   -0.152</td> <td> 0.879</td> <td>   -4.704</td> <td>    4.025</td>\n",
       "</tr>\n",
       "<tr>\n",
       "  <th>C(exng)[T.1]</th>    <td>   -0.9026</td> <td>    0.416</td> <td>   -2.169</td> <td> 0.030</td> <td>   -1.718</td> <td>   -0.087</td>\n",
       "</tr>\n",
       "<tr>\n",
       "  <th>age</th>             <td>   -0.0038</td> <td>    0.023</td> <td>   -0.163</td> <td> 0.871</td> <td>   -0.049</td> <td>    0.042</td>\n",
       "</tr>\n",
       "<tr>\n",
       "  <th>trtbps</th>          <td>   -0.0178</td> <td>    0.010</td> <td>   -1.707</td> <td> 0.088</td> <td>   -0.038</td> <td>    0.003</td>\n",
       "</tr>\n",
       "<tr>\n",
       "  <th>chol</th>            <td>   -0.0049</td> <td>    0.004</td> <td>   -1.274</td> <td> 0.203</td> <td>   -0.012</td> <td>    0.003</td>\n",
       "</tr>\n",
       "<tr>\n",
       "  <th>thalachh</th>        <td>    0.0220</td> <td>    0.011</td> <td>    2.097</td> <td> 0.036</td> <td>    0.001</td> <td>    0.043</td>\n",
       "</tr>\n",
       "<tr>\n",
       "  <th>caa</th>             <td>   -0.7898</td> <td>    0.194</td> <td>   -4.069</td> <td> 0.000</td> <td>   -1.170</td> <td>   -0.409</td>\n",
       "</tr>\n",
       "<tr>\n",
       "  <th>slp</th>             <td>    0.5783</td> <td>    0.355</td> <td>    1.630</td> <td> 0.103</td> <td>   -0.117</td> <td>    1.274</td>\n",
       "</tr>\n",
       "<tr>\n",
       "  <th>oldpeak</th>         <td>   -0.4956</td> <td>    0.220</td> <td>   -2.250</td> <td> 0.024</td> <td>   -0.927</td> <td>   -0.064</td>\n",
       "</tr>\n",
       "<tr>\n",
       "  <th>thall</th>           <td>   -0.8875</td> <td>    0.292</td> <td>   -3.040</td> <td> 0.002</td> <td>   -1.460</td> <td>   -0.315</td>\n",
       "</tr>\n",
       "</table>"
      ],
      "text/plain": [
       "<class 'statsmodels.iolib.summary.Summary'>\n",
       "\"\"\"\n",
       "                           Logit Regression Results                           \n",
       "==============================================================================\n",
       "Dep. Variable:                 output   No. Observations:                  303\n",
       "Model:                          Logit   Df Residuals:                      286\n",
       "Method:                           MLE   Df Model:                           16\n",
       "Date:                Sat, 28 May 2022   Pseudo R-squ.:                  0.4987\n",
       "Time:                        21:30:37   Log-Likelihood:                -104.68\n",
       "converged:                       True   LL-Null:                       -208.82\n",
       "Covariance Type:            nonrobust   LLR p-value:                 1.674e-35\n",
       "===================================================================================\n",
       "                      coef    std err          z      P>|z|      [0.025      0.975]\n",
       "-----------------------------------------------------------------------------------\n",
       "Intercept           3.2475      2.577      1.260      0.208      -1.804       8.299\n",
       "C(sex)[T.1]        -1.7661      0.477     -3.699      0.000      -2.702      -0.830\n",
       "C(cp)[T.1]          1.1925      0.544      2.192      0.028       0.126       2.259\n",
       "C(cp)[T.2]          2.0373      0.464      4.386      0.000       1.127       2.948\n",
       "C(cp)[T.3]          2.1519      0.633      3.400      0.001       0.911       3.392\n",
       "C(fbs)[T.1]        -0.0111      0.538     -0.021      0.984      -1.066       1.044\n",
       "C(restecg)[T.1]     0.4970      0.363      1.370      0.171      -0.214       1.208\n",
       "C(restecg)[T.2]    -0.3395      2.227     -0.152      0.879      -4.704       4.025\n",
       "C(exng)[T.1]       -0.9026      0.416     -2.169      0.030      -1.718      -0.087\n",
       "age                -0.0038      0.023     -0.163      0.871      -0.049       0.042\n",
       "trtbps             -0.0178      0.010     -1.707      0.088      -0.038       0.003\n",
       "chol               -0.0049      0.004     -1.274      0.203      -0.012       0.003\n",
       "thalachh            0.0220      0.011      2.097      0.036       0.001       0.043\n",
       "caa                -0.7898      0.194     -4.069      0.000      -1.170      -0.409\n",
       "slp                 0.5783      0.355      1.630      0.103      -0.117       1.274\n",
       "oldpeak            -0.4956      0.220     -2.250      0.024      -0.927      -0.064\n",
       "thall              -0.8875      0.292     -3.040      0.002      -1.460      -0.315\n",
       "===================================================================================\n",
       "\"\"\""
      ]
     },
     "execution_count": 10,
     "metadata": {},
     "output_type": "execute_result"
    }
   ],
   "source": [
    "m1 = smf.logit(\"output ~ age + C(sex) + C(cp) + trtbps + chol + C(fbs) + C(restecg) + thalachh + C(exng) + caa + slp + oldpeak + thall\", data = heart).fit()\n",
    "m1.summary()"
   ]
  },
  {
   "cell_type": "markdown",
   "id": "7d1f3db5-b013-4508-8d30-a5bb939c7cbb",
   "metadata": {},
   "source": [
    "#### 1.5"
   ]
  },
  {
   "cell_type": "code",
   "execution_count": 11,
   "id": "be385ea0-17e2-414e-8eea-0ce133e70a88",
   "metadata": {},
   "outputs": [
    {
     "data": {
      "text/html": [
       "<table class=\"simpletable\">\n",
       "<caption>Logit Marginal Effects</caption>\n",
       "<tr>\n",
       "  <th>Dep. Variable:</th> <td>output</td> \n",
       "</tr>\n",
       "<tr>\n",
       "  <th>Method:</th>         <td>dydx</td>  \n",
       "</tr>\n",
       "<tr>\n",
       "  <th>At:</th>            <td>overall</td>\n",
       "</tr>\n",
       "</table>\n",
       "<table class=\"simpletable\">\n",
       "<tr>\n",
       "         <th></th>            <th>dy/dx</th>    <th>std err</th>      <th>z</th>      <th>P>|z|</th>  <th>[0.025</th>    <th>0.975]</th>  \n",
       "</tr>\n",
       "<tr>\n",
       "  <th>C(sex)[T.1]</th>     <td>   -0.1920</td> <td>    0.048</td> <td>   -4.013</td> <td> 0.000</td> <td>   -0.286</td> <td>   -0.098</td>\n",
       "</tr>\n",
       "<tr>\n",
       "  <th>C(cp)[T.1]</th>      <td>    0.1297</td> <td>    0.057</td> <td>    2.266</td> <td> 0.023</td> <td>    0.018</td> <td>    0.242</td>\n",
       "</tr>\n",
       "<tr>\n",
       "  <th>C(cp)[T.2]</th>      <td>    0.2215</td> <td>    0.044</td> <td>    4.983</td> <td> 0.000</td> <td>    0.134</td> <td>    0.309</td>\n",
       "</tr>\n",
       "<tr>\n",
       "  <th>C(cp)[T.3]</th>      <td>    0.2340</td> <td>    0.064</td> <td>    3.674</td> <td> 0.000</td> <td>    0.109</td> <td>    0.359</td>\n",
       "</tr>\n",
       "<tr>\n",
       "  <th>C(fbs)[T.1]</th>     <td>   -0.0012</td> <td>    0.059</td> <td>   -0.021</td> <td> 0.984</td> <td>   -0.116</td> <td>    0.114</td>\n",
       "</tr>\n",
       "<tr>\n",
       "  <th>C(restecg)[T.1]</th> <td>    0.0540</td> <td>    0.039</td> <td>    1.383</td> <td> 0.167</td> <td>   -0.023</td> <td>    0.131</td>\n",
       "</tr>\n",
       "<tr>\n",
       "  <th>C(restecg)[T.2]</th> <td>   -0.0369</td> <td>    0.242</td> <td>   -0.152</td> <td> 0.879</td> <td>   -0.511</td> <td>    0.438</td>\n",
       "</tr>\n",
       "<tr>\n",
       "  <th>C(exng)[T.1]</th>    <td>   -0.0981</td> <td>    0.044</td> <td>   -2.237</td> <td> 0.025</td> <td>   -0.184</td> <td>   -0.012</td>\n",
       "</tr>\n",
       "<tr>\n",
       "  <th>age</th>             <td>   -0.0004</td> <td>    0.003</td> <td>   -0.163</td> <td> 0.871</td> <td>   -0.005</td> <td>    0.005</td>\n",
       "</tr>\n",
       "<tr>\n",
       "  <th>trtbps</th>          <td>   -0.0019</td> <td>    0.001</td> <td>   -1.736</td> <td> 0.083</td> <td>   -0.004</td> <td>    0.000</td>\n",
       "</tr>\n",
       "<tr>\n",
       "  <th>chol</th>            <td>   -0.0005</td> <td>    0.000</td> <td>   -1.285</td> <td> 0.199</td> <td>   -0.001</td> <td>    0.000</td>\n",
       "</tr>\n",
       "<tr>\n",
       "  <th>thalachh</th>        <td>    0.0024</td> <td>    0.001</td> <td>    2.150</td> <td> 0.032</td> <td>    0.000</td> <td>    0.005</td>\n",
       "</tr>\n",
       "<tr>\n",
       "  <th>caa</th>             <td>   -0.0859</td> <td>    0.019</td> <td>   -4.533</td> <td> 0.000</td> <td>   -0.123</td> <td>   -0.049</td>\n",
       "</tr>\n",
       "<tr>\n",
       "  <th>slp</th>             <td>    0.0629</td> <td>    0.038</td> <td>    1.652</td> <td> 0.098</td> <td>   -0.012</td> <td>    0.137</td>\n",
       "</tr>\n",
       "<tr>\n",
       "  <th>oldpeak</th>         <td>   -0.0539</td> <td>    0.023</td> <td>   -2.322</td> <td> 0.020</td> <td>   -0.099</td> <td>   -0.008</td>\n",
       "</tr>\n",
       "<tr>\n",
       "  <th>thall</th>           <td>   -0.0965</td> <td>    0.030</td> <td>   -3.226</td> <td> 0.001</td> <td>   -0.155</td> <td>   -0.038</td>\n",
       "</tr>\n",
       "</table>"
      ],
      "text/plain": [
       "<class 'statsmodels.iolib.summary.Summary'>\n",
       "\"\"\"\n",
       "        Logit Marginal Effects       \n",
       "=====================================\n",
       "Dep. Variable:                 output\n",
       "Method:                          dydx\n",
       "At:                           overall\n",
       "===================================================================================\n",
       "                     dy/dx    std err          z      P>|z|      [0.025      0.975]\n",
       "-----------------------------------------------------------------------------------\n",
       "C(sex)[T.1]        -0.1920      0.048     -4.013      0.000      -0.286      -0.098\n",
       "C(cp)[T.1]          0.1297      0.057      2.266      0.023       0.018       0.242\n",
       "C(cp)[T.2]          0.2215      0.044      4.983      0.000       0.134       0.309\n",
       "C(cp)[T.3]          0.2340      0.064      3.674      0.000       0.109       0.359\n",
       "C(fbs)[T.1]        -0.0012      0.059     -0.021      0.984      -0.116       0.114\n",
       "C(restecg)[T.1]     0.0540      0.039      1.383      0.167      -0.023       0.131\n",
       "C(restecg)[T.2]    -0.0369      0.242     -0.152      0.879      -0.511       0.438\n",
       "C(exng)[T.1]       -0.0981      0.044     -2.237      0.025      -0.184      -0.012\n",
       "age                -0.0004      0.003     -0.163      0.871      -0.005       0.005\n",
       "trtbps             -0.0019      0.001     -1.736      0.083      -0.004       0.000\n",
       "chol               -0.0005      0.000     -1.285      0.199      -0.001       0.000\n",
       "thalachh            0.0024      0.001      2.150      0.032       0.000       0.005\n",
       "caa                -0.0859      0.019     -4.533      0.000      -0.123      -0.049\n",
       "slp                 0.0629      0.038      1.652      0.098      -0.012       0.137\n",
       "oldpeak            -0.0539      0.023     -2.322      0.020      -0.099      -0.008\n",
       "thall              -0.0965      0.030     -3.226      0.001      -0.155      -0.038\n",
       "===================================================================================\n",
       "\"\"\""
      ]
     },
     "execution_count": 11,
     "metadata": {},
     "output_type": "execute_result"
    }
   ],
   "source": [
    "m1.get_margeff().summary()"
   ]
  },
  {
   "cell_type": "markdown",
   "id": "ab95d07b-a272-4dff-a900-7003a79463c9",
   "metadata": {},
   "source": [
    "#### 1.6\n",
    "#### (a)\n",
    "People that is one year older have 0.04 percentage low in probability to get a heart attack. This variable is not statistically significant as 0.871 > 0.05.\n",
    "#### (b)\n",
    "People with sex equals 1, that are males, have 19.2 percentage lower in probability to get heart attack. And this variable is statistically significant. Sex equals 0, female, is the reference category.\n",
    "#### (c)\n",
    "For cp variable, the cp = 0 category is used as reference category, though unclear which kind of chest pain this category is corresponding to as there is no such category in variable specification. For the logistic regression all cp categories are statistically significant. And as the pain category goes from 0 to 3, the chance for having heart attack also increases.\n",
    "#### (d)\n",
    "Sex = 1, fbs = 1, restecg = 2, exng = 1, age, trtbps, caa, oldpeak, and thall are variables associated with lower chance of heart attack. And thall, oldpeak, caa, exng, and sex = 1 are statistically significant. These kind of do not make sense, as these variable seems to be unrelated to heart attack.\n",
    "#### 1.7"
   ]
  },
  {
   "cell_type": "code",
   "execution_count": 12,
   "id": "c638a407-c1bd-453a-abe3-8475a54e9b7a",
   "metadata": {},
   "outputs": [
    {
     "data": {
      "text/html": [
       "<div>\n",
       "<style scoped>\n",
       "    .dataframe tbody tr th:only-of-type {\n",
       "        vertical-align: middle;\n",
       "    }\n",
       "\n",
       "    .dataframe tbody tr th {\n",
       "        vertical-align: top;\n",
       "    }\n",
       "\n",
       "    .dataframe thead th {\n",
       "        text-align: right;\n",
       "    }\n",
       "</style>\n",
       "<table border=\"1\" class=\"dataframe\">\n",
       "  <thead>\n",
       "    <tr style=\"text-align: right;\">\n",
       "      <th></th>\n",
       "      <th>age</th>\n",
       "      <th>sex</th>\n",
       "      <th>cp</th>\n",
       "      <th>trtbps</th>\n",
       "      <th>chol</th>\n",
       "      <th>fbs</th>\n",
       "      <th>restecg</th>\n",
       "      <th>thalachh</th>\n",
       "      <th>exng</th>\n",
       "      <th>oldpeak</th>\n",
       "      <th>slp</th>\n",
       "      <th>caa</th>\n",
       "      <th>thall</th>\n",
       "      <th>output</th>\n",
       "      <th>age_category</th>\n",
       "    </tr>\n",
       "  </thead>\n",
       "  <tbody>\n",
       "    <tr>\n",
       "      <th>0</th>\n",
       "      <td>63</td>\n",
       "      <td>1</td>\n",
       "      <td>3</td>\n",
       "      <td>145</td>\n",
       "      <td>233</td>\n",
       "      <td>1</td>\n",
       "      <td>0</td>\n",
       "      <td>150</td>\n",
       "      <td>0</td>\n",
       "      <td>2.3</td>\n",
       "      <td>0</td>\n",
       "      <td>0</td>\n",
       "      <td>1</td>\n",
       "      <td>1</td>\n",
       "      <td>55 - 65</td>\n",
       "    </tr>\n",
       "    <tr>\n",
       "      <th>1</th>\n",
       "      <td>37</td>\n",
       "      <td>1</td>\n",
       "      <td>2</td>\n",
       "      <td>130</td>\n",
       "      <td>250</td>\n",
       "      <td>0</td>\n",
       "      <td>1</td>\n",
       "      <td>187</td>\n",
       "      <td>0</td>\n",
       "      <td>3.5</td>\n",
       "      <td>0</td>\n",
       "      <td>0</td>\n",
       "      <td>2</td>\n",
       "      <td>1</td>\n",
       "      <td>0 - 40</td>\n",
       "    </tr>\n",
       "    <tr>\n",
       "      <th>2</th>\n",
       "      <td>41</td>\n",
       "      <td>0</td>\n",
       "      <td>1</td>\n",
       "      <td>130</td>\n",
       "      <td>204</td>\n",
       "      <td>0</td>\n",
       "      <td>0</td>\n",
       "      <td>172</td>\n",
       "      <td>0</td>\n",
       "      <td>1.4</td>\n",
       "      <td>2</td>\n",
       "      <td>0</td>\n",
       "      <td>2</td>\n",
       "      <td>1</td>\n",
       "      <td>40 - 55</td>\n",
       "    </tr>\n",
       "  </tbody>\n",
       "</table>\n",
       "</div>"
      ],
      "text/plain": [
       "   age  sex  cp  trtbps  chol  fbs  restecg  thalachh  exng  oldpeak  slp  \\\n",
       "0   63    1   3     145   233    1        0       150     0      2.3    0   \n",
       "1   37    1   2     130   250    0        1       187     0      3.5    0   \n",
       "2   41    0   1     130   204    0        0       172     0      1.4    2   \n",
       "\n",
       "   caa  thall  output age_category  \n",
       "0    0      1       1      55 - 65  \n",
       "1    0      2       1       0 - 40  \n",
       "2    0      2       1      40 - 55  "
      ]
     },
     "execution_count": 12,
     "metadata": {},
     "output_type": "execute_result"
    }
   ],
   "source": [
    "heart[\"age_category\"] = pd.cut(heart.age,\n",
    "                                      bins = [ 0, 40, 55, 65, 100], \n",
    "                                      labels = [\"0 - 40\", \"40 - 55\", \"55 - 65\", \"65 - 100\"],\n",
    "                                      right = False)\n",
    "heart.head(3)"
   ]
  },
  {
   "cell_type": "code",
   "execution_count": 13,
   "id": "2ec5c58f-d0f2-4345-a566-5c9ca510990a",
   "metadata": {},
   "outputs": [
    {
     "name": "stdout",
     "output_type": "stream",
     "text": [
      "Optimization terminated successfully.\n",
      "         Current function value: 0.643033\n",
      "         Iterations 5\n"
     ]
    },
    {
     "data": {
      "text/html": [
       "<table class=\"simpletable\">\n",
       "<caption>Logit Marginal Effects</caption>\n",
       "<tr>\n",
       "  <th>Dep. Variable:</th> <td>output</td> \n",
       "</tr>\n",
       "<tr>\n",
       "  <th>Method:</th>         <td>dydx</td>  \n",
       "</tr>\n",
       "<tr>\n",
       "  <th>At:</th>            <td>overall</td>\n",
       "</tr>\n",
       "</table>\n",
       "<table class=\"simpletable\">\n",
       "<tr>\n",
       "               <th></th>                  <th>dy/dx</th>    <th>std err</th>      <th>z</th>      <th>P>|z|</th>  <th>[0.025</th>    <th>0.975]</th>  \n",
       "</tr>\n",
       "<tr>\n",
       "  <th>C(age_category)[T.40 - 55]</th>  <td>   -0.0700</td> <td>    0.137</td> <td>   -0.511</td> <td> 0.609</td> <td>   -0.338</td> <td>    0.198</td>\n",
       "</tr>\n",
       "<tr>\n",
       "  <th>C(age_category)[T.55 - 65]</th>  <td>   -0.3650</td> <td>    0.131</td> <td>   -2.786</td> <td> 0.005</td> <td>   -0.622</td> <td>   -0.108</td>\n",
       "</tr>\n",
       "<tr>\n",
       "  <th>C(age_category)[T.65 - 100]</th> <td>   -0.2368</td> <td>    0.146</td> <td>   -1.624</td> <td> 0.104</td> <td>   -0.523</td> <td>    0.049</td>\n",
       "</tr>\n",
       "</table>"
      ],
      "text/plain": [
       "<class 'statsmodels.iolib.summary.Summary'>\n",
       "\"\"\"\n",
       "        Logit Marginal Effects       \n",
       "=====================================\n",
       "Dep. Variable:                 output\n",
       "Method:                          dydx\n",
       "At:                           overall\n",
       "===============================================================================================\n",
       "                                 dy/dx    std err          z      P>|z|      [0.025      0.975]\n",
       "-----------------------------------------------------------------------------------------------\n",
       "C(age_category)[T.40 - 55]     -0.0700      0.137     -0.511      0.609      -0.338       0.198\n",
       "C(age_category)[T.55 - 65]     -0.3650      0.131     -2.786      0.005      -0.622      -0.108\n",
       "C(age_category)[T.65 - 100]    -0.2368      0.146     -1.624      0.104      -0.523       0.049\n",
       "===============================================================================================\n",
       "\"\"\""
      ]
     },
     "execution_count": 13,
     "metadata": {},
     "output_type": "execute_result"
    }
   ],
   "source": [
    "m2 = smf.logit(\"output ~ C(age_category)\", data = heart).fit()\n",
    "m2.get_margeff().summary()"
   ]
  },
  {
   "cell_type": "markdown",
   "id": "f66ea48a-282e-47c1-bf41-1c5f0ae05fb8",
   "metadata": {},
   "source": [
    "Age group 0 to 40 is the reference category.\n",
    "#### 1.8\n",
    "The heart attack probability is falling in age. And the reason why is that this data only includes who had heart attack before and those got killed by heart attack directly is not inclueded in this data. And old people who had heart attack is more likely got killed thus not included in this dataset, which means the old poeple in this data are more likely to be those who had no heart attack \n",
    "#### 1.9\n",
    "#### (a)"
   ]
  },
  {
   "cell_type": "code",
   "execution_count": 14,
   "id": "767da049-3b8c-4a34-9e5a-3b8244cbb9f7",
   "metadata": {},
   "outputs": [
    {
     "data": {
      "text/plain": [
       "array([0.71802931, 0.71976376, 0.96909372, 0.92888982, 0.80630678,\n",
       "       0.7465016 , 0.86069741, 0.86779617, 0.82969012, 0.93854501])"
      ]
     },
     "execution_count": 14,
     "metadata": {},
     "output_type": "execute_result"
    }
   ],
   "source": [
    "prediction_prob = m1.predict()\n",
    "prediction_prob[:10]"
   ]
  },
  {
   "cell_type": "markdown",
   "id": "fe57a36c-a4c5-4376-aade-517e184c1b97",
   "metadata": {},
   "source": [
    "#### (b)"
   ]
  },
  {
   "cell_type": "code",
   "execution_count": 15,
   "id": "4f91d247-cb77-4a6f-9a13-5996c45c235e",
   "metadata": {},
   "outputs": [
    {
     "data": {
      "text/plain": [
       "array([False, False, False, False, False, False, False, False, False,\n",
       "       False])"
      ]
     },
     "execution_count": 15,
     "metadata": {},
     "output_type": "execute_result"
    }
   ],
   "source": [
    "prediction = prediction_prob < 0.5\n",
    "prediction[:10]"
   ]
  },
  {
   "cell_type": "markdown",
   "id": "b5821de5-df50-4e33-918c-bb3fba226393",
   "metadata": {},
   "source": [
    "#### (c)"
   ]
  },
  {
   "cell_type": "code",
   "execution_count": 16,
   "id": "caa7deb4-f85c-4562-9b09-6c7310e7b13b",
   "metadata": {},
   "outputs": [
    {
     "data": {
      "text/html": [
       "<div>\n",
       "<style scoped>\n",
       "    .dataframe tbody tr th:only-of-type {\n",
       "        vertical-align: middle;\n",
       "    }\n",
       "\n",
       "    .dataframe tbody tr th {\n",
       "        vertical-align: top;\n",
       "    }\n",
       "\n",
       "    .dataframe thead th {\n",
       "        text-align: right;\n",
       "    }\n",
       "</style>\n",
       "<table border=\"1\" class=\"dataframe\">\n",
       "  <thead>\n",
       "    <tr style=\"text-align: right;\">\n",
       "      <th></th>\n",
       "      <th>age</th>\n",
       "      <th>sex</th>\n",
       "      <th>cp</th>\n",
       "      <th>trtbps</th>\n",
       "      <th>chol</th>\n",
       "      <th>fbs</th>\n",
       "      <th>restecg</th>\n",
       "      <th>thalachh</th>\n",
       "      <th>exng</th>\n",
       "      <th>oldpeak</th>\n",
       "      <th>slp</th>\n",
       "      <th>caa</th>\n",
       "      <th>thall</th>\n",
       "    </tr>\n",
       "  </thead>\n",
       "  <tbody>\n",
       "    <tr>\n",
       "      <th>0</th>\n",
       "      <td>60</td>\n",
       "      <td>1</td>\n",
       "      <td>2</td>\n",
       "      <td>125</td>\n",
       "      <td>250</td>\n",
       "      <td>0</td>\n",
       "      <td>2</td>\n",
       "      <td>149.646865</td>\n",
       "      <td>0</td>\n",
       "      <td>1.039604</td>\n",
       "      <td>1.39934</td>\n",
       "      <td>0.729373</td>\n",
       "      <td>2.313531</td>\n",
       "    </tr>\n",
       "  </tbody>\n",
       "</table>\n",
       "</div>"
      ],
      "text/plain": [
       "   age  sex  cp  trtbps  chol  fbs  restecg    thalachh  exng   oldpeak  \\\n",
       "0   60    1   2     125   250    0        2  149.646865     0  1.039604   \n",
       "\n",
       "       slp       caa     thall  \n",
       "0  1.39934  0.729373  2.313531  "
      ]
     },
     "execution_count": 16,
     "metadata": {},
     "output_type": "execute_result"
    }
   ],
   "source": [
    "newData = pd.DataFrame({\"age\": 60, \"sex\": 1, \"cp\": 2, \"trtbps\": 125, \"chol\": 250, \"fbs\": 0, \"restecg\": 2, \"thalachh\": heart.thalachh.mean(), \"exng\": 0,\n",
    "                        \"oldpeak\": heart.oldpeak.mean(), \"slp\": heart.slp.mean(), \"caa\": heart.caa.mean(), \"thall\": heart.thall.mean()},\n",
    "                       index = [0])\n",
    "newData"
   ]
  },
  {
   "cell_type": "code",
   "execution_count": 17,
   "id": "7f9dc9d8-adf0-4a3d-9708-8935518435e6",
   "metadata": {},
   "outputs": [
    {
     "data": {
      "text/plain": [
       "0    0.613006\n",
       "dtype: float64"
      ]
     },
     "execution_count": 17,
     "metadata": {},
     "output_type": "execute_result"
    }
   ],
   "source": [
    "m1.predict(newData)"
   ]
  },
  {
   "cell_type": "markdown",
   "id": "9d841ae2-97b9-4d40-8ce3-6ffe7cb5551c",
   "metadata": {},
   "source": [
    "AS 0.613 > 0.5, this 60 year old man is likely to have heart attack."
   ]
  },
  {
   "cell_type": "markdown",
   "id": "1cb298d3-73d6-407a-bb5b-9c1dece88b0c",
   "metadata": {},
   "source": [
    "#### (d)"
   ]
  },
  {
   "cell_type": "code",
   "execution_count": 104,
   "id": "5d5bb2c9-89ea-428b-997b-ea1519b83bd5",
   "metadata": {},
   "outputs": [
    {
     "data": {
      "text/html": [
       "<div>\n",
       "<style scoped>\n",
       "    .dataframe tbody tr th:only-of-type {\n",
       "        vertical-align: middle;\n",
       "    }\n",
       "\n",
       "    .dataframe tbody tr th {\n",
       "        vertical-align: top;\n",
       "    }\n",
       "\n",
       "    .dataframe thead th {\n",
       "        text-align: right;\n",
       "    }\n",
       "</style>\n",
       "<table border=\"1\" class=\"dataframe\">\n",
       "  <thead>\n",
       "    <tr style=\"text-align: right;\">\n",
       "      <th>col_0</th>\n",
       "      <th>0</th>\n",
       "      <th>1</th>\n",
       "    </tr>\n",
       "    <tr>\n",
       "      <th>output</th>\n",
       "      <th></th>\n",
       "      <th></th>\n",
       "    </tr>\n",
       "  </thead>\n",
       "  <tbody>\n",
       "    <tr>\n",
       "      <th>0</th>\n",
       "      <td>30</td>\n",
       "      <td>108</td>\n",
       "    </tr>\n",
       "    <tr>\n",
       "      <th>1</th>\n",
       "      <td>151</td>\n",
       "      <td>14</td>\n",
       "    </tr>\n",
       "  </tbody>\n",
       "</table>\n",
       "</div>"
      ],
      "text/plain": [
       "col_0     0    1\n",
       "output          \n",
       "0        30  108\n",
       "1       151   14"
      ]
     },
     "execution_count": 104,
     "metadata": {},
     "output_type": "execute_result"
    }
   ],
   "source": [
    "cm = pd.crosstab(heart.output, prediction+0)\n",
    "cm"
   ]
  },
  {
   "cell_type": "code",
   "execution_count": 122,
   "id": "6e18ca80-b3f7-4550-bd42-bedfd6b61d0a",
   "metadata": {},
   "outputs": [
    {
     "data": {
      "text/plain": [
       "0.14521452145214522"
      ]
     },
     "execution_count": 122,
     "metadata": {},
     "output_type": "execute_result"
    }
   ],
   "source": [
    "from sklearn.metrics import accuracy_score\n",
    "accuracy_score(heart.output, prediction)"
   ]
  },
  {
   "cell_type": "markdown",
   "id": "f992c6db-d1bc-4f1d-bc7f-d999c2f6961d",
   "metadata": {},
   "source": [
    "The accuracy is approximately 0.125."
   ]
  },
  {
   "cell_type": "markdown",
   "id": "d886a439-6be1-43bc-9d3e-9686614b5785",
   "metadata": {},
   "source": [
    "## Heart atttack: predictive modeling\n",
    "#### 2.1"
   ]
  },
  {
   "cell_type": "code",
   "execution_count": 50,
   "id": "37f32236-64ea-46c8-86f4-596563941e2b",
   "metadata": {},
   "outputs": [
    {
     "data": {
      "text/html": [
       "<div>\n",
       "<style scoped>\n",
       "    .dataframe tbody tr th:only-of-type {\n",
       "        vertical-align: middle;\n",
       "    }\n",
       "\n",
       "    .dataframe tbody tr th {\n",
       "        vertical-align: top;\n",
       "    }\n",
       "\n",
       "    .dataframe thead th {\n",
       "        text-align: right;\n",
       "    }\n",
       "</style>\n",
       "<table border=\"1\" class=\"dataframe\">\n",
       "  <thead>\n",
       "    <tr style=\"text-align: right;\">\n",
       "      <th></th>\n",
       "      <th>age</th>\n",
       "      <th>trtbps</th>\n",
       "      <th>chol</th>\n",
       "      <th>thalachh</th>\n",
       "      <th>oldpeak</th>\n",
       "      <th>slp</th>\n",
       "      <th>caa</th>\n",
       "      <th>thall</th>\n",
       "      <th>sex_1</th>\n",
       "      <th>cp_1</th>\n",
       "      <th>cp_2</th>\n",
       "      <th>cp_3</th>\n",
       "      <th>fbs_1</th>\n",
       "      <th>restecg_1</th>\n",
       "      <th>restecg_2</th>\n",
       "      <th>exng_1</th>\n",
       "    </tr>\n",
       "  </thead>\n",
       "  <tbody>\n",
       "    <tr>\n",
       "      <th>0</th>\n",
       "      <td>63</td>\n",
       "      <td>145</td>\n",
       "      <td>233</td>\n",
       "      <td>150</td>\n",
       "      <td>2.3</td>\n",
       "      <td>0</td>\n",
       "      <td>0</td>\n",
       "      <td>1</td>\n",
       "      <td>1</td>\n",
       "      <td>0</td>\n",
       "      <td>0</td>\n",
       "      <td>1</td>\n",
       "      <td>1</td>\n",
       "      <td>0</td>\n",
       "      <td>0</td>\n",
       "      <td>0</td>\n",
       "    </tr>\n",
       "    <tr>\n",
       "      <th>1</th>\n",
       "      <td>37</td>\n",
       "      <td>130</td>\n",
       "      <td>250</td>\n",
       "      <td>187</td>\n",
       "      <td>3.5</td>\n",
       "      <td>0</td>\n",
       "      <td>0</td>\n",
       "      <td>2</td>\n",
       "      <td>1</td>\n",
       "      <td>0</td>\n",
       "      <td>1</td>\n",
       "      <td>0</td>\n",
       "      <td>0</td>\n",
       "      <td>1</td>\n",
       "      <td>0</td>\n",
       "      <td>0</td>\n",
       "    </tr>\n",
       "    <tr>\n",
       "      <th>2</th>\n",
       "      <td>41</td>\n",
       "      <td>130</td>\n",
       "      <td>204</td>\n",
       "      <td>172</td>\n",
       "      <td>1.4</td>\n",
       "      <td>2</td>\n",
       "      <td>0</td>\n",
       "      <td>2</td>\n",
       "      <td>0</td>\n",
       "      <td>1</td>\n",
       "      <td>0</td>\n",
       "      <td>0</td>\n",
       "      <td>0</td>\n",
       "      <td>0</td>\n",
       "      <td>0</td>\n",
       "      <td>0</td>\n",
       "    </tr>\n",
       "    <tr>\n",
       "      <th>3</th>\n",
       "      <td>56</td>\n",
       "      <td>120</td>\n",
       "      <td>236</td>\n",
       "      <td>178</td>\n",
       "      <td>0.8</td>\n",
       "      <td>2</td>\n",
       "      <td>0</td>\n",
       "      <td>2</td>\n",
       "      <td>1</td>\n",
       "      <td>1</td>\n",
       "      <td>0</td>\n",
       "      <td>0</td>\n",
       "      <td>0</td>\n",
       "      <td>1</td>\n",
       "      <td>0</td>\n",
       "      <td>0</td>\n",
       "    </tr>\n",
       "    <tr>\n",
       "      <th>4</th>\n",
       "      <td>57</td>\n",
       "      <td>120</td>\n",
       "      <td>354</td>\n",
       "      <td>163</td>\n",
       "      <td>0.6</td>\n",
       "      <td>2</td>\n",
       "      <td>0</td>\n",
       "      <td>2</td>\n",
       "      <td>0</td>\n",
       "      <td>0</td>\n",
       "      <td>0</td>\n",
       "      <td>0</td>\n",
       "      <td>0</td>\n",
       "      <td>1</td>\n",
       "      <td>0</td>\n",
       "      <td>1</td>\n",
       "    </tr>\n",
       "  </tbody>\n",
       "</table>\n",
       "</div>"
      ],
      "text/plain": [
       "   age  trtbps  chol  thalachh  oldpeak  slp  caa  thall  sex_1  cp_1  cp_2  \\\n",
       "0   63     145   233       150      2.3    0    0      1      1     0     0   \n",
       "1   37     130   250       187      3.5    0    0      2      1     0     1   \n",
       "2   41     130   204       172      1.4    2    0      2      0     1     0   \n",
       "3   56     120   236       178      0.8    2    0      2      1     1     0   \n",
       "4   57     120   354       163      0.6    2    0      2      0     0     0   \n",
       "\n",
       "   cp_3  fbs_1  restecg_1  restecg_2  exng_1  \n",
       "0     1      1          0          0       0  \n",
       "1     0      0          1          0       0  \n",
       "2     0      0          0          0       0  \n",
       "3     0      0          1          0       0  \n",
       "4     0      0          1          0       1  "
      ]
     },
     "execution_count": 50,
     "metadata": {},
     "output_type": "execute_result"
    }
   ],
   "source": [
    "y = heart.output\n",
    "X = heart.drop([\"output\"], axis = 1)\n",
    "\n",
    "# create dummies for categorical variables\n",
    "X[\"sex\"] = pd.cut(X.sex, \n",
    "                  bins = [ 0, 1, np.inf], \n",
    "                  labels = [\"0\", \"1\"],\n",
    "                  right = False)\n",
    "X[\"cp\"] = pd.cut(X.cp, \n",
    "                  bins = [ 0, 1, 2, 3, np.inf], \n",
    "                  labels = [\"0\", \"1\", \"2\", \"3\"],\n",
    "                  right = False)\n",
    "X[\"fbs\"] = pd.cut(X.fbs, \n",
    "                  bins = [ 0, 1, np.inf], \n",
    "                  labels = [\"0\", \"1\"],\n",
    "                  right = False)\n",
    "X[\"restecg\"] = pd.cut(X.restecg, \n",
    "                  bins = [ 0, 1, 2, np.inf], \n",
    "                  labels = [\"0\", \"1\", \"2\"],\n",
    "                  right = False)\n",
    "X[\"exng\"] = pd.cut(X.exng, \n",
    "                  bins = [ 0, 1, np.inf], \n",
    "                  labels = [\"0\", \"1\"],\n",
    "                  right = False)\n",
    "X = pd.get_dummies(X, drop_first=True)\n",
    "X.head(5)"
   ]
  },
  {
   "cell_type": "markdown",
   "id": "84d7ac9d-7437-4bcf-a860-4fba1c9235dd",
   "metadata": {},
   "source": [
    "Reference: [drop function](https://www.geeksforgeeks.org/how-to-drop-one-or-multiple-columns-in-pandas-dataframe/)"
   ]
  },
  {
   "cell_type": "code",
   "execution_count": 51,
   "id": "7db9286c-cc9f-43b9-a129-12946fe3d8fd",
   "metadata": {},
   "outputs": [],
   "source": [
    "from sklearn.linear_model import LogisticRegression\n",
    "m = LogisticRegression(max_iter=5000, penalty=\"none\")\n",
    "_ = m.fit(X, y)"
   ]
  },
  {
   "cell_type": "code",
   "execution_count": 52,
   "id": "0e7ffc5d-7956-4c3a-b6e6-cdc940e45404",
   "metadata": {},
   "outputs": [
    {
     "data": {
      "text/plain": [
       "array([3.19637128])"
      ]
     },
     "execution_count": 52,
     "metadata": {},
     "output_type": "execute_result"
    }
   ],
   "source": [
    "m.intercept_"
   ]
  },
  {
   "cell_type": "code",
   "execution_count": 53,
   "id": "f075239e-c845-44b3-ac02-0e9ae5bf1e8c",
   "metadata": {},
   "outputs": [
    {
     "data": {
      "text/plain": [
       "array([[-0.00350836, -0.01773841, -0.004883  ,  0.02209152, -0.49545646,\n",
       "         0.58591037, -0.79465733, -0.88537004, -1.76269472,  1.16598096,\n",
       "         2.02789266,  2.12706734,  0.01653439,  0.50594008, -0.28838175,\n",
       "        -0.91577647]])"
      ]
     },
     "execution_count": 53,
     "metadata": {},
     "output_type": "execute_result"
    }
   ],
   "source": [
    "m.coef_"
   ]
  },
  {
   "cell_type": "markdown",
   "id": "66c388cf-adbe-4286-ac9a-28e0d61def7d",
   "metadata": {},
   "source": [
    "#### 2.2"
   ]
  },
  {
   "cell_type": "code",
   "execution_count": 58,
   "id": "a7ab9231-6398-4b32-baa1-62640eab9844",
   "metadata": {},
   "outputs": [
    {
     "data": {
      "text/plain": [
       "array([0.71813945, 0.71854052, 0.96843302, 0.92858398, 0.80753809,\n",
       "       0.74850025, 0.85790339, 0.86714357, 0.83557893, 0.93927212])"
      ]
     },
     "execution_count": 58,
     "metadata": {},
     "output_type": "execute_result"
    }
   ],
   "source": [
    "prob = m.predict_proba(X)\n",
    "prob[:10, 1]"
   ]
  },
  {
   "cell_type": "markdown",
   "id": "4241dd03-ff1d-4758-b3c0-f28a6df83e6f",
   "metadata": {},
   "source": [
    "#### 2.3"
   ]
  },
  {
   "cell_type": "code",
   "execution_count": 92,
   "id": "268d49bc-d221-4e57-931d-125976db93cc",
   "metadata": {},
   "outputs": [
    {
     "data": {
      "text/plain": [
       "array([ True,  True,  True,  True,  True,  True,  True,  True,  True,\n",
       "        True])"
      ]
     },
     "execution_count": 92,
     "metadata": {},
     "output_type": "execute_result"
    }
   ],
   "source": [
    "outcome = m.predict(X) == 1\n",
    "outcome[:10]"
   ]
  },
  {
   "cell_type": "markdown",
   "id": "a05eb533-f306-4d12-a85c-79384dd749ba",
   "metadata": {},
   "source": [
    "All first 10 people have heart attack.\n",
    "#### 2.4"
   ]
  },
  {
   "cell_type": "code",
   "execution_count": 93,
   "id": "3a11fe6a-dec2-40f2-a45e-2391d8dc3615",
   "metadata": {},
   "outputs": [
    {
     "data": {
      "text/plain": [
       "array([ True,  True,  True,  True,  True,  True,  True,  True,  True,\n",
       "        True])"
      ]
     },
     "execution_count": 93,
     "metadata": {},
     "output_type": "execute_result"
    }
   ],
   "source": [
    "outcome_prob = prob[:, 1] > 0.5\n",
    "outcome_prob = outcome_prob\n",
    "outcome_prob[:10]"
   ]
  },
  {
   "cell_type": "code",
   "execution_count": 102,
   "id": "0ae959f4-45bd-4b2c-8d74-241feff5ac89",
   "metadata": {},
   "outputs": [
    {
     "data": {
      "text/plain": [
       "0"
      ]
     },
     "execution_count": 102,
     "metadata": {},
     "output_type": "execute_result"
    }
   ],
   "source": [
    "((outcome + 0) - (outcome_prob + 0)).sum()"
   ]
  },
  {
   "cell_type": "markdown",
   "id": "a3999f09-84ea-4f90-9860-7ea644a918dd",
   "metadata": {},
   "source": [
    "The results are the same in both methods\n",
    "#### 2.5"
   ]
  },
  {
   "cell_type": "code",
   "execution_count": 103,
   "id": "72717f47-e4ee-4612-b6ad-79a3a26876c5",
   "metadata": {},
   "outputs": [
    {
     "data": {
      "text/html": [
       "<div>\n",
       "<style scoped>\n",
       "    .dataframe tbody tr th:only-of-type {\n",
       "        vertical-align: middle;\n",
       "    }\n",
       "\n",
       "    .dataframe tbody tr th {\n",
       "        vertical-align: top;\n",
       "    }\n",
       "\n",
       "    .dataframe thead th {\n",
       "        text-align: right;\n",
       "    }\n",
       "</style>\n",
       "<table border=\"1\" class=\"dataframe\">\n",
       "  <thead>\n",
       "    <tr style=\"text-align: right;\">\n",
       "      <th>col_0</th>\n",
       "      <th>0</th>\n",
       "      <th>1</th>\n",
       "    </tr>\n",
       "    <tr>\n",
       "      <th>output</th>\n",
       "      <th></th>\n",
       "      <th></th>\n",
       "    </tr>\n",
       "  </thead>\n",
       "  <tbody>\n",
       "    <tr>\n",
       "      <th>0</th>\n",
       "      <td>108</td>\n",
       "      <td>30</td>\n",
       "    </tr>\n",
       "    <tr>\n",
       "      <th>1</th>\n",
       "      <td>14</td>\n",
       "      <td>151</td>\n",
       "    </tr>\n",
       "  </tbody>\n",
       "</table>\n",
       "</div>"
      ],
      "text/plain": [
       "col_0     0    1\n",
       "output          \n",
       "0       108   30\n",
       "1        14  151"
      ]
     },
     "execution_count": 103,
     "metadata": {},
     "output_type": "execute_result"
    }
   ],
   "source": [
    "cm = pd.crosstab(heart.output, outcome + 0)\n",
    "cm"
   ]
  },
  {
   "cell_type": "markdown",
   "id": "2611922d-6207-470b-b8fb-8ab9bfdbef46",
   "metadata": {},
   "source": [
    "#### 2.6"
   ]
  },
  {
   "cell_type": "code",
   "execution_count": 109,
   "id": "745ac445-3291-4de6-aacf-830fc701b9b9",
   "metadata": {},
   "outputs": [
    {
     "name": "stdout",
     "output_type": "stream",
     "text": [
      "The precision is 0.8342541436464088 .\n"
     ]
    }
   ],
   "source": [
    "precision = 151/(151+30)\n",
    "print(\"The precision is\", precision, \".\")"
   ]
  },
  {
   "cell_type": "code",
   "execution_count": 110,
   "id": "1157b3ab-1585-4e6a-b227-2d7e98acb956",
   "metadata": {},
   "outputs": [
    {
     "name": "stdout",
     "output_type": "stream",
     "text": [
      "The recall is 0.9151515151515152 .\n"
     ]
    }
   ],
   "source": [
    "recall = 151/(151 + 14)\n",
    "print(\"The recall is\", recall, \".\")"
   ]
  },
  {
   "cell_type": "code",
   "execution_count": 126,
   "id": "a2e766ed-2bdf-4958-8ab8-fe752c5fb031",
   "metadata": {},
   "outputs": [
    {
     "name": "stdout",
     "output_type": "stream",
     "text": [
      "Accuracy is 0.8547854785478548\n"
     ]
    }
   ],
   "source": [
    "from sklearn.metrics import accuracy_score\n",
    "print(\"Accuracy is\", accuracy_score(heart.output, outcome+0))"
   ]
  },
  {
   "cell_type": "code",
   "execution_count": 128,
   "id": "d9058e39-e478-4191-9dc0-6b1f4ee8a39a",
   "metadata": {},
   "outputs": [
    {
     "name": "stdout",
     "output_type": "stream",
     "text": [
      "F-score is 0.8728323699421965\n"
     ]
    }
   ],
   "source": [
    "from sklearn.metrics import f1_score\n",
    "print(\"F-score is\", f1_score(heart.output, outcome+0))"
   ]
  },
  {
   "cell_type": "markdown",
   "id": "e20e0d43-6317-4a11-8d46-9f0d6b8cd372",
   "metadata": {},
   "source": [
    "I think we should imporve accuracy, as we do not want both false positive and false negative situations. We want to give treatments to thoes who really have heart attack accrately, with out giving people with no heart attack any treatment.\n",
    "#### 2.7\n",
    "Assume simple model predict everyone have heart attack. Then TN value is 0, and the FP value is the number of poeple with no heart attack. And as all people are predicted as having heart attack, then FN is also 0. And TP is the number of true number of poeple that have heart attack."
   ]
  },
  {
   "cell_type": "code",
   "execution_count": 112,
   "id": "ace65b20-481f-4fce-8e4c-be5ae01695a2",
   "metadata": {},
   "outputs": [
    {
     "data": {
      "text/plain": [
       "138"
      ]
     },
     "execution_count": 112,
     "metadata": {},
     "output_type": "execute_result"
    }
   ],
   "source": [
    "(heart.output == 0).sum() # number of FP, people with no heart attack"
   ]
  },
  {
   "cell_type": "code",
   "execution_count": 113,
   "id": "bab19b0a-d4fa-4194-ba8f-e24e4a0eafc7",
   "metadata": {},
   "outputs": [
    {
     "data": {
      "text/plain": [
       "165"
      ]
     },
     "execution_count": 113,
     "metadata": {},
     "output_type": "execute_result"
    }
   ],
   "source": [
    "(heart.output == 1).sum() # number of TP, people with heart attack"
   ]
  },
  {
   "cell_type": "code",
   "execution_count": 116,
   "id": "eb485876-456a-49f7-b1c8-f8d86e955646",
   "metadata": {},
   "outputs": [
    {
     "data": {
      "text/html": [
       "<div>\n",
       "<style scoped>\n",
       "    .dataframe tbody tr th:only-of-type {\n",
       "        vertical-align: middle;\n",
       "    }\n",
       "\n",
       "    .dataframe tbody tr th {\n",
       "        vertical-align: top;\n",
       "    }\n",
       "\n",
       "    .dataframe thead th {\n",
       "        text-align: right;\n",
       "    }\n",
       "</style>\n",
       "<table border=\"1\" class=\"dataframe\">\n",
       "  <thead>\n",
       "    <tr style=\"text-align: right;\">\n",
       "      <th></th>\n",
       "      <th>predict N</th>\n",
       "      <th>predict P</th>\n",
       "    </tr>\n",
       "  </thead>\n",
       "  <tbody>\n",
       "    <tr>\n",
       "      <th>true N</th>\n",
       "      <td>0</td>\n",
       "      <td>138</td>\n",
       "    </tr>\n",
       "    <tr>\n",
       "      <th>true P</th>\n",
       "      <td>0</td>\n",
       "      <td>165</td>\n",
       "    </tr>\n",
       "  </tbody>\n",
       "</table>\n",
       "</div>"
      ],
      "text/plain": [
       "        predict N  predict P\n",
       "true N          0        138\n",
       "true P          0        165"
      ]
     },
     "execution_count": 116,
     "metadata": {},
     "output_type": "execute_result"
    }
   ],
   "source": [
    "cm = pd.DataFrame({\"predict N\": [0, 0], \"predict P\": [138, 165]}, index = [\"true N\", \"true P\"])\n",
    "cm # confusion matrix"
   ]
  },
  {
   "cell_type": "markdown",
   "id": "bf1a12cf-1994-4f43-90b3-d927a037934c",
   "metadata": {},
   "source": [
    "TN, FP\\\n",
    "FN, TP"
   ]
  },
  {
   "cell_type": "code",
   "execution_count": 117,
   "id": "7974a5aa-62a5-4ec2-a5b4-53eb9b3b770b",
   "metadata": {},
   "outputs": [
    {
     "name": "stdout",
     "output_type": "stream",
     "text": [
      "Accuracy is 0.5445544554455446\n"
     ]
    }
   ],
   "source": [
    "# Accuracy\n",
    "print(\"Accuracy is\", 165/303)"
   ]
  },
  {
   "cell_type": "code",
   "execution_count": 118,
   "id": "69b3e20a-cd2c-4ed1-93e8-e948a2fe237d",
   "metadata": {},
   "outputs": [
    {
     "name": "stdout",
     "output_type": "stream",
     "text": [
      "Precision is 0.5445544554455446\n"
     ]
    }
   ],
   "source": [
    "# Precision\n",
    "print(\"Precision is\", 165/(138 + 165))"
   ]
  },
  {
   "cell_type": "code",
   "execution_count": 119,
   "id": "a79c6b70-8767-48d2-a313-a9be9e603c82",
   "metadata": {},
   "outputs": [
    {
     "name": "stdout",
     "output_type": "stream",
     "text": [
      "Recall is 1.0\n"
     ]
    }
   ],
   "source": [
    "# Recall\n",
    "print(\"Recall is\", 165/(0 + 165))"
   ]
  },
  {
   "cell_type": "markdown",
   "id": "786d4c70-5a88-4e1b-ac63-70e259e2f8a0",
   "metadata": {},
   "source": [
    "I spent approximately 6 hours on this PS."
   ]
  },
  {
   "cell_type": "code",
   "execution_count": null,
   "id": "d3fcd492-e6ae-4b81-98de-8d0c57fa97e2",
   "metadata": {},
   "outputs": [],
   "source": []
  }
 ],
 "metadata": {
  "kernelspec": {
   "display_name": "Python 3 (ipykernel)",
   "language": "python",
   "name": "python3"
  },
  "language_info": {
   "codemirror_mode": {
    "name": "ipython",
    "version": 3
   },
   "file_extension": ".py",
   "mimetype": "text/x-python",
   "name": "python",
   "nbconvert_exporter": "python",
   "pygments_lexer": "ipython3",
   "version": "3.9.7"
  }
 },
 "nbformat": 4,
 "nbformat_minor": 5
}
