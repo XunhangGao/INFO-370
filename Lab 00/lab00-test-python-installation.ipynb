{
 "cells": [
  {
   "cell_type": "markdown",
   "metadata": {},
   "source": [
    "# import libraries\n",
    "\n",
    "You need many libaries for data science work.  Below we import some more common ones, if those work, most likely the others will work too."
   ]
  },
  {
   "cell_type": "code",
   "execution_count": null,
   "metadata": {},
   "outputs": [],
   "source": [
    "import pandas as pd\n",
    "import numpy as np\n",
    "import matplotlib.pyplot as plt\n",
    "from sklearn.neural_network import MLPClassifier"
   ]
  },
  {
   "cell_type": "markdown",
   "metadata": {},
   "source": [
    "# Now some examples\n",
    "\n",
    "Example code that uses different data structures and does plotting"
   ]
  },
  {
   "cell_type": "code",
   "execution_count": null,
   "metadata": {},
   "outputs": [],
   "source": [
    "# plot 500 random normal numbers\n",
    "n = 500\n",
    "x = np.random.normal(size=n)\n",
    "a = plt.hist(x, edgecolor=\"w\")"
   ]
  },
  {
   "cell_type": "code",
   "execution_count": null,
   "metadata": {},
   "outputs": [],
   "source": [
    "# Create a data frame with correlated x and y variables\n",
    "df = pd.DataFrame( {'x':x, 'y': x + np.random.normal(size=n)})\n",
    "print(df.head())"
   ]
  },
  {
   "cell_type": "code",
   "execution_count": null,
   "metadata": {},
   "outputs": [],
   "source": [
    "a = plt.scatter(df.x, df.y, edgecolor='k')"
   ]
  },
  {
   "cell_type": "markdown",
   "metadata": {},
   "source": [
    "# Do some predictive modeling\n",
    "\n",
    "Above you loaded some of the modeling libraries.  But do they actually work?\n",
    "\n",
    "Create and plot data.  You should see colors in a spiral pattern below."
   ]
  },
  {
   "cell_type": "code",
   "execution_count": null,
   "metadata": {},
   "outputs": [],
   "source": [
    "n = 500  # how many points\n",
    "x1 = np.random.normal(size=n)\n",
    "x2 = np.random.normal(size=n)\n",
    "alpha = np.arctan2(x2, x1)\n",
    "r = np.sqrt(x1**2 + x2**2)\n",
    "c1 = (np.sin(2*alpha + 2*r) > 0).astype('int')\n",
    "c2 = (np.cos(2*alpha + 2*r) > 0).astype('int')\n",
    "c = c1 + c2  # this is your target\n",
    "# features, target:\n",
    "X = np.column_stack((x1,x2))\n",
    "y = c\n",
    "# this is how the data looks like:\n",
    "plt.figure(figsize=(7,7))\n",
    "plt.scatter(x1, x2, c=c, s=40, edgecolors='k', alpha=0.6)\n",
    "plt.show()\n"
   ]
  },
  {
   "cell_type": "markdown",
   "metadata": {},
   "source": [
    "## And use sklearns multiplayer perceptron for modeling\n",
    "\n",
    "Perceptron in a simple neural network.  Can we capture the multicolor spiral structure?  Note: it may take a little time."
   ]
  },
  {
   "cell_type": "code",
   "execution_count": null,
   "metadata": {},
   "outputs": [],
   "source": [
    "m = MLPClassifier(hidden_layer_sizes = (200, 150, 100, 100),\n",
    "                  activation=\"relu\",\n",
    "                  alpha=0.01,\n",
    "                  max_iter=10000).fit(X, y)\n",
    "\n",
    "# Predict and plot: take this code as black box\n",
    "range1 = np.linspace(X[:,0].min(), X[:,0].max(), 100)\n",
    "range2 = np.linspace(X[:,1].min(), X[:,1].max(), 100)\n",
    "(xx1, xx2) = np.meshgrid(range1, range2)\n",
    "Xgrid = np.column_stack((xx1.ravel(), xx2.ravel()))\n",
    "yhat = m.predict(Xgrid)\n",
    "plt.figure(figsize=(7,5))\n",
    "# plot the predicted values on grid as an image\n",
    "plt.imshow(yhat.reshape((100,100)),\n",
    "           alpha=0.3, extent=[xx1.min(), xx1.max(), xx2.min(), xx2.max()],\n",
    "           origin='lower', aspect='auto')\n",
    "# add the actual values\n",
    "plt.scatter(X[:,0], X[:,1], c=y, s=30, alpha=0.6, edgecolor=\"k\")\n",
    "plt.xlabel(\"x1\")\n",
    "plt.ylabel(\"x2\")\n",
    "plt.show()\n"
   ]
  }
 ],
 "metadata": {
  "kernelspec": {
   "display_name": "Python 3",
   "language": "python",
   "name": "python3"
  },
  "language_info": {
   "codemirror_mode": {
    "name": "ipython",
    "version": 3
   },
   "file_extension": ".py",
   "mimetype": "text/x-python",
   "name": "python",
   "nbconvert_exporter": "python",
   "pygments_lexer": "ipython3",
   "version": "3.8.5"
  }
 },
 "nbformat": 4,
 "nbformat_minor": 2
}
