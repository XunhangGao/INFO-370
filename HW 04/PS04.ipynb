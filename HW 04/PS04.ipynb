{
 "cells": [
  {
   "cell_type": "code",
   "execution_count": 48,
   "id": "8d82dec3-bab8-444d-afcc-e2dda0bad673",
   "metadata": {},
   "outputs": [],
   "source": [
    "import numpy as np\n",
    "import pandas as pd\n",
    "import matplotlib.pyplot as plt\n",
    "import scipy.stats as ss"
   ]
  },
  {
   "cell_type": "markdown",
   "id": "9cb2e23d-3e23-4180-9f61-5232233b3db4",
   "metadata": {},
   "source": [
    "# PS 04\n",
    "David Gao\n",
    "## 1 Part One: Data Exploration\n",
    "#### 1.1 "
   ]
  },
  {
   "cell_type": "code",
   "execution_count": 3,
   "id": "1c8dd40b-40d3-42c2-8161-90eeb4298c5b",
   "metadata": {},
   "outputs": [
    {
     "data": {
      "text/html": [
       "<div>\n",
       "<style scoped>\n",
       "    .dataframe tbody tr th:only-of-type {\n",
       "        vertical-align: middle;\n",
       "    }\n",
       "\n",
       "    .dataframe tbody tr th {\n",
       "        vertical-align: top;\n",
       "    }\n",
       "\n",
       "    .dataframe thead th {\n",
       "        text-align: right;\n",
       "    }\n",
       "</style>\n",
       "<table border=\"1\" class=\"dataframe\">\n",
       "  <thead>\n",
       "    <tr style=\"text-align: right;\">\n",
       "      <th></th>\n",
       "      <th>city</th>\n",
       "      <th>price</th>\n",
       "    </tr>\n",
       "  </thead>\n",
       "  <tbody>\n",
       "    <tr>\n",
       "      <th>0</th>\n",
       "      <td>Beijing</td>\n",
       "      <td>401</td>\n",
       "    </tr>\n",
       "    <tr>\n",
       "      <th>1</th>\n",
       "      <td>Beijing</td>\n",
       "      <td>436</td>\n",
       "    </tr>\n",
       "    <tr>\n",
       "      <th>2</th>\n",
       "      <td>Beijing</td>\n",
       "      <td>479</td>\n",
       "    </tr>\n",
       "  </tbody>\n",
       "</table>\n",
       "</div>"
      ],
      "text/plain": [
       "      city  price\n",
       "0  Beijing    401\n",
       "1  Beijing    436\n",
       "2  Beijing    479"
      ]
     },
     "execution_count": 3,
     "metadata": {},
     "output_type": "execute_result"
    }
   ],
   "source": [
    "airprice = pd.read_csv(r'beijing-seattle-airbnb-price.csv', sep='\\t')\n",
    "airprice.head(3)"
   ]
  },
  {
   "cell_type": "markdown",
   "id": "4591a11e-bc0c-4686-ba76-1f21ed95b5a0",
   "metadata": {},
   "source": [
    "#### 1.2"
   ]
  },
  {
   "cell_type": "code",
   "execution_count": 4,
   "id": "2d36d67c-8bd9-45eb-aea6-0d4693a4bbb4",
   "metadata": {},
   "outputs": [
    {
     "data": {
      "text/plain": [
       "(995, 2)"
      ]
     },
     "execution_count": 4,
     "metadata": {},
     "output_type": "execute_result"
    }
   ],
   "source": [
    "airprice.shape"
   ]
  },
  {
   "cell_type": "code",
   "execution_count": 5,
   "id": "ea8e8707-c68f-4dc5-9323-aeddd416b579",
   "metadata": {},
   "outputs": [
    {
     "data": {
      "text/plain": [
       "0"
      ]
     },
     "execution_count": 5,
     "metadata": {},
     "output_type": "execute_result"
    }
   ],
   "source": [
    "airprice.price.isna().sum()"
   ]
  },
  {
   "cell_type": "code",
   "execution_count": 6,
   "id": "ae85fcdc-dbac-4789-92c1-fec7072cfcfd",
   "metadata": {},
   "outputs": [
    {
     "data": {
      "text/plain": [
       "Beijing    729\n",
       "Seattle    266\n",
       "Name: city, dtype: int64"
      ]
     },
     "execution_count": 6,
     "metadata": {},
     "output_type": "execute_result"
    }
   ],
   "source": [
    "airprice.city.value_counts()"
   ]
  },
  {
   "cell_type": "markdown",
   "id": "7f8fe984-d836-4385-af9d-b5541211082a",
   "metadata": {},
   "source": [
    "There's 995 observations in total, 729 for Beijing, and 266 for Seattle. And there's no null value in data.\n",
    "#### 1.3\n",
    "#### 1.3.1"
   ]
  },
  {
   "cell_type": "code",
   "execution_count": 7,
   "id": "4dd5a8f5-5f87-4905-81ad-535187a02c22",
   "metadata": {},
   "outputs": [],
   "source": [
    "# summary for overall data\n",
    "o_mean = airprice.price.mean()\n",
    "o_median = airprice.price.median()\n",
    "o_mode = airprice.price.mode()\n",
    "o_std = airprice.price.std()\n",
    "o_range = airprice.price.max() - airprice.price.min()"
   ]
  },
  {
   "cell_type": "code",
   "execution_count": 8,
   "id": "f73163eb-6372-448d-9450-00b66355778c",
   "metadata": {},
   "outputs": [],
   "source": [
    "# summary for Beijing\n",
    "beijing = airprice[airprice.city == \"Beijing\"].copy()\n",
    "b_mean = beijing.price.mean()\n",
    "b_median = beijing.price.median()\n",
    "b_mode = beijing.price.mode()\n",
    "b_std = beijing.price.std()\n",
    "b_range = beijing.price.max() - beijing.price.min()"
   ]
  },
  {
   "cell_type": "code",
   "execution_count": 9,
   "id": "2505e29e-6368-4a8c-9172-af8d112f55ea",
   "metadata": {},
   "outputs": [],
   "source": [
    "# summary for Seattle\n",
    "seattle = airprice[airprice.city == \"Seattle\"].copy()\n",
    "s_mean = seattle.price.mean()\n",
    "s_median = seattle.price.median()\n",
    "s_mode = seattle.price.mode()\n",
    "s_std = seattle.price.std()\n",
    "s_range = seattle.price.max() - seattle.price.min()"
   ]
  },
  {
   "cell_type": "code",
   "execution_count": 10,
   "id": "03087fcc-ebaa-442e-bfd1-6d35589f63f8",
   "metadata": {},
   "outputs": [
    {
     "data": {
      "text/html": [
       "<div>\n",
       "<style scoped>\n",
       "    .dataframe tbody tr th:only-of-type {\n",
       "        vertical-align: middle;\n",
       "    }\n",
       "\n",
       "    .dataframe tbody tr th {\n",
       "        vertical-align: top;\n",
       "    }\n",
       "\n",
       "    .dataframe thead th {\n",
       "        text-align: right;\n",
       "    }\n",
       "</style>\n",
       "<table border=\"1\" class=\"dataframe\">\n",
       "  <thead>\n",
       "    <tr style=\"text-align: right;\">\n",
       "      <th></th>\n",
       "      <th>mean</th>\n",
       "      <th>median</th>\n",
       "      <th>mdoe</th>\n",
       "      <th>standard deviation</th>\n",
       "      <th>range</th>\n",
       "    </tr>\n",
       "  </thead>\n",
       "  <tbody>\n",
       "    <tr>\n",
       "      <th>Overall</th>\n",
       "      <td>323.949749</td>\n",
       "      <td>267.0</td>\n",
       "      <td>197</td>\n",
       "      <td>275.097893</td>\n",
       "      <td>4067</td>\n",
       "    </tr>\n",
       "    <tr>\n",
       "      <th>Beijing</th>\n",
       "      <td>365.292181</td>\n",
       "      <td>296.0</td>\n",
       "      <td>197</td>\n",
       "      <td>274.220866</td>\n",
       "      <td>4020</td>\n",
       "    </tr>\n",
       "    <tr>\n",
       "      <th>Seattle</th>\n",
       "      <td>210.646617</td>\n",
       "      <td>149.0</td>\n",
       "      <td>1002</td>\n",
       "      <td>244.335794</td>\n",
       "      <td>972</td>\n",
       "    </tr>\n",
       "  </tbody>\n",
       "</table>\n",
       "</div>"
      ],
      "text/plain": [
       "               mean  median  mdoe  standard deviation  range\n",
       "Overall  323.949749   267.0   197          275.097893   4067\n",
       "Beijing  365.292181   296.0   197          274.220866   4020\n",
       "Seattle  210.646617   149.0  1002          244.335794    972"
      ]
     },
     "execution_count": 10,
     "metadata": {},
     "output_type": "execute_result"
    }
   ],
   "source": [
    "# table df\n",
    "table = pd.DataFrame({'mean':[o_mean, b_mean, s_mean],\\\n",
    "                   'median':[o_median, b_median, s_median],\\\n",
    "                   'mdoe':[(o_mode)[0], (b_mode)[0], (s_mode)[0]],\\\n",
    "                   'standard deviation':[o_std, b_std, s_std],\\\n",
    "                   'range':[o_range, b_range, s_range]},\\\n",
    "                   index = [\"Overall\", \"Beijing\", \"Seattle\"])\n",
    "table"
   ]
  },
  {
   "cell_type": "markdown",
   "id": "e4cc52fe-7b29-4b85-9d9f-c22ea0cf72e3",
   "metadata": {},
   "source": [
    "#### 1.3.2"
   ]
  },
  {
   "cell_type": "code",
   "execution_count": 11,
   "id": "6a049041-3df2-430b-8c26-edc73a81ffbf",
   "metadata": {
    "tags": []
   },
   "outputs": [
    {
     "data": {
      "image/png": "[encoded data removed]",
      "text/plain": [
       "<Figure size 432x288 with 1 Axes>"
      ]
     },
     "metadata": {
      "needs_background": "light"
     },
     "output_type": "display_data"
    }
   ],
   "source": [
    "plt.hist(airprice.price, alpha = 0.5, bins = np.linspace(0,4100, 100),\\\n",
    "         label = \"total\", color = 'green');\n",
    "plt.hist(beijing.price, alpha = 0.3, bins = np.linspace(0,4100, 100),\\\n",
    "         label = \"Beijing\", color = 'red');\n",
    "plt.hist(seattle.price, alpha = 0.4, bins = np.linspace(0,4100, 100),\\\n",
    "         label = \"Seattle\", color = 'blue');\n",
    "\n",
    "plt.title(\"Distribution of AirBnB Price\")\n",
    "plt.xlabel(\"Price ($)\")\n",
    "plt.ylabel(\"Cumulative Occurances of Prices\")\n",
    "plt.legend()\n",
    "plt.show()"
   ]
  },
  {
   "cell_type": "markdown",
   "id": "c4a99a3b-f086-47ea-afdc-9deb875a4c72",
   "metadata": {},
   "source": [
    "Reference: [Combined histogram](https://www.tutorialgateway.org/python-matplotlib-histogram/#:~:text=Whether%20it%20is%20one%20or%20more%2C%20Python%20matplotlib,to%20second%2C%20and%20green%20to%20the%20third%20histogram.)"
   ]
  },
  {
   "cell_type": "markdown",
   "id": "4980ae42-dce0-4d40-841a-28dca4df03a0",
   "metadata": {},
   "source": [
    "#### 1.3.3"
   ]
  },
  {
   "cell_type": "code",
   "execution_count": 12,
   "id": "788f98e3-0592-4d5f-bb97-be46d09ca576",
   "metadata": {},
   "outputs": [
    {
     "name": "stdout",
     "output_type": "stream",
     "text": [
      "Beijing has more expensive AirBnBs, and difference of mean prices between Beijing and Seattle is 154.6455645286055 .\n"
     ]
    }
   ],
   "source": [
    "print(\"Beijing has more expensive AirBnBs, and difference of mean prices\", \n",
    "      \"between Beijing and Seattle is\", b_mean - s_mean, \".\")"
   ]
  },
  {
   "cell_type": "markdown",
   "id": "95e21e38-5d16-46e7-9cd0-4d9e474cf0f9",
   "metadata": {},
   "source": [
    "#### 1.3.4\n",
    "The distributions of prices are kind of right skewed. For the main part where most prices fall in, it is close to normal with little right skewed. However, there are some outliers on the right of the graph of all three data sets. \n",
    "\n",
    "## 2 Part Two: Data Transformation\n",
    "#### 2.1"
   ]
  },
  {
   "cell_type": "code",
   "execution_count": 13,
   "id": "b1174494-bd89-4ea3-ab3e-03a12bf68415",
   "metadata": {},
   "outputs": [],
   "source": [
    "# create a new variable with log price\n",
    "airprice[\"log_price\"] = np.log(airprice.price)\n",
    "beijing[\"log_price\"] = np.log(beijing.price)\n",
    "seattle[\"log_price\"] = np.log(seattle.price)"
   ]
  },
  {
   "cell_type": "markdown",
   "id": "3cbd7c1a-07c8-422e-a08d-f5dfd3f746b1",
   "metadata": {},
   "source": [
    "#### 2.2"
   ]
  },
  {
   "cell_type": "code",
   "execution_count": 14,
   "id": "91f4e8f2-30a0-4180-b59b-fc9d5209f7ad",
   "metadata": {},
   "outputs": [],
   "source": [
    "# summary for overall data\n",
    "o_lmean = airprice.log_price.mean()\n",
    "o_lmedian = airprice.log_price.median()\n",
    "o_lmode = airprice.log_price.mode()\n",
    "o_lstd = airprice.log_price.std()\n",
    "o_lrange = airprice.log_price.max() - airprice.log_price.min()"
   ]
  },
  {
   "cell_type": "code",
   "execution_count": 15,
   "id": "0645eabd-edd1-43b8-bd8a-d6fed9b22c70",
   "metadata": {},
   "outputs": [],
   "source": [
    "# summary for Beijing\n",
    "b_lmean = beijing.log_price.mean()\n",
    "b_lmedian = beijing.log_price.median()\n",
    "b_lmode = beijing.log_price.mode()\n",
    "b_lstd = beijing.log_price.std()\n",
    "b_lrange = beijing.log_price.max() - beijing.log_price.min()"
   ]
  },
  {
   "cell_type": "code",
   "execution_count": 16,
   "id": "4a714db5-a7df-44cb-9eee-9288300d9eac",
   "metadata": {},
   "outputs": [],
   "source": [
    "# summary for Seattle\n",
    "s_lmean = seattle.log_price.mean()\n",
    "s_lmedian = seattle.log_price.median()\n",
    "s_lmode = seattle.log_price.mode()\n",
    "s_lstd = seattle.log_price.std()\n",
    "s_lrange = seattle.log_price.max() - seattle.log_price.min()"
   ]
  },
  {
   "cell_type": "code",
   "execution_count": 17,
   "id": "500b9dce-a455-460b-9985-c5485079872d",
   "metadata": {},
   "outputs": [
    {
     "data": {
      "text/html": [
       "<div>\n",
       "<style scoped>\n",
       "    .dataframe tbody tr th:only-of-type {\n",
       "        vertical-align: middle;\n",
       "    }\n",
       "\n",
       "    .dataframe tbody tr th {\n",
       "        vertical-align: top;\n",
       "    }\n",
       "\n",
       "    .dataframe thead th {\n",
       "        text-align: right;\n",
       "    }\n",
       "</style>\n",
       "<table border=\"1\" class=\"dataframe\">\n",
       "  <thead>\n",
       "    <tr style=\"text-align: right;\">\n",
       "      <th></th>\n",
       "      <th>log mean</th>\n",
       "      <th>log median</th>\n",
       "      <th>log mdoe</th>\n",
       "      <th>log standard deviation</th>\n",
       "      <th>log range</th>\n",
       "    </tr>\n",
       "  </thead>\n",
       "  <tbody>\n",
       "    <tr>\n",
       "      <th>Overall</th>\n",
       "      <td>5.563792</td>\n",
       "      <td>5.587249</td>\n",
       "      <td>5.283204</td>\n",
       "      <td>0.641641</td>\n",
       "      <td>4.916813</td>\n",
       "    </tr>\n",
       "    <tr>\n",
       "      <th>Beijing</th>\n",
       "      <td>5.761401</td>\n",
       "      <td>5.690359</td>\n",
       "      <td>5.283204</td>\n",
       "      <td>0.489774</td>\n",
       "      <td>3.974205</td>\n",
       "    </tr>\n",
       "    <tr>\n",
       "      <th>Seattle</th>\n",
       "      <td>5.022227</td>\n",
       "      <td>5.003946</td>\n",
       "      <td>6.909753</td>\n",
       "      <td>0.695318</td>\n",
       "      <td>3.508556</td>\n",
       "    </tr>\n",
       "  </tbody>\n",
       "</table>\n",
       "</div>"
      ],
      "text/plain": [
       "         log mean  log median  log mdoe  log standard deviation  log range\n",
       "Overall  5.563792    5.587249  5.283204                0.641641   4.916813\n",
       "Beijing  5.761401    5.690359  5.283204                0.489774   3.974205\n",
       "Seattle  5.022227    5.003946  6.909753                0.695318   3.508556"
      ]
     },
     "execution_count": 17,
     "metadata": {},
     "output_type": "execute_result"
    }
   ],
   "source": [
    "# table df\n",
    "table = pd.DataFrame({'log mean':[o_lmean, b_lmean, s_lmean],\\\n",
    "                   'log median':[o_lmedian, b_lmedian, s_lmedian],\\\n",
    "                   'log mdoe':[(o_lmode)[0], (b_lmode)[0], (s_lmode)[0]],\\\n",
    "                   'log standard deviation':[o_lstd, b_lstd, s_lstd],\\\n",
    "                   'log range':[o_lrange, b_lrange, s_lrange]},\\\n",
    "                   index = [\"Overall\", \"Beijing\", \"Seattle\"])\n",
    "table"
   ]
  },
  {
   "cell_type": "code",
   "execution_count": 18,
   "id": "ee122534-c4e0-4805-a87e-deaa5dcdeb54",
   "metadata": {},
   "outputs": [
    {
     "data": {
      "image/png": "[encoded data removed]",
      "text/plain": [
       "<Figure size 432x288 with 1 Axes>"
      ]
     },
     "metadata": {
      "needs_background": "light"
     },
     "output_type": "display_data"
    }
   ],
   "source": [
    "# plot of log data\n",
    "plt.hist(airprice.log_price, alpha = 0.5, bins = 20,\\\n",
    "         label = \"total\", color = 'green');\n",
    "plt.hist(beijing.log_price, alpha = 0.3, bins = 20,\\\n",
    "         label = \"Beijing\", color = 'maroon');\n",
    "plt.hist(seattle.log_price, alpha = 0.4, bins = 20,\\\n",
    "         label = \"Seattle\", color = 'blue');\n",
    "\n",
    "plt.title(\"Distribution of AirBnB Log Price\")\n",
    "plt.xlabel(\"Log Price ($)\")\n",
    "plt.ylabel(\"Cumulative Occurances of Log Prices\")\n",
    "plt.legend()\n",
    "plt.show()"
   ]
  },
  {
   "cell_type": "markdown",
   "id": "81fbc7d9-c49b-4d8d-b6b3-3b09521e3be0",
   "metadata": {},
   "source": [
    "The shape of total and beijing looks like normal distribution, but data of Seattle is kind right skewed, with some outliers on the right.\n",
    "#### 2.3"
   ]
  },
  {
   "cell_type": "code",
   "execution_count": 19,
   "id": "e8aba091-ba2c-4bc8-ad2e-1bac091e06c4",
   "metadata": {},
   "outputs": [
    {
     "name": "stdout",
     "output_type": "stream",
     "text": [
      "The difference of mean log prices between Beijing and Seattle is 0.7391737097578872 .\n"
     ]
    }
   ],
   "source": [
    "print(\"The difference of mean log prices between Beijing and Seattle is\",\\\n",
    "       b_lmean - s_lmean, \".\")"
   ]
  },
  {
   "cell_type": "markdown",
   "id": "21428357-824b-4156-bf2f-68fe90aa414f",
   "metadata": {},
   "source": [
    "## 3 Part Three: Brute-Force Approach\n",
    "#### 3.1"
   ]
  },
  {
   "cell_type": "code",
   "execution_count": 20,
   "id": "58a4e11d-0203-4e2f-a8ad-afbcd154868a",
   "metadata": {},
   "outputs": [
    {
     "name": "stdout",
     "output_type": "stream",
     "text": [
      "The overall mean is 5.563792307809865 and the overall standard deviation is 0.6416408826270507 .\n"
     ]
    }
   ],
   "source": [
    "overall_mean = airprice.log_price.mean()\n",
    "overall_std = airprice.log_price.std()\n",
    "print(\"The overall mean is\", overall_mean, \"and the overall standard\",\n",
    "      \"deviation is\", overall_std, \".\")"
   ]
  },
  {
   "cell_type": "markdown",
   "id": "8d2de5c9-c6a5-4a24-b36c-b9e8fc360582",
   "metadata": {},
   "source": [
    "#### 3.2"
   ]
  },
  {
   "cell_type": "code",
   "execution_count": 21,
   "id": "76d549fa-c8e5-4955-b13f-8828e4c6a655",
   "metadata": {},
   "outputs": [
    {
     "data": {
      "image/png": "[encoded data removed]",
      "text/plain": [
       "<Figure size 432x288 with 1 Axes>"
      ]
     },
     "metadata": {
      "needs_background": "light"
     },
     "output_type": "display_data"
    }
   ],
   "source": [
    "# simulation for Beijing\n",
    "simulatedB = np.random.normal(5.563792, 0.641641, size=729)\n",
    "# log_SB = np.log(simulatedB)\n",
    "plt.hist(simulatedB, bins = 100);"
   ]
  },
  {
   "cell_type": "code",
   "execution_count": 22,
   "id": "6ac9ad19-3ba8-45ad-99a1-c1da01dc1ac3",
   "metadata": {},
   "outputs": [
    {
     "data": {
      "image/png": "[encoded data removed]",
      "text/plain": [
       "<Figure size 432x288 with 1 Axes>"
      ]
     },
     "metadata": {
      "needs_background": "light"
     },
     "output_type": "display_data"
    }
   ],
   "source": [
    "# simulation for Seattle\n",
    "simulatedS = np.random.normal(5.563792, 0.641641, size=266)\n",
    "# log_SS = np.log(simulatedS)\n",
    "plt.hist(simulatedS, bins = 100);"
   ]
  },
  {
   "cell_type": "code",
   "execution_count": 23,
   "id": "74b5d590-66c5-48dc-8fe8-79f12ae394ab",
   "metadata": {},
   "outputs": [
    {
     "name": "stdout",
     "output_type": "stream",
     "text": [
      "The difference of means in simulated data, 0.05414745361028839 , is much smaller than the difference of means in original datasets.\n"
     ]
    }
   ],
   "source": [
    "SB_lmean = simulatedB.mean()\n",
    "SS_lmean = simulatedS.mean()\n",
    "print(\"The difference of means in simulated data,\", SB_lmean - SS_lmean, \", is much smaller than the difference of means in original datasets.\")"
   ]
  },
  {
   "cell_type": "markdown",
   "id": "f6941f47-f75c-4085-a273-33e5493e89d9",
   "metadata": {},
   "source": [
    "#### 3.3"
   ]
  },
  {
   "cell_type": "code",
   "execution_count": 24,
   "id": "878b8262-3ab3-4066-916e-685d36c43205",
   "metadata": {},
   "outputs": [
    {
     "name": "stdout",
     "output_type": "stream",
     "text": [
      "The simulated difference in mean log-prices reported equate to 13.663870036721136 in dollars.\n"
     ]
    }
   ],
   "source": [
    "SB_mean = np.exp(SB_lmean)\n",
    "SS_mean = np.exp(SS_lmean)\n",
    "print(\"The simulated difference in mean log-prices reported equate to\", SB_mean - SS_mean, \"in dollars.\")\n"
   ]
  },
  {
   "cell_type": "markdown",
   "id": "2f37e5e4-9d82-4cc8-b4a2-1fdf106edd2b",
   "metadata": {},
   "source": [
    "#### 3.4\n",
    "We the same mean and same variance as we want to investigate if the difference in mean price is only caused by single samplying.\n",
    "#### 3.5"
   ]
  },
  {
   "cell_type": "code",
   "execution_count": 25,
   "id": "363db98f-39e5-41d0-bf5d-8a94ca2e2e64",
   "metadata": {},
   "outputs": [],
   "source": [
    "SB = []\n",
    "SS = []\n",
    "diff = []\n",
    "for i in range(1100):\n",
    "    simulatedB = np.random.normal(5.563792, 0.641641, size=729)\n",
    "    SB.append(simulatedB)\n",
    "    SB_lmean = simulatedB.mean()\n",
    "    simulatedS = np.random.normal(5.563792, 0.641641, size=266)\n",
    "    SS.append(simulatedS)\n",
    "    SS_lmean = simulatedS.mean()\n",
    "    diff.append(SB_lmean - SS_lmean)\n"
   ]
  },
  {
   "cell_type": "markdown",
   "id": "e2c40dfa-ea21-4121-a136-6d5fbb1f9cc1",
   "metadata": {},
   "source": [
    "#### 3.6"
   ]
  },
  {
   "cell_type": "code",
   "execution_count": 26,
   "id": "b81dfbd0-816d-46a4-aed1-8e1344f336c3",
   "metadata": {},
   "outputs": [
    {
     "name": "stdout",
     "output_type": "stream",
     "text": [
      "The mean of all the differences between the simulated city mean log-price is 0.003215201078239198 .\n"
     ]
    }
   ],
   "source": [
    "mean_diff = np.mean(diff)\n",
    "print(\"The mean of all the differences between the simulated city mean\",\n",
    "      \"log-price is\", mean_diff, \".\")"
   ]
  },
  {
   "cell_type": "code",
   "execution_count": 27,
   "id": "88f4791b-d054-43e1-aa5d-06b122904faf",
   "metadata": {},
   "outputs": [
    {
     "data": {
      "text/plain": [
       "552"
      ]
     },
     "execution_count": 27,
     "metadata": {},
     "output_type": "execute_result"
    }
   ],
   "source": [
    "fDiff = np.asarray(diff)\n",
    "idx1 = np.argmin(np.abs(fDiff - mean_diff))\n",
    "idx1"
   ]
  },
  {
   "cell_type": "code",
   "execution_count": 28,
   "id": "41d9f5c3-8a90-4e08-abaf-171b1c3f6172",
   "metadata": {},
   "outputs": [
    {
     "name": "stdout",
     "output_type": "stream",
     "text": [
      "The mean of all differences is roughly equivalent to 0.8324069594158345 in dollars.\n"
     ]
    }
   ],
   "source": [
    "dollar_diff1 = np.exp(np.mean(SB[idx1])) - np.exp(np.mean(SS[idx1]))\n",
    "print(\"The mean of all differences is roughly equivalent to\", dollar_diff1,\n",
    "      \"in dollars.\")"
   ]
  },
  {
   "cell_type": "markdown",
   "id": "5ede8f13-f9b2-42f1-b060-3619843a90b9",
   "metadata": {},
   "source": [
    "#### 3.7"
   ]
  },
  {
   "cell_type": "code",
   "execution_count": 29,
   "id": "fa7e8934-fe7f-4480-852f-e04a2a909a3f",
   "metadata": {},
   "outputs": [
    {
     "name": "stdout",
     "output_type": "stream",
     "text": [
      "The largest difference of mean log-prices is 0.17054905444334256 And the difference in standard price is 45.13602653014425 .\n"
     ]
    }
   ],
   "source": [
    "idx2 = np.argmax(np.abs(fDiff - mean_diff))\n",
    "diff_max = np.abs(diff[idx2])\n",
    "dollar_diff2 = np.abs(np.exp(np.mean(SB[idx2])) - np.exp(np.mean(SS[idx2])))\n",
    "print(\"The largest difference of mean log-prices is\", diff_max,\n",
    "      \"And the difference in standard price is\", dollar_diff2, \".\")"
   ]
  },
  {
   "cell_type": "markdown",
   "id": "119e388f-e6e1-4895-9bc6-82b2289ca811",
   "metadata": {},
   "source": [
    "#### 3.8"
   ]
  },
  {
   "cell_type": "code",
   "execution_count": 40,
   "id": "14a77e44-fc1c-46f3-bbeb-10f36e52412c",
   "metadata": {},
   "outputs": [
    {
     "data": {
      "text/plain": [
       "0.11816694155560484"
      ]
     },
     "execution_count": 40,
     "metadata": {},
     "output_type": "execute_result"
    }
   ],
   "source": [
    "threshold_high = np.percentile(diff, 99.5)\n",
    "threshold_high"
   ]
  },
  {
   "cell_type": "code",
   "execution_count": 41,
   "id": "caf4100f-f8e7-49bf-860b-0efffcab1ace",
   "metadata": {},
   "outputs": [
    {
     "data": {
      "text/plain": [
       "-0.11087013171808116"
      ]
     },
     "execution_count": 41,
     "metadata": {},
     "output_type": "execute_result"
    }
   ],
   "source": [
    "threshold_low = np.percentile(diff, 0.5)\n",
    "threshold_low"
   ]
  },
  {
   "cell_type": "code",
   "execution_count": 42,
   "id": "0efb3517-c81a-469e-a1a1-aa3c18809fc9",
   "metadata": {},
   "outputs": [
    {
     "name": "stdout",
     "output_type": "stream",
     "text": [
      "The CI is [ -0.11087013171808116 , 0.11816694155560484 ], and the observed difference of log-price, 0.7392, does not fall into this interval.\n"
     ]
    }
   ],
   "source": [
    "print(\"The CI is [\", threshold_low, \",\", threshold_high,\\\n",
    "      \"], and the observed difference of log-price, 0.7392,\",\\\n",
    "    \"does not fall into this interval.\")"
   ]
  },
  {
   "cell_type": "markdown",
   "id": "5d442967-2b45-474a-bfe1-641b1c6867c0",
   "metadata": {},
   "source": [
    "#### 3.9"
   ]
  },
  {
   "cell_type": "code",
   "execution_count": 43,
   "id": "d516852c-ebda-4a2d-a77b-986cfb987bc4",
   "metadata": {},
   "outputs": [
    {
     "name": "stdout",
     "output_type": "stream",
     "text": [
      "The CI is [ -29.466077873554497 , 30.43125797432799 ], and the observed difference of log-price, 154.65, does not fall into this interval.\n"
     ]
    }
   ],
   "source": [
    "idx_low = np.argmin(np.abs(fDiff - threshold_low))\n",
    "idx_high = np.argmin(np.abs(fDiff - threshold_high))\n",
    "CI_low = np.exp(np.mean(SB[idx_low])) - np.exp(np.mean(SS[idx_low]))\n",
    "CI_high = np.exp(np.mean(SB[idx_high])) - np.exp(np.mean(SS[idx_high]))\n",
    "print(\"The CI is [\", CI_low, \",\", CI_high,\\\n",
    "      \"], and the observed difference of log-price, 154.65,\",\\\n",
    "    \"does not fall into this interval.\")"
   ]
  },
  {
   "cell_type": "markdown",
   "id": "e65714f5-07b4-4929-8ed7-9c1e2dc97dd0",
   "metadata": {},
   "source": [
    "#### 3.10\n",
    "As the real difference of price does not fall into the 99% conficence interval, we can say the difference in AirBnB prices between cities is not due to sample variation, as the probability for sample variation to cause this large difference is extremely low.\n",
    "## 4  Part Four: t-test\n",
    "#### 4.1"
   ]
  },
  {
   "cell_type": "code",
   "execution_count": 34,
   "id": "c8c19521-7a9b-4f0f-a3b7-05cf6387c015",
   "metadata": {},
   "outputs": [
    {
     "name": "stdout",
     "output_type": "stream",
     "text": [
      "The standare error is 0.04633138016822794 .\n"
     ]
    }
   ],
   "source": [
    "SE = np.sqrt(b_lstd**2/729 + s_lstd**2/266)\n",
    "print(\"The standare error is\", SE, \".\")"
   ]
  },
  {
   "cell_type": "markdown",
   "id": "a86b4ba7-c3f3-46f3-8730-130e5ee7d9ee",
   "metadata": {},
   "source": [
    "#### 4.2"
   ]
  },
  {
   "cell_type": "code",
   "execution_count": 38,
   "id": "51a229db-f37c-40ff-916d-0c15098e268e",
   "metadata": {},
   "outputs": [
    {
     "name": "stdout",
     "output_type": "stream",
     "text": [
      "The 99% confidence interval is ( 0.6188974468411674 0.859449972674607 ).\n"
     ]
    }
   ],
   "source": [
    "# from table, with df = 250 (the closest one to real df = 265)\n",
    "# df = 265 is choosen from min of 266 seattle data and 729 beijing data\n",
    "# and 0.01 two tail probability.\n",
    "t_cr = 2.596 \n",
    "mu = b_lmean - s_lmean\n",
    "print(\"The 99% confidence interval is (\", mu - t_cr*SE, mu + t_cr*SE,\n",
    "      \").\")"
   ]
  },
  {
   "cell_type": "markdown",
   "id": "d93971dc-1b64-4b91-8337-201d4d536b82",
   "metadata": {},
   "source": [
    "Reference: [t-table](https://media.cheggcdn.com/media/cde/cdea3619-59fe-4fb8-8299-d689c32a6799/phpYtWTJR.png)\n",
    "#### 4.3\n",
    "Based on the conficence interval, we can reject $H_0$ as $H_0 = 0$ does not falls into this confidence interval.\n",
    "#### 4.4"
   ]
  },
  {
   "cell_type": "code",
   "execution_count": 44,
   "id": "6c74da95-0856-4a26-9c28-e258c5b5b8b0",
   "metadata": {},
   "outputs": [
    {
     "name": "stdout",
     "output_type": "stream",
     "text": [
      "t-value is 15.954061957014193 .\n"
     ]
    }
   ],
   "source": [
    "t = mu/SE\n",
    "print(\"t-value is\", t, \".\")"
   ]
  },
  {
   "cell_type": "markdown",
   "id": "c1c22c30-e2cb-45a9-9555-c187dc18c57c",
   "metadata": {},
   "source": [
    "#### 4.5\n",
    "This large t-value is more likely to appear between 95% and 98% CI and when the df is low, that is when the sample size is small, which mean the likelihood that such a t-value happends just by random chance is low.\n",
    "## 5 Canned t-test Function\n",
    "#### 5.1"
   ]
  },
  {
   "cell_type": "code",
   "execution_count": 49,
   "id": "2fd7f763-98ba-4718-bf9e-af9952ef1d8d",
   "metadata": {},
   "outputs": [
    {
     "data": {
      "text/plain": [
       "Ttest_indResult(statistic=15.954061957013737, pvalue=7.439441804547704e-44)"
      ]
     },
     "execution_count": 49,
     "metadata": {},
     "output_type": "execute_result"
    }
   ],
   "source": [
    "ss.ttest_ind(beijing.log_price, seattle.log_price, equal_var=False)"
   ]
  },
  {
   "cell_type": "markdown",
   "id": "56ac55bf-fba3-46b5-b9ba-8c69b8d94a95",
   "metadata": {},
   "source": [
    "#### 5.2\n",
    "Beijing is more expensive than Seattle, and all of my three methods, simulation, 99% CI, t-value and python's t-text agree."
   ]
  },
  {
   "cell_type": "code",
   "execution_count": null,
   "id": "4deaa8c9-00c5-450a-b650-4aa32f7e59e9",
   "metadata": {},
   "outputs": [],
   "source": []
  }
 ],
 "metadata": {
  "kernelspec": {
   "display_name": "Python 3 (ipykernel)",
   "language": "python",
   "name": "python3"
  },
  "language_info": {
   "codemirror_mode": {
    "name": "ipython",
    "version": 3
   },
   "file_extension": ".py",
   "mimetype": "text/x-python",
   "name": "python",
   "nbconvert_exporter": "python",
   "pygments_lexer": "ipython3",
   "version": "3.9.7"
  }
 },
 "nbformat": 4,
 "nbformat_minor": 5
}
