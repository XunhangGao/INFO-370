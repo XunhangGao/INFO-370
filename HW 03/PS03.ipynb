{
 "cells": [
  {
   "cell_type": "code",
   "execution_count": 1,
   "id": "8d1f4046-d652-4734-b318-f3f5aa2c33ba",
   "metadata": {},
   "outputs": [],
   "source": [
    "import numpy as np\n",
    "import pandas as pd\n",
    "import matplotlib.pyplot as plt"
   ]
  },
  {
   "cell_type": "markdown",
   "id": "2d33af7d-6a64-4a6a-9f34-0038e80366db",
   "metadata": {},
   "source": [
    "# PS 03\n",
    "David Gao\n",
    "## 1 Explore Distributions\n",
    "#### 1.1 Basic Properties\n",
    "#### 1.1.1"
   ]
  },
  {
   "cell_type": "code",
   "execution_count": 2,
   "id": "f9598f64-5ecb-4074-ba64-b6b90b87637c",
   "metadata": {},
   "outputs": [],
   "source": [
    "# choose S = 10000 for size.\n",
    "ln_test = np.random.lognormal(0, 1, size=10000)"
   ]
  },
  {
   "cell_type": "markdown",
   "id": "2c73ba9b-cfd7-41e8-9df3-1eca34c65890",
   "metadata": {},
   "source": [
    "#### 1.1.2"
   ]
  },
  {
   "cell_type": "code",
   "execution_count": 55,
   "id": "62cf261d-47de-4c19-a9df-838f61b17973",
   "metadata": {},
   "outputs": [],
   "source": [
    "ln_1 = np.random.lognormal(0, 0.2, size=10000)\n",
    "ln_2 = np.random.lognormal(0, 0.5, size=10000)\n",
    "ln_3 = np.random.lognormal(0, 1.60, size=10000)"
   ]
  },
  {
   "cell_type": "code",
   "execution_count": 73,
   "id": "7229fbf9-4541-40ae-bb82-6f22d3943dff",
   "metadata": {},
   "outputs": [
    {
     "data": {
      "image/png": "[encoded data removed]",
      "text/plain": [
       "<Figure size 432x288 with 3 Axes>"
      ]
     },
     "metadata": {
      "needs_background": "light"
     },
     "output_type": "display_data"
    }
   ],
   "source": [
    "figm, axs = plt.subplots(1, 3, sharey=True, tight_layout=True)\n",
    "hist_1 = axs[0].hist(ln_1, bins = 100);\n",
    "hist_2 = axs[1].hist(ln_2, bins = 100);\n",
    "hist_3 = axs[2].hist(ln_3, bins = 100);"
   ]
  },
  {
   "cell_type": "markdown",
   "id": "5c432b70-13e1-4f1f-b12b-85668a1fdd57",
   "metadata": {},
   "source": [
    "All three graph are right-skewed, and they are more skewed as the value of $\\sigma $ increases. The first graph with $\\sigma $ = 0.2 looks similar to standard normal distribution, while the third graph with $\\sigma $ = 1.68 is heavily skewed to right."
   ]
  },
  {
   "cell_type": "code",
   "execution_count": 57,
   "id": "f9c2c630-887e-4e68-9ede-f092b159abf7",
   "metadata": {},
   "outputs": [
    {
     "data": {
      "image/png": "[encoded data removed]",
      "text/plain": [
       "<Figure size 432x288 with 1 Axes>"
      ]
     },
     "metadata": {
      "needs_background": "light"
     },
     "output_type": "display_data"
    }
   ],
   "source": [
    "# x in log scale graph\n",
    "# graph for 1st set of LN data with x axis in log scale\n",
    "plt.xscale('log')\n",
    "plt.hist(ln_1, bins = 100)\n",
    "plt.show()"
   ]
  },
  {
   "cell_type": "code",
   "execution_count": 58,
   "id": "43d87dfa-d67b-441d-bc91-27722825b333",
   "metadata": {},
   "outputs": [
    {
     "data": {
      "image/png": "[encoded data removed]",
      "text/plain": [
       "<Figure size 432x288 with 1 Axes>"
      ]
     },
     "metadata": {
      "needs_background": "light"
     },
     "output_type": "display_data"
    }
   ],
   "source": [
    "# graph for 2nd set of LN data with x axis in log scale\n",
    "plt.xscale('log')\n",
    "plt.hist(ln_2, bins = 100)\n",
    "plt.show()"
   ]
  },
  {
   "cell_type": "code",
   "execution_count": 75,
   "id": "7eeac9ab-7993-485e-a52f-5f2529a1631b",
   "metadata": {},
   "outputs": [
    {
     "data": {
      "image/png": "[encoded data removed]",
      "text/plain": [
       "<Figure size 432x288 with 1 Axes>"
      ]
     },
     "metadata": {
      "needs_background": "light"
     },
     "output_type": "display_data"
    }
   ],
   "source": [
    "# graph for 3rd set of LN data with x axis in log scale\n",
    "plt.xscale('log')\n",
    "plt.hist(ln_3,bins = 1000)\n",
    "plt.show()"
   ]
  },
  {
   "cell_type": "markdown",
   "id": "984f527b-8706-4f88-86d2-f7178351f79c",
   "metadata": {},
   "source": [
    "All three graphs looks more of standard form of normal distributions, but the third graph is still kind of right skewed.\\\n",
    "\\\n",
    "Reference: \\\n",
    "[histograms plot](https://www.w3schools.com/python/matplotlib_histograms.asp)\\\n",
    "[multiple histograms plot](https://matplotlib.org/stable/gallery/statistics/hist.html)\\\n",
    "[x axis log scale](https://stackoverflow.com/questions/41000668/log-x-axis-for-histogram)\n"
   ]
  },
  {
   "cell_type": "markdown",
   "id": "d4a47090-0667-4f5e-bf96-db9fd362bee0",
   "metadata": {},
   "source": [
    "#### 1.1.3"
   ]
  },
  {
   "cell_type": "markdown",
   "id": "f242f830-e361-403a-a98d-663cf71f2d97",
   "metadata": {},
   "source": [
    "All three graph are right-skewed, and they are more skewed as the value of $\\sigma $ increases. The first graph with $\\sigma $ = 0.2 looks similar to standard normal distribution, least unequal distribution, while the third graph with $\\sigma $ = 1.68 is heavily skewed to right, most unequally distributed."
   ]
  },
  {
   "cell_type": "markdown",
   "id": "5517faa5-33cf-4325-b935-439b07556048",
   "metadata": {},
   "source": [
    "#### 1.1.4"
   ]
  },
  {
   "cell_type": "code",
   "execution_count": 60,
   "id": "cf69c109-d0d4-43f5-b4fd-05955e456b7c",
   "metadata": {},
   "outputs": [
    {
     "name": "stdout",
     "output_type": "stream",
     "text": [
      "The means for three samples are 1.0233073363686742 , 1.142111740203167 , and 3.670368895671078 correspondingly.\n"
     ]
    }
   ],
   "source": [
    "mean1 = ln_1.mean()\n",
    "mean2 = ln_2.mean()\n",
    "mean3 = ln_3.mean()\n",
    "print(\"The means for three samples are\", mean1, \",\", mean2,\", and\", mean3, \"correspondingly.\")"
   ]
  },
  {
   "cell_type": "code",
   "execution_count": 61,
   "id": "a480f6e6-02a0-4106-bf7b-a07c3253507b",
   "metadata": {},
   "outputs": [
    {
     "name": "stdout",
     "output_type": "stream",
     "text": [
      "The variances for three samples are 0.042763284256849145 , 0.3766643599184934 , and 140.07377311327758 correspondingly.\n"
     ]
    }
   ],
   "source": [
    "var1 = ln_1.var()\n",
    "var2 = ln_2.var()\n",
    "var3 = ln_3.var()\n",
    "print(\"The variances for three samples are\", var1, \",\", var2,\", and\", var3, \"correspondingly.\")"
   ]
  },
  {
   "cell_type": "code",
   "execution_count": 62,
   "id": "d05c4be6-3d2a-408c-8c87-4d5e33cc71bd",
   "metadata": {},
   "outputs": [
    {
     "name": "stdout",
     "output_type": "stream",
     "text": [
      "The means for three samples are 1.0202013400267558 , 1.1331484530668263 , and 4.1008735008239405 correspondingly.\n"
     ]
    }
   ],
   "source": [
    "# function for mean value\n",
    "def mean_v( mu, sigma ):\n",
    "    mean = np.exp(mu + (1/2)*(sigma**2))\n",
    "    return mean\n",
    "\n",
    "print(\"The means for three samples are\", mean_v(0, 0.2), \",\", mean_v(0, 0.5),\", and\", mean_v(0, 1.68), \"correspondingly.\")"
   ]
  },
  {
   "cell_type": "code",
   "execution_count": 63,
   "id": "9fa047c1-3173-49b2-bf0d-93913a933a23",
   "metadata": {},
   "outputs": [
    {
     "name": "stdout",
     "output_type": "stream",
     "text": [
      "The variances for three samples are 0.04247629348257031 , 0.3646958540123865 , and 265.99982369887033 correspondingly.\n"
     ]
    }
   ],
   "source": [
    "# function for variance value\n",
    "def var_v( mu, sigma ):\n",
    "    var = np.exp(2*mu + sigma**2)*(np.exp(sigma**2) - 1)\n",
    "    return var\n",
    "\n",
    "print(\"The variances for three samples are\", var_v(0, 0.2), \",\", var_v(0, 0.5),\", and\", var_v(0, 1.68), \"correspondingly.\")"
   ]
  },
  {
   "cell_type": "markdown",
   "id": "160ac5bf-0069-4834-a31f-75ecbda0f544",
   "metadata": {},
   "source": [
    "The values for theoretical and sample means are closer, but variances are kind of different.\n",
    "For the first two sample, which are closer to standard normal distribution, both theoretical and sample values are colser.\n",
    "For the third sample, which is more right skewed, theoretical and sample values are quite different from each other.\n",
    "#### 1.2 80-20 ratio\n",
    "#### 1.2.1\n",
    "#### (a)"
   ]
  },
  {
   "cell_type": "code",
   "execution_count": 68,
   "id": "0149e3f0-b183-4af5-87c7-238d4e074d53",
   "metadata": {},
   "outputs": [
    {
     "name": "stdout",
     "output_type": "stream",
     "text": [
      "The sums for three LN samples are 10233.073363686743 , 11421.11740203167 , and 36703.68895671078 .\n"
     ]
    }
   ],
   "source": [
    "total1 = ln_1.sum()\n",
    "total2 = ln_2.sum()\n",
    "total3 = ln_3.sum()\n",
    "print(\"The sums for three LN samples are\", total1, \",\", total2, \", and\", total3, \".\")"
   ]
  },
  {
   "cell_type": "markdown",
   "id": "f9fd0bb8-cae2-482e-b33d-75fd1a71a019",
   "metadata": {},
   "source": [
    "#### (b)"
   ]
  },
  {
   "cell_type": "code",
   "execution_count": 174,
   "id": "cdbc58a5-6120-422f-8ce3-9d27185437ad",
   "metadata": {},
   "outputs": [
    {
     "name": "stdout",
     "output_type": "stream",
     "text": [
      "The corresponding income threshold of three LN samples are 1.2911813882883998 , 1.9142549101336805 , and 7.922026885490794 correspondingly.\n"
     ]
    }
   ],
   "source": [
    "threshold1 = np.percentile(ln_1, 90)\n",
    "threshold2 = np.percentile(ln_2, 90)\n",
    "threshold3 = np.percentile(ln_3, 90)\n",
    "print(\"The corresponding income threshold of three LN samples are\", quantile1, \",\", quantile2, \", and\", quantile3, \"correspondingly.\")"
   ]
  },
  {
   "cell_type": "markdown",
   "id": "99906bcc-d32e-4d9c-9632-c24888bf8b05",
   "metadata": {},
   "source": [
    "#### (c)"
   ]
  },
  {
   "cell_type": "code",
   "execution_count": 70,
   "id": "6c3482b8-1490-485f-8583-56dc0d625d02",
   "metadata": {},
   "outputs": [
    {
     "name": "stdout",
     "output_type": "stream",
     "text": [
      "The total incomes of the top 10 pct for each LN sample are 1430.1319591291572 , 2500.747341949419 , and 23247.21173859522 .\n"
     ]
    }
   ],
   "source": [
    "top10_1 = ln_1[ln_1 > threshold1].sum()\n",
    "top10_2 = ln_2[ln_2 > threshold2].sum()\n",
    "top10_3 = ln_3[ln_3 > threshold3].sum()\n",
    "print(\"The total incomes of the top 10 pct for each LN sample are\", top10_1, \",\", top10_2, \", and\", top10_3, \".\")"
   ]
  },
  {
   "cell_type": "markdown",
   "id": "a24535c7-9df0-44c6-9d6b-5aa266ac5d56",
   "metadata": {},
   "source": [
    "#### (d)"
   ]
  },
  {
   "cell_type": "code",
   "execution_count": 71,
   "id": "63410ede-bac5-4880-a72a-6e8e12cb8a45",
   "metadata": {},
   "outputs": [
    {
     "name": "stdout",
     "output_type": "stream",
     "text": [
      "The wealth share of three samples are 0.13975585909548421 , 0.2189582029429597 , and 0.6333753472576978 .\n"
     ]
    }
   ],
   "source": [
    "share1 = top10_1/total1\n",
    "share2 = top10_2/total2\n",
    "share3 = top10_3/total3\n",
    "print(\"The wealth share of three samples are\", share1, \",\", share2, \", and\", share3, \".\")"
   ]
  },
  {
   "cell_type": "markdown",
   "id": "09c89dce-1663-43e4-97ab-67ac7b507479",
   "metadata": {},
   "source": [
    "None of these are more than 90%."
   ]
  },
  {
   "cell_type": "code",
   "execution_count": 44,
   "id": "f626544e-90e9-41a2-a856-86e4abb83966",
   "metadata": {},
   "outputs": [
    {
     "name": "stdout",
     "output_type": "stream",
     "text": [
      "The wealth share of three samples are 0.1522327015959267 , 0.23628261838305395 , and 0.6467570536930668 .\n"
     ]
    }
   ],
   "source": [
    "# repeat for top 20%\n",
    "quantile1 = np.percentile(ln_1, 89)\n",
    "quantile2 = np.percentile(ln_2, 89)\n",
    "quantile3 = np.percentile(ln_3, 89)\n",
    "\n",
    "top10_1 = ln_1[ln_1 > quantile1].sum()\n",
    "top10_2 = ln_2[ln_2 > quantile2].sum()\n",
    "top10_3 = ln_3[ln_3 > quantile3].sum()\n",
    "\n",
    "share1 = top10_1/total1\n",
    "share2 = top10_2/total2\n",
    "share3 = top10_3/total3\n",
    "print(\"The wealth share of three samples are\", share1, \",\", share2, \", and\", share3, \".\")"
   ]
  },
  {
   "cell_type": "markdown",
   "id": "4edcee5f-9ccf-4b24-a01b-4859e00276cd",
   "metadata": {},
   "source": [
    "Repeat previous calculation for top 11 percent, and still none of these samples are higher than 90%."
   ]
  },
  {
   "cell_type": "markdown",
   "id": "d4257d74-a762-45cf-a162-69eb3cf8955d",
   "metadata": {},
   "source": [
    "#### (e)"
   ]
  },
  {
   "cell_type": "code",
   "execution_count": 168,
   "id": "e58edc7f-e8b1-451d-9db3-e4964958d8a6",
   "metadata": {},
   "outputs": [
    {
     "name": "stdout",
     "output_type": "stream",
     "text": [
      " Top 46 % have  54.0 % of 'income' in sample1. \n",
      " Top 40 % have  60.0 % of 'income' in sample2. \n",
      " Top 20 % have  79.0 % of 'income' in sample3. \n",
      "\n"
     ]
    }
   ],
   "source": [
    "def share8020(ln):\n",
    "    i = 1\n",
    "    share = 0\n",
    "    while(~(99<= share + i <= 100)):\n",
    "        i = i + 1\n",
    "        threshold = np.percentile(ln, 100 - i)\n",
    "        top = ln[ln > threshold].sum()\n",
    "        share = np.ceil((top/ln.sum())*100)\n",
    "        # print(\"i:\", i, \"; share:\", share)\n",
    "    return i, share\n",
    "\n",
    "top1,share1 = share90(ln_1)\n",
    "top2,share2 = share90(ln_2)\n",
    "top3,share3 = share90(ln_3)\n",
    "print(\" Top\", top1, \"% have \", share1, \"% of 'income' in sample1. \\n\",\n",
    "     \"Top\", top2, \"% have \", share2, \"% of 'income' in sample2. \\n\",\n",
    "     \"Top\", top3, \"% have \", share3, \"% of 'income' in sample3. \\n\"\n",
    "     )"
   ]
  },
  {
   "cell_type": "markdown",
   "id": "8c30eba3-8e64-4b1e-8454-5e6ea73c0703",
   "metadata": {},
   "source": [
    "Reference: [round decimals](https://www.delftstack.com/howto/python/python-round-up/#:~:text=Another%20method%20to%20round%20up%20a%20number%20is,integers%2C%20the%20output%20will%20be%20in%20the%20float.)"
   ]
  },
  {
   "cell_type": "markdown",
   "id": "1ee6477c-35dc-476b-abb2-c458fb94d710",
   "metadata": {},
   "source": [
    "#### 1.2.2"
   ]
  },
  {
   "cell_type": "markdown",
   "id": "7e7fde19-68a7-4018-bb26-2e8e954d05ce",
   "metadata": {},
   "source": [
    "The distribution of the third sample, with $\\mu = 0, \\sigma = 1.68$, is the most unequal. The first sample, with $\\mu = 0, \\sigma = 0.2$, is the most equal one. And this corresponds to my impression based on the histogram, as the third plot skew to right the most."
   ]
  },
  {
   "cell_type": "markdown",
   "id": "c5af0e3f-1fd9-425e-9627-697b4754c7dd",
   "metadata": {},
   "source": [
    "#### 1.3 Inequality in data\n",
    "#### 1.3.1"
   ]
  },
  {
   "cell_type": "code",
   "execution_count": 46,
   "id": "17d2470e-acbf-4119-87c0-258c3f7a66be",
   "metadata": {},
   "outputs": [
    {
     "data": {
      "text/html": [
       "<div>\n",
       "<style scoped>\n",
       "    .dataframe tbody tr th:only-of-type {\n",
       "        vertical-align: middle;\n",
       "    }\n",
       "\n",
       "    .dataframe tbody tr th {\n",
       "        vertical-align: top;\n",
       "    }\n",
       "\n",
       "    .dataframe thead th {\n",
       "        text-align: right;\n",
       "    }\n",
       "</style>\n",
       "<table border=\"1\" class=\"dataframe\">\n",
       "  <thead>\n",
       "    <tr style=\"text-align: right;\">\n",
       "      <th></th>\n",
       "      <th>treat</th>\n",
       "      <th>age</th>\n",
       "      <th>educ</th>\n",
       "      <th>ethn</th>\n",
       "      <th>married</th>\n",
       "      <th>re74</th>\n",
       "      <th>re75</th>\n",
       "      <th>re78</th>\n",
       "      <th>u74</th>\n",
       "      <th>u75</th>\n",
       "    </tr>\n",
       "  </thead>\n",
       "  <tbody>\n",
       "    <tr>\n",
       "      <th>0</th>\n",
       "      <td>True</td>\n",
       "      <td>37</td>\n",
       "      <td>11</td>\n",
       "      <td>black</td>\n",
       "      <td>True</td>\n",
       "      <td>0.0</td>\n",
       "      <td>0.0</td>\n",
       "      <td>9930.05</td>\n",
       "      <td>True</td>\n",
       "      <td>True</td>\n",
       "    </tr>\n",
       "    <tr>\n",
       "      <th>1</th>\n",
       "      <td>True</td>\n",
       "      <td>30</td>\n",
       "      <td>12</td>\n",
       "      <td>black</td>\n",
       "      <td>False</td>\n",
       "      <td>0.0</td>\n",
       "      <td>0.0</td>\n",
       "      <td>24909.50</td>\n",
       "      <td>True</td>\n",
       "      <td>True</td>\n",
       "    </tr>\n",
       "    <tr>\n",
       "      <th>2</th>\n",
       "      <td>True</td>\n",
       "      <td>27</td>\n",
       "      <td>11</td>\n",
       "      <td>black</td>\n",
       "      <td>False</td>\n",
       "      <td>0.0</td>\n",
       "      <td>0.0</td>\n",
       "      <td>7506.15</td>\n",
       "      <td>True</td>\n",
       "      <td>True</td>\n",
       "    </tr>\n",
       "    <tr>\n",
       "      <th>3</th>\n",
       "      <td>True</td>\n",
       "      <td>33</td>\n",
       "      <td>8</td>\n",
       "      <td>black</td>\n",
       "      <td>False</td>\n",
       "      <td>0.0</td>\n",
       "      <td>0.0</td>\n",
       "      <td>289.79</td>\n",
       "      <td>True</td>\n",
       "      <td>True</td>\n",
       "    </tr>\n",
       "    <tr>\n",
       "      <th>4</th>\n",
       "      <td>True</td>\n",
       "      <td>22</td>\n",
       "      <td>9</td>\n",
       "      <td>black</td>\n",
       "      <td>False</td>\n",
       "      <td>0.0</td>\n",
       "      <td>0.0</td>\n",
       "      <td>4056.49</td>\n",
       "      <td>True</td>\n",
       "      <td>True</td>\n",
       "    </tr>\n",
       "  </tbody>\n",
       "</table>\n",
       "</div>"
      ],
      "text/plain": [
       "   treat  age  educ   ethn  married  re74  re75      re78   u74   u75\n",
       "0   True   37    11  black     True   0.0   0.0   9930.05  True  True\n",
       "1   True   30    12  black    False   0.0   0.0  24909.50  True  True\n",
       "2   True   27    11  black    False   0.0   0.0   7506.15  True  True\n",
       "3   True   33     8  black    False   0.0   0.0    289.79  True  True\n",
       "4   True   22     9  black    False   0.0   0.0   4056.49  True  True"
      ]
     },
     "execution_count": 46,
     "metadata": {},
     "output_type": "execute_result"
    }
   ],
   "source": [
    "treatment = pd.read_csv(r'treatment.csv', sep='\\t')\n",
    "treatment.head(5)"
   ]
  },
  {
   "cell_type": "code",
   "execution_count": 47,
   "id": "712a9e5b-cd26-4e68-acfe-76be9bf83b8e",
   "metadata": {},
   "outputs": [
    {
     "data": {
      "text/html": [
       "<div>\n",
       "<style scoped>\n",
       "    .dataframe tbody tr th:only-of-type {\n",
       "        vertical-align: middle;\n",
       "    }\n",
       "\n",
       "    .dataframe tbody tr th {\n",
       "        vertical-align: top;\n",
       "    }\n",
       "\n",
       "    .dataframe thead th {\n",
       "        text-align: right;\n",
       "    }\n",
       "</style>\n",
       "<table border=\"1\" class=\"dataframe\">\n",
       "  <thead>\n",
       "    <tr style=\"text-align: right;\">\n",
       "      <th></th>\n",
       "      <th>id</th>\n",
       "      <th>citations</th>\n",
       "      <th>year</th>\n",
       "    </tr>\n",
       "  </thead>\n",
       "  <tbody>\n",
       "    <tr>\n",
       "      <th>0</th>\n",
       "      <td>1926704088</td>\n",
       "      <td>10</td>\n",
       "      <td>2004</td>\n",
       "    </tr>\n",
       "    <tr>\n",
       "      <th>1</th>\n",
       "      <td>1590836146</td>\n",
       "      <td>0</td>\n",
       "      <td>1971</td>\n",
       "    </tr>\n",
       "    <tr>\n",
       "      <th>2</th>\n",
       "      <td>2035484488</td>\n",
       "      <td>3</td>\n",
       "      <td>2007</td>\n",
       "    </tr>\n",
       "    <tr>\n",
       "      <th>3</th>\n",
       "      <td>1965723909</td>\n",
       "      <td>0</td>\n",
       "      <td>2009</td>\n",
       "    </tr>\n",
       "    <tr>\n",
       "      <th>4</th>\n",
       "      <td>2021155615</td>\n",
       "      <td>42</td>\n",
       "      <td>1998</td>\n",
       "    </tr>\n",
       "  </tbody>\n",
       "</table>\n",
       "</div>"
      ],
      "text/plain": [
       "           id  citations  year\n",
       "0  1926704088         10  2004\n",
       "1  1590836146          0  1971\n",
       "2  2035484488          3  2007\n",
       "3  1965723909          0  2009\n",
       "4  2021155615         42  1998"
      ]
     },
     "execution_count": 47,
     "metadata": {},
     "output_type": "execute_result"
    }
   ],
   "source": [
    "mag = pd.read_csv(r'mag-30k-citations.csv', sep='\\t')\n",
    "mag.head(5)"
   ]
  },
  {
   "cell_type": "markdown",
   "id": "30814c47-646f-4cd0-ac77-d653eeebcb9b",
   "metadata": {},
   "source": [
    "Both data looks reasonable.\n",
    "#### 1.3.2"
   ]
  },
  {
   "cell_type": "code",
   "execution_count": 48,
   "id": "fae35710-bffa-41ca-80f7-e77815436a38",
   "metadata": {},
   "outputs": [
    {
     "data": {
      "image/png": "[encoded data removed]",
      "text/plain": [
       "<Figure size 432x288 with 1 Axes>"
      ]
     },
     "metadata": {
      "needs_background": "light"
     },
     "output_type": "display_data"
    }
   ],
   "source": [
    "# income plot\n",
    "plt.hist(treatment.re78, bins = 100)\n",
    "plt.xlabel(\"income\")\n",
    "plt.ylabel(\"population\")\n",
    "plt.title(\"Distribution of Income\")\n",
    "plt.show()"
   ]
  },
  {
   "cell_type": "code",
   "execution_count": 49,
   "id": "f3001f06-815b-439f-a7a3-1317c8d6f7d6",
   "metadata": {},
   "outputs": [
    {
     "data": {
      "image/png": "[encoded data removed]",
      "text/plain": [
       "<Figure size 432x288 with 1 Axes>"
      ]
     },
     "metadata": {
      "needs_background": "light"
     },
     "output_type": "display_data"
    }
   ],
   "source": [
    "# income log plot\n",
    "plt.hist(np.log(treatment.re78 + 1), bins = 100)\n",
    "plt.xlabel(\"income\")\n",
    "plt.ylabel(\"population\")\n",
    "plt.title(\"Distribution of Income\")\n",
    "plt.show()"
   ]
  },
  {
   "cell_type": "code",
   "execution_count": 170,
   "id": "ad576a90-4672-441b-9764-f6fc90a55f5d",
   "metadata": {},
   "outputs": [
    {
     "data": {
      "image/png": "[encoded data removed]",
      "text/plain": [
       "<Figure size 432x288 with 1 Axes>"
      ]
     },
     "metadata": {
      "needs_background": "light"
     },
     "output_type": "display_data"
    }
   ],
   "source": [
    "# citation plot\n",
    "plt.hist(mag.citations, bins = 100)\n",
    "plt.xlabel(\"# of citation\")\n",
    "plt.ylabel(\"# of research paper\")\n",
    "plt.title(\"Distribution of Citations\")\n",
    "plt.show()"
   ]
  },
  {
   "cell_type": "code",
   "execution_count": 171,
   "id": "d525b237-cd8c-482f-894a-e7d69d405e8c",
   "metadata": {},
   "outputs": [
    {
     "data": {
      "image/png": "[encoded data removed]",
      "text/plain": [
       "<Figure size 432x288 with 1 Axes>"
      ]
     },
     "metadata": {
      "needs_background": "light"
     },
     "output_type": "display_data"
    }
   ],
   "source": [
    "# citation log plot\n",
    "plt.hist(np.log(mag.citations + 1), bins = 100)\n",
    "plt.xlabel(\"# of citation\")\n",
    "plt.ylabel(\"# of research paper\")\n",
    "plt.title(\"Distribution of Citations\")\n",
    "plt.show()"
   ]
  },
  {
   "cell_type": "markdown",
   "id": "e83f8ea3-5b61-4d10-972a-456e4bae9b4b",
   "metadata": {},
   "source": [
    "#### 1.3.3"
   ]
  },
  {
   "cell_type": "code",
   "execution_count": 172,
   "id": "3f874d27-6f27-45c6-9500-d7bb08db15ea",
   "metadata": {},
   "outputs": [
    {
     "name": "stdout",
     "output_type": "stream",
     "text": [
      " The mean and standard deviation of income are 20502.37607865417 and 15632.519774212507 . And the mean is 4869.856304441664 larger than standard deviation. \n",
      " The mean and standard deviation of citations are 15.605633333333333 and 79.17810312200979 . And the standard deviation is 63.57246978867646 larger than mean.\n"
     ]
    }
   ],
   "source": [
    "income_mean = treatment.re78.mean()\n",
    "income_sd = np.sqrt(treatment.re78.var())\n",
    "citation_mean = mag.citations.mean()\n",
    "citation_sd = np.sqrt(mag.citations.var())\n",
    "print(\" The mean and standard deviation of income are\", income_mean, \"and\", income_sd, \". And the mean is\", income_mean - income_sd, \"larger than standard deviation.\", \"\\n\",\n",
    "     \"The mean and standard deviation of citations are\", citation_mean, \"and\", citation_sd, \". And the standard deviation is\", citation_sd - citation_mean, \"larger than mean.\")"
   ]
  },
  {
   "cell_type": "markdown",
   "id": "a1fd7472-46e7-4fa6-b833-a49277ac3a54",
   "metadata": {},
   "source": [
    "#### 1.3.4"
   ]
  },
  {
   "cell_type": "code",
   "execution_count": 169,
   "id": "f218f307-fa8e-471d-9015-b12bcf51a7a2",
   "metadata": {},
   "outputs": [
    {
     "name": "stdout",
     "output_type": "stream",
     "text": [
      " Top 36 % of people have: 64.0 % of income. \n",
      " Top 17 % of research papers have 83.0 of citations. \n",
      "\n"
     ]
    }
   ],
   "source": [
    "top1,share1 = share8020(treatment.re78)\n",
    "top2,share2 = share8020(mag.citations)\n",
    "print(\" Top\", top1, \"% of people have:\", share1, \"% of income. \\n\",\n",
    "     \"Top\", top2, \"% of research papers have\", share2, \"of citations. \\n\")"
   ]
  },
  {
   "cell_type": "markdown",
   "id": "1965ca99-3079-4af0-aec0-a24390ad03a2",
   "metadata": {},
   "source": [
    "## 2 Explore Central Limit Theorem\n",
    "#### 2.1"
   ]
  },
  {
   "cell_type": "markdown",
   "id": "a3690cc6-1612-4ce9-ba01-50290a6bbb64",
   "metadata": {},
   "source": [
    "Expected value is $E(X) = 0.5 \\times 1 + 0.5 \\times (-1) = 0$. And the variance is $Var(X) = (0.5 \\times 1^2 + 0.5 \\times (-1)^2) - 0 = 1$."
   ]
  },
  {
   "cell_type": "markdown",
   "id": "42010391-f081-4159-b125-100f8c0f7ce4",
   "metadata": {},
   "source": [
    "#### 2.2"
   ]
  },
  {
   "cell_type": "markdown",
   "id": "622f009a-3f1f-4671-9150-52ac38c6e874",
   "metadata": {},
   "source": [
    "Choose R = 1000."
   ]
  },
  {
   "cell_type": "markdown",
   "id": "e05f50d5-a636-4b49-b614-b522abdb881f",
   "metadata": {},
   "source": [
    "#### 2.3"
   ]
  },
  {
   "cell_type": "code",
   "execution_count": 28,
   "id": "f0af50d3-228a-48df-842b-60d5f9dbde14",
   "metadata": {},
   "outputs": [
    {
     "data": {
      "image/png": "[encoded data removed]",
      "text/plain": [
       "<Figure size 432x288 with 1 Axes>"
      ]
     },
     "metadata": {
      "needs_background": "light"
     },
     "output_type": "display_data"
    }
   ],
   "source": [
    "samples = []\n",
    "for i in range(1000):\n",
    "    sample = np.random.randint(0,2, size=1)*2 - 1\n",
    "    samples.append(sample[0])\n",
    "\n",
    "plt.hist(samples)\n",
    "plt.show()"
   ]
  },
  {
   "cell_type": "markdown",
   "id": "e9ad0948-0172-48da-8354-d8f102529f06",
   "metadata": {},
   "source": [
    "#### 2.4"
   ]
  },
  {
   "cell_type": "code",
   "execution_count": 147,
   "id": "3042d564-c271-4504-a9c2-5559887b034e",
   "metadata": {},
   "outputs": [
    {
     "name": "stdout",
     "output_type": "stream",
     "text": [
      " The mean is -0.042 and the variance is 0.9982360000000001 . \n",
      " And both value are close to the value calculated in 2.1.\n"
     ]
    }
   ],
   "source": [
    "mean = np.mean(samples)\n",
    "var = np.var(samples)\n",
    "print(\" The mean is\", mean, \"and the variance is\", var, \". \\n And both value are close to the value calculated in 2.1.\")"
   ]
  },
  {
   "cell_type": "markdown",
   "id": "f3b97d08-1b22-49aa-be8a-4d3fb1d1fa6d",
   "metadata": {},
   "source": [
    "#### 2.5"
   ]
  },
  {
   "cell_type": "code",
   "execution_count": 87,
   "id": "eb35556f-75b7-4585-abd1-b8c4af53f0d6",
   "metadata": {},
   "outputs": [
    {
     "data": {
      "image/png": "[encoded data removed]",
      "text/plain": [
       "<Figure size 432x288 with 1 Axes>"
      ]
     },
     "metadata": {
      "needs_background": "light"
     },
     "output_type": "display_data"
    }
   ],
   "source": [
    "samples2 = []\n",
    "mean2 = []\n",
    "for i in range(1000):\n",
    "    sample = np.random.randint(0,2, size=2)*2 - 1\n",
    "    mean2.append(sample.mean())\n",
    "    samples2.append(sample)\n",
    "\n",
    "plt.hist(mean2, bins = 3)\n",
    "plt.show()"
   ]
  },
  {
   "cell_type": "markdown",
   "id": "d3dcff8c-f719-46c1-9d9f-c25083074f03",
   "metadata": {},
   "source": [
    "The histogram looks like a normal distribution.\n",
    "#### 2.6"
   ]
  },
  {
   "cell_type": "code",
   "execution_count": 88,
   "id": "e1d94b4f-6a77-4042-9535-af65c26d2b90",
   "metadata": {},
   "outputs": [
    {
     "name": "stdout",
     "output_type": "stream",
     "text": [
      "The pair mean is 0.007 and the pair variance is 0.5069509999999999 .\n"
     ]
    }
   ],
   "source": [
    "mean_of_m2 = np.mean(mean2)\n",
    "var_of_m2 = np.var(mean2)\n",
    "print(\"The pair mean is\", mean_of_m2, \"and the pair variance is\", var_of_m2, \".\")"
   ]
  },
  {
   "cell_type": "markdown",
   "id": "0eb8d3c8-f3d9-46b0-a82a-0c8728afc8dd",
   "metadata": {},
   "source": [
    "The pair mean is similar to the original mean in 2.1, but the pair variance is 1/2 of the original variance in 2.1."
   ]
  },
  {
   "cell_type": "markdown",
   "id": "874c458e-ef53-4eca-802a-97fddcf4a37d",
   "metadata": {},
   "source": [
    "#### 2.7"
   ]
  },
  {
   "cell_type": "code",
   "execution_count": 89,
   "id": "316bcc8c-3e27-4704-83f8-01904b774671",
   "metadata": {},
   "outputs": [
    {
     "data": {
      "text/plain": [
       "0.007"
      ]
     },
     "execution_count": 89,
     "metadata": {},
     "output_type": "execute_result"
    }
   ],
   "source": [
    "np.sum(mean2)/1000"
   ]
  },
  {
   "cell_type": "markdown",
   "id": "4af45828-8429-412c-b2e5-83009a23e187",
   "metadata": {},
   "source": [
    "The expected value should stays the similar as 2.1, which is $$E(\\bar{X}) = \\frac{1}{N} \\times \\sum_{i}X_i = 0.007$$."
   ]
  },
  {
   "cell_type": "code",
   "execution_count": 96,
   "id": "21c405e5-f1fb-4026-afcf-26b1b2d6d10a",
   "metadata": {},
   "outputs": [
    {
     "data": {
      "text/plain": [
       "0.5"
      ]
     },
     "execution_count": 96,
     "metadata": {},
     "output_type": "execute_result"
    }
   ],
   "source": [
    "np.mean([i**2 for i in mean2]) - np.sum(mean2)/1000"
   ]
  },
  {
   "cell_type": "markdown",
   "id": "1db851e6-054c-49d8-9f44-ac203ca17fce",
   "metadata": {},
   "source": [
    "The vriance value should be 1/2 of the original variance, $$Var(\\bar{X}) = E(\\bar{X})^2 - E(\\bar{X}^2) = 0.5$$"
   ]
  },
  {
   "cell_type": "markdown",
   "id": "25572e3b-9304-4084-af8d-3dbb56520ca1",
   "metadata": {},
   "source": [
    "#### 2.8"
   ]
  },
  {
   "cell_type": "code",
   "execution_count": 105,
   "id": "e20aac14-d135-41ae-b03d-635b7babc5b6",
   "metadata": {},
   "outputs": [
    {
     "data": {
      "image/png": "[encoded data removed]",
      "text/plain": [
       "<Figure size 432x288 with 1 Axes>"
      ]
     },
     "metadata": {
      "needs_background": "light"
     },
     "output_type": "display_data"
    }
   ],
   "source": [
    "samples5 = []\n",
    "mean5 = []\n",
    "for i in range(1000):\n",
    "    sample = np.random.randint(0,2, size=5)*2 - 1\n",
    "    mean5.append(sample.mean())\n",
    "    samples5.append(sample)\n",
    "\n",
    "plt.hist(mean5, bins = 3)\n",
    "plt.show()"
   ]
  },
  {
   "cell_type": "markdown",
   "id": "291e6f56-9176-4139-b143-1b7bce12fa42",
   "metadata": {},
   "source": [
    "The mean values of samples of 5 are more concentrated to 0, compared with sample of 2."
   ]
  },
  {
   "cell_type": "code",
   "execution_count": 106,
   "id": "e1112c54-fbda-40c2-bdac-1e23d5371624",
   "metadata": {},
   "outputs": [
    {
     "data": {
      "text/plain": [
       "0.0028"
      ]
     },
     "execution_count": 106,
     "metadata": {},
     "output_type": "execute_result"
    }
   ],
   "source": [
    "np.sum(mean5)/1000"
   ]
  },
  {
   "cell_type": "markdown",
   "id": "a6ac9742-2bdf-4e17-a96a-fe4e0939d159",
   "metadata": {},
   "source": [
    "The expected value should stays the similar as 2.1, which is $$E(\\bar{X}) = \\frac{1}{N} \\times \\sum_{i}X_i = 0.0028$$."
   ]
  },
  {
   "cell_type": "code",
   "execution_count": 107,
   "id": "bfe20d95-da6a-4d8e-a18e-6407f188f713",
   "metadata": {},
   "outputs": [
    {
     "data": {
      "text/plain": [
       "0.20104"
      ]
     },
     "execution_count": 107,
     "metadata": {},
     "output_type": "execute_result"
    }
   ],
   "source": [
    "np.mean([i**2 for i in mean5]) - np.sum(mean5)/1000"
   ]
  },
  {
   "cell_type": "markdown",
   "id": "9edbe932-bd1f-47a8-a2ff-e3c07033722b",
   "metadata": {},
   "source": [
    "The vriance value should be 1/5 of the original variance, $$Var(\\bar{X}) = E(\\bar{X})^2 - E(\\bar{X}^2) = 0.20104$$"
   ]
  },
  {
   "cell_type": "markdown",
   "id": "faac26f5-01a2-4170-8526-9f1928af17c2",
   "metadata": {},
   "source": [
    "#### 2.9"
   ]
  },
  {
   "cell_type": "code",
   "execution_count": 108,
   "id": "f5bf47d6-e835-4b3f-8c55-2142ce083210",
   "metadata": {},
   "outputs": [
    {
     "data": {
      "image/png": "[encoded data removed]",
      "text/plain": [
       "<Figure size 432x288 with 1 Axes>"
      ]
     },
     "metadata": {
      "needs_background": "light"
     },
     "output_type": "display_data"
    }
   ],
   "source": [
    "samples25 = []\n",
    "mean25 = []\n",
    "for i in range(1000):\n",
    "    sample = np.random.randint(0,2, size=25)*2 - 1\n",
    "    mean25.append(sample.mean())\n",
    "    samples25.append(sample)\n",
    "\n",
    "plt.hist(mean25, bins = 3)\n",
    "plt.show()"
   ]
  },
  {
   "cell_type": "code",
   "execution_count": 109,
   "id": "2168422a-76ae-4ea2-aa6a-9643bfe2907f",
   "metadata": {},
   "outputs": [
    {
     "data": {
      "text/plain": [
       "-0.005440000000000001"
      ]
     },
     "execution_count": 109,
     "metadata": {},
     "output_type": "execute_result"
    }
   ],
   "source": [
    "np.sum(mean25)/1000"
   ]
  },
  {
   "cell_type": "markdown",
   "id": "a3487f47-295c-4168-956e-8d0448f435f0",
   "metadata": {},
   "source": [
    "The expected value should stays the similar as 2.1, which is $$E(\\bar{X}) = \\frac{1}{N} \\times \\sum_{i}X_i = -0.00544$$."
   ]
  },
  {
   "cell_type": "code",
   "execution_count": 114,
   "id": "bc88da33-4387-4330-b43e-40333197b662",
   "metadata": {},
   "outputs": [
    {
     "data": {
      "text/plain": [
       "0.04288000000000001"
      ]
     },
     "execution_count": 114,
     "metadata": {},
     "output_type": "execute_result"
    }
   ],
   "source": [
    "np.mean([i**2 for i in mean25]) - np.sum(mean25)/1000"
   ]
  },
  {
   "cell_type": "markdown",
   "id": "dc07e58f-dc5c-4926-872c-7c1e6186ccc4",
   "metadata": {},
   "source": [
    "The vriance value should be 1/25 of the original variance, $$Var(\\bar{X}) = E(\\bar{X})^2 - E(\\bar{X}^2) = 0.04288$$"
   ]
  },
  {
   "cell_type": "markdown",
   "id": "711bce84-5b41-44c3-be12-21259f5b6cef",
   "metadata": {},
   "source": [
    "#### 2.10"
   ]
  },
  {
   "cell_type": "code",
   "execution_count": 111,
   "id": "e57aa280-bb3c-4c26-98b3-0775f2424c32",
   "metadata": {},
   "outputs": [
    {
     "data": {
      "image/png": "[encoded data removed]",
      "text/plain": [
       "<Figure size 432x288 with 1 Axes>"
      ]
     },
     "metadata": {
      "needs_background": "light"
     },
     "output_type": "display_data"
    }
   ],
   "source": [
    "samples1000 = []\n",
    "mean1000 = []\n",
    "for i in range(1000):\n",
    "    sample = np.random.randint(0,2, size=1000)*2 - 1\n",
    "    mean1000.append(sample.mean())\n",
    "    samples1000.append(sample)\n",
    "\n",
    "plt.hist(mean1000, bins = 3)\n",
    "plt.show()"
   ]
  },
  {
   "cell_type": "code",
   "execution_count": 112,
   "id": "7cd35e74-29eb-4211-9cd1-03449981b453",
   "metadata": {},
   "outputs": [
    {
     "data": {
      "text/plain": [
       "-0.00019399999999999978"
      ]
     },
     "execution_count": 112,
     "metadata": {},
     "output_type": "execute_result"
    }
   ],
   "source": [
    "np.sum(mean1000)/1000"
   ]
  },
  {
   "cell_type": "markdown",
   "id": "e073ea58-63a7-4db3-9794-001b36d0e57f",
   "metadata": {},
   "source": [
    "The expected value should stays the similar as 2.1, which is $$E(\\bar{X}) = \\frac{1}{N} \\times \\sum_{i}X_i = -0.00019$$."
   ]
  },
  {
   "cell_type": "code",
   "execution_count": 115,
   "id": "5979cd44-8816-42d2-9748-b927ed21039a",
   "metadata": {},
   "outputs": [
    {
     "data": {
      "text/plain": [
       "0.0011849239999999997"
      ]
     },
     "execution_count": 115,
     "metadata": {},
     "output_type": "execute_result"
    }
   ],
   "source": [
    "np.mean([i**2 for i in mean1000]) - np.sum(mean1000)/1000"
   ]
  },
  {
   "cell_type": "markdown",
   "id": "871a6550-4a7d-4cd7-9cef-19185e40b4ed",
   "metadata": {},
   "source": [
    "The vriance value should be 1/1000 of the original variance, $$Var(\\bar{X}) = E(\\bar{X})^2 - E(\\bar{X}^2) = 0.00118$$"
   ]
  },
  {
   "cell_type": "markdown",
   "id": "5afecffc-6753-48df-bad1-4bb5b894bd97",
   "metadata": {},
   "source": [
    "#### 2.11\n",
    "As the tuple size increses, the shape of histogram become more concentraded, specifically more mean values repetitions concentraed to 0.\n",
    "#### 2.12\n",
    "for each sample, the theoretical expected value is 0 as calculated in 2.1. Thus, as the sample size increases from 1 to 1000, more samples in each repetitions would have mean value to be 0, which is the theoretical expected value. Thus, as number of repetition grows, more samples will have expected value equal to 0, making histograph more concentrated."
   ]
  },
  {
   "cell_type": "markdown",
   "id": "77904414-44de-4e1b-8fa5-7183fcc7196e",
   "metadata": {},
   "source": [
    "I spent around 7 hours on this PS."
   ]
  },
  {
   "cell_type": "code",
   "execution_count": null,
   "id": "5a38c462-150f-4897-92d7-9017cc358765",
   "metadata": {},
   "outputs": [],
   "source": []
  }
 ],
 "metadata": {
  "kernelspec": {
   "display_name": "Python 3 (ipykernel)",
   "language": "python",
   "name": "python3"
  },
  "language_info": {
   "codemirror_mode": {
    "name": "ipython",
    "version": 3
   },
   "file_extension": ".py",
   "mimetype": "text/x-python",
   "name": "python",
   "nbconvert_exporter": "python",
   "pygments_lexer": "ipython3",
   "version": "3.9.7"
  }
 },
 "nbformat": 4,
 "nbformat_minor": 5
}
