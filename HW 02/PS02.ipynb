{
 "cells": [
  {
   "cell_type": "code",
   "execution_count": 1,
   "id": "672e55f1-f27a-4e70-97b3-dae70cc1d546",
   "metadata": {},
   "outputs": [],
   "source": [
    "import numpy as np\n",
    "import pandas as pd\n",
    "import matplotlib.pyplot as plt"
   ]
  },
  {
   "cell_type": "markdown",
   "id": "3cf942a9-b912-4d88-b5da-59cffa71e106",
   "metadata": {},
   "source": [
    "# PS 02\n",
    "David Gao\n",
    "## 1 Cleaning Data\n",
    "#### 1.1"
   ]
  },
  {
   "cell_type": "code",
   "execution_count": 2,
   "id": "67934bd6-75aa-407d-9531-35bfd1de45e8",
   "metadata": {},
   "outputs": [
    {
     "data": {
      "text/html": [
       "<div>\n",
       "<style scoped>\n",
       "    .dataframe tbody tr th:only-of-type {\n",
       "        vertical-align: middle;\n",
       "    }\n",
       "\n",
       "    .dataframe tbody tr th {\n",
       "        vertical-align: top;\n",
       "    }\n",
       "\n",
       "    .dataframe thead th {\n",
       "        text-align: right;\n",
       "    }\n",
       "</style>\n",
       "<table border=\"1\" class=\"dataframe\">\n",
       "  <thead>\n",
       "    <tr style=\"text-align: right;\">\n",
       "      <th></th>\n",
       "      <th>iso3</th>\n",
       "      <th>name</th>\n",
       "      <th>iso2</th>\n",
       "      <th>region</th>\n",
       "      <th>sub-region</th>\n",
       "      <th>intermediate-region</th>\n",
       "      <th>time</th>\n",
       "      <th>totalPopulation</th>\n",
       "      <th>fertilityRate</th>\n",
       "      <th>lifeExpectancy</th>\n",
       "      <th>...</th>\n",
       "      <th>accessElectricity</th>\n",
       "      <th>agriculturalLand</th>\n",
       "      <th>agricultureTractors</th>\n",
       "      <th>cerealProduction</th>\n",
       "      <th>fertilizerHa</th>\n",
       "      <th>co2</th>\n",
       "      <th>greenhouseGases</th>\n",
       "      <th>co2_PC</th>\n",
       "      <th>pm2.5_35</th>\n",
       "      <th>battleDeaths</th>\n",
       "    </tr>\n",
       "  </thead>\n",
       "  <tbody>\n",
       "    <tr>\n",
       "      <th>0</th>\n",
       "      <td>ABW</td>\n",
       "      <td>Aruba</td>\n",
       "      <td>AW</td>\n",
       "      <td>Americas</td>\n",
       "      <td>Latin America and the Caribbean</td>\n",
       "      <td>Caribbean</td>\n",
       "      <td>1960.0</td>\n",
       "      <td>54211.0</td>\n",
       "      <td>4.820</td>\n",
       "      <td>65.662</td>\n",
       "      <td>...</td>\n",
       "      <td>NaN</td>\n",
       "      <td>NaN</td>\n",
       "      <td>NaN</td>\n",
       "      <td>NaN</td>\n",
       "      <td>NaN</td>\n",
       "      <td>11092.675</td>\n",
       "      <td>NaN</td>\n",
       "      <td>204.62037</td>\n",
       "      <td>NaN</td>\n",
       "      <td>NaN</td>\n",
       "    </tr>\n",
       "    <tr>\n",
       "      <th>1</th>\n",
       "      <td>ABW</td>\n",
       "      <td>Aruba</td>\n",
       "      <td>AW</td>\n",
       "      <td>Americas</td>\n",
       "      <td>Latin America and the Caribbean</td>\n",
       "      <td>Caribbean</td>\n",
       "      <td>1961.0</td>\n",
       "      <td>55438.0</td>\n",
       "      <td>4.655</td>\n",
       "      <td>66.074</td>\n",
       "      <td>...</td>\n",
       "      <td>NaN</td>\n",
       "      <td>20.0</td>\n",
       "      <td>NaN</td>\n",
       "      <td>NaN</td>\n",
       "      <td>NaN</td>\n",
       "      <td>11576.719</td>\n",
       "      <td>NaN</td>\n",
       "      <td>208.82281</td>\n",
       "      <td>NaN</td>\n",
       "      <td>NaN</td>\n",
       "    </tr>\n",
       "    <tr>\n",
       "      <th>2</th>\n",
       "      <td>ABW</td>\n",
       "      <td>Aruba</td>\n",
       "      <td>AW</td>\n",
       "      <td>Americas</td>\n",
       "      <td>Latin America and the Caribbean</td>\n",
       "      <td>Caribbean</td>\n",
       "      <td>1962.0</td>\n",
       "      <td>56225.0</td>\n",
       "      <td>4.471</td>\n",
       "      <td>66.444</td>\n",
       "      <td>...</td>\n",
       "      <td>NaN</td>\n",
       "      <td>20.0</td>\n",
       "      <td>NaN</td>\n",
       "      <td>NaN</td>\n",
       "      <td>NaN</td>\n",
       "      <td>12713.489</td>\n",
       "      <td>NaN</td>\n",
       "      <td>226.11808</td>\n",
       "      <td>NaN</td>\n",
       "      <td>NaN</td>\n",
       "    </tr>\n",
       "  </tbody>\n",
       "</table>\n",
       "<p>3 rows × 25 columns</p>\n",
       "</div>"
      ],
      "text/plain": [
       "  iso3   name iso2    region                       sub-region  \\\n",
       "0  ABW  Aruba   AW  Americas  Latin America and the Caribbean   \n",
       "1  ABW  Aruba   AW  Americas  Latin America and the Caribbean   \n",
       "2  ABW  Aruba   AW  Americas  Latin America and the Caribbean   \n",
       "\n",
       "  intermediate-region    time  totalPopulation  fertilityRate  lifeExpectancy  \\\n",
       "0           Caribbean  1960.0          54211.0          4.820          65.662   \n",
       "1           Caribbean  1961.0          55438.0          4.655          66.074   \n",
       "2           Caribbean  1962.0          56225.0          4.471          66.444   \n",
       "\n",
       "   ...  accessElectricity  agriculturalLand  agricultureTractors  \\\n",
       "0  ...                NaN               NaN                  NaN   \n",
       "1  ...                NaN              20.0                  NaN   \n",
       "2  ...                NaN              20.0                  NaN   \n",
       "\n",
       "   cerealProduction  fertilizerHa        co2  greenhouseGases     co2_PC  \\\n",
       "0               NaN           NaN  11092.675              NaN  204.62037   \n",
       "1               NaN           NaN  11576.719              NaN  208.82281   \n",
       "2               NaN           NaN  12713.489              NaN  226.11808   \n",
       "\n",
       "   pm2.5_35  battleDeaths  \n",
       "0       NaN           NaN  \n",
       "1       NaN           NaN  \n",
       "2       NaN           NaN  \n",
       "\n",
       "[3 rows x 25 columns]"
      ]
     },
     "execution_count": 2,
     "metadata": {},
     "output_type": "execute_result"
    }
   ],
   "source": [
    "gapminder = pd.read_csv(r'gapminder.csv', sep='\\t')\n",
    "gapminder.head(3)"
   ]
  },
  {
   "cell_type": "markdown",
   "id": "145a87e2-a420-43e0-9ed2-9b048b9d5864",
   "metadata": {},
   "source": [
    "#### 1.2"
   ]
  },
  {
   "cell_type": "code",
   "execution_count": 3,
   "id": "861e1eb2-828c-47ad-b5ca-4fb602431a78",
   "metadata": {},
   "outputs": [
    {
     "name": "stdout",
     "output_type": "stream",
     "text": [
      "number of rows: 13055 and number of columns: 25\n"
     ]
    }
   ],
   "source": [
    "rows,columns = gapminder.shape\n",
    "print(\"number of rows:\", rows, \"and number of columns:\", columns)"
   ]
  },
  {
   "cell_type": "markdown",
   "id": "aceb9a10-973b-4341-96bf-224df922b6b0",
   "metadata": {},
   "source": [
    "The first few lines looks reasonable as each line contains one set of data with 25 variables."
   ]
  },
  {
   "cell_type": "markdown",
   "id": "4e442231-63d6-486f-ad0f-aee6f62f88b0",
   "metadata": {},
   "source": [
    "#### 1.3"
   ]
  },
  {
   "cell_type": "code",
   "execution_count": 4,
   "id": "f30752ba-a30e-41fa-860e-ec5a882e8eae",
   "metadata": {},
   "outputs": [
    {
     "data": {
      "text/plain": [
       "iso3                       0\n",
       "name                     240\n",
       "iso2                     300\n",
       "region                   241\n",
       "sub-region               241\n",
       "intermediate-region     7697\n",
       "time                      36\n",
       "totalPopulation           76\n",
       "fertilityRate           1307\n",
       "lifeExpectancy          1325\n",
       "childMortality          2600\n",
       "youthFemaleLiteracy    12134\n",
       "youthMaleLiteracy      12134\n",
       "adultLiteracy          12118\n",
       "GDP_PC                  3585\n",
       "accessElectricity       7608\n",
       "agriculturalLand        1910\n",
       "agricultureTractors     6947\n",
       "cerealProduction        3606\n",
       "fertilizerHa            4929\n",
       "co2                     2658\n",
       "greenhouseGases         4994\n",
       "co2_PC                  2661\n",
       "pm2.5_35               10727\n",
       "battleDeaths           12051\n",
       "dtype: int64"
      ]
     },
     "execution_count": 4,
     "metadata": {},
     "output_type": "execute_result"
    }
   ],
   "source": [
    "gapminder.isna().sum() # group by each variable and sum up the number of missing value for each variable."
   ]
  },
  {
   "cell_type": "markdown",
   "id": "e60a276e-c582-4472-8697-61d8b83936c3",
   "metadata": {},
   "source": [
    "The table above presents each variable and its corresponding number of null values. iso3 has no missing data, and variables, such as youth female literacy, youth male literacy, adult literacy, and battle deaths, are missing more than 12000 data."
   ]
  },
  {
   "cell_type": "markdown",
   "id": "78ce1476-8523-4a16-91de-282571842b59",
   "metadata": {},
   "source": [
    "#### 1.4"
   ]
  },
  {
   "cell_type": "code",
   "execution_count": 5,
   "id": "25cf4289-5c7d-4e0c-b195-7b47000c2f4d",
   "metadata": {},
   "outputs": [
    {
     "data": {
      "text/html": [
       "<div>\n",
       "<style scoped>\n",
       "    .dataframe tbody tr th:only-of-type {\n",
       "        vertical-align: middle;\n",
       "    }\n",
       "\n",
       "    .dataframe tbody tr th {\n",
       "        vertical-align: top;\n",
       "    }\n",
       "\n",
       "    .dataframe thead th {\n",
       "        text-align: right;\n",
       "    }\n",
       "</style>\n",
       "<table border=\"1\" class=\"dataframe\">\n",
       "  <thead>\n",
       "    <tr style=\"text-align: right;\">\n",
       "      <th></th>\n",
       "      <th>name</th>\n",
       "      <th>iso2</th>\n",
       "      <th>totalPopulation</th>\n",
       "      <th>time</th>\n",
       "    </tr>\n",
       "  </thead>\n",
       "  <tbody>\n",
       "    <tr>\n",
       "      <th>181</th>\n",
       "      <td>Åland Islands</td>\n",
       "      <td>AX</td>\n",
       "      <td>NaN</td>\n",
       "      <td>NaN</td>\n",
       "    </tr>\n",
       "    <tr>\n",
       "      <th>543</th>\n",
       "      <td>French Southern Territories</td>\n",
       "      <td>TF</td>\n",
       "      <td>NaN</td>\n",
       "      <td>NaN</td>\n",
       "    </tr>\n",
       "    <tr>\n",
       "      <th>8180</th>\n",
       "      <td>Montserrat</td>\n",
       "      <td>MS</td>\n",
       "      <td>NaN</td>\n",
       "      <td>NaN</td>\n",
       "    </tr>\n",
       "    <tr>\n",
       "      <th>5297</th>\n",
       "      <td>Isle of Man</td>\n",
       "      <td>IM</td>\n",
       "      <td>NaN</td>\n",
       "      <td>NaN</td>\n",
       "    </tr>\n",
       "    <tr>\n",
       "      <th>4213</th>\n",
       "      <td>Guernsey</td>\n",
       "      <td>GG</td>\n",
       "      <td>NaN</td>\n",
       "      <td>NaN</td>\n",
       "    </tr>\n",
       "  </tbody>\n",
       "</table>\n",
       "</div>"
      ],
      "text/plain": [
       "                             name iso2  totalPopulation  time\n",
       "181                 Åland Islands   AX              NaN   NaN\n",
       "543   French Southern Territories   TF              NaN   NaN\n",
       "8180                   Montserrat   MS              NaN   NaN\n",
       "5297                  Isle of Man   IM              NaN   NaN\n",
       "4213                     Guernsey   GG              NaN   NaN"
      ]
     },
     "execution_count": 5,
     "metadata": {},
     "output_type": "execute_result"
    }
   ],
   "source": [
    "time_missing = gapminder[gapminder.time.isna()][[\"name\", \"iso2\", \"totalPopulation\", \"time\"]]\n",
    "time_missing.sample(5)\n",
    "# filter out the rows which have time missing, and select name, iso2, and total\n",
    "# population variables."
   ]
  },
  {
   "cell_type": "markdown",
   "id": "f9eed521-43d3-44a9-b614-5519ade8027d",
   "metadata": {},
   "source": [
    "#### 1.5"
   ]
  },
  {
   "cell_type": "markdown",
   "id": "9455f4a2-6885-4030-bac4-600051f5c01a",
   "metadata": {},
   "source": [
    "From samples in 1.4, as the data for total population seems to be missing at the same time, perhaps, the data for time is also missing because the data set of those countries or areas are not collected at all. "
   ]
  },
  {
   "cell_type": "markdown",
   "id": "e2f614b0-e990-4e7d-8d17-59c0ba6aa541",
   "metadata": {},
   "source": [
    "#### 1.6"
   ]
  },
  {
   "cell_type": "code",
   "execution_count": 6,
   "id": "194e9625-e5dd-4798-8a4a-b5054d1e34a5",
   "metadata": {},
   "outputs": [
    {
     "data": {
      "text/html": [
       "<div>\n",
       "<style scoped>\n",
       "    .dataframe tbody tr th:only-of-type {\n",
       "        vertical-align: middle;\n",
       "    }\n",
       "\n",
       "    .dataframe tbody tr th {\n",
       "        vertical-align: top;\n",
       "    }\n",
       "\n",
       "    .dataframe thead th {\n",
       "        text-align: right;\n",
       "    }\n",
       "</style>\n",
       "<table border=\"1\" class=\"dataframe\">\n",
       "  <thead>\n",
       "    <tr style=\"text-align: right;\">\n",
       "      <th></th>\n",
       "      <th>iso3</th>\n",
       "      <th>name</th>\n",
       "      <th>iso2</th>\n",
       "      <th>region</th>\n",
       "      <th>sub-region</th>\n",
       "      <th>intermediate-region</th>\n",
       "      <th>time</th>\n",
       "      <th>totalPopulation</th>\n",
       "      <th>fertilityRate</th>\n",
       "      <th>lifeExpectancy</th>\n",
       "      <th>...</th>\n",
       "      <th>accessElectricity</th>\n",
       "      <th>agriculturalLand</th>\n",
       "      <th>agricultureTractors</th>\n",
       "      <th>cerealProduction</th>\n",
       "      <th>fertilizerHa</th>\n",
       "      <th>co2</th>\n",
       "      <th>greenhouseGases</th>\n",
       "      <th>co2_PC</th>\n",
       "      <th>pm2.5_35</th>\n",
       "      <th>battleDeaths</th>\n",
       "    </tr>\n",
       "  </thead>\n",
       "  <tbody>\n",
       "    <tr>\n",
       "      <th>12031</th>\n",
       "      <td>TWN</td>\n",
       "      <td>Taiwan, Province of China</td>\n",
       "      <td>TW</td>\n",
       "      <td>Asia</td>\n",
       "      <td>Eastern Asia</td>\n",
       "      <td>NaN</td>\n",
       "      <td>NaN</td>\n",
       "      <td>NaN</td>\n",
       "      <td>NaN</td>\n",
       "      <td>NaN</td>\n",
       "      <td>...</td>\n",
       "      <td>NaN</td>\n",
       "      <td>NaN</td>\n",
       "      <td>NaN</td>\n",
       "      <td>NaN</td>\n",
       "      <td>NaN</td>\n",
       "      <td>NaN</td>\n",
       "      <td>NaN</td>\n",
       "      <td>NaN</td>\n",
       "      <td>NaN</td>\n",
       "      <td>NaN</td>\n",
       "    </tr>\n",
       "  </tbody>\n",
       "</table>\n",
       "<p>1 rows × 25 columns</p>\n",
       "</div>"
      ],
      "text/plain": [
       "      iso3                       name iso2 region    sub-region  \\\n",
       "12031  TWN  Taiwan, Province of China   TW   Asia  Eastern Asia   \n",
       "\n",
       "      intermediate-region  time  totalPopulation  fertilityRate  \\\n",
       "12031                 NaN   NaN              NaN            NaN   \n",
       "\n",
       "       lifeExpectancy  ...  accessElectricity  agriculturalLand  \\\n",
       "12031             NaN  ...                NaN               NaN   \n",
       "\n",
       "       agricultureTractors  cerealProduction  fertilizerHa  co2  \\\n",
       "12031                  NaN               NaN           NaN  NaN   \n",
       "\n",
       "       greenhouseGases  co2_PC  pm2.5_35  battleDeaths  \n",
       "12031              NaN     NaN       NaN           NaN  \n",
       "\n",
       "[1 rows x 25 columns]"
      ]
     },
     "execution_count": 6,
     "metadata": {},
     "output_type": "execute_result"
    }
   ],
   "source": [
    "taiwan = gapminder[gapminder.name.str.contains(\"Taiwan\", na = False, regex = False)]\n",
    "taiwan.head(5)"
   ]
  },
  {
   "cell_type": "markdown",
   "id": "d54800c1-b1a2-4611-8f15-b3ea2e3bd8b5",
   "metadata": {},
   "source": [
    "There's only one record for Taiwan, with most of variables being null. And I think this is because Taiwan did not report the data, thus values of variables are not collected."
   ]
  },
  {
   "cell_type": "markdown",
   "id": "4f2eea9e-718e-44bc-9aa5-daf073f6b5dc",
   "metadata": {},
   "source": [
    "#### 1.7"
   ]
  },
  {
   "cell_type": "code",
   "execution_count": 7,
   "id": "572266d5-4d45-4781-a102-fbc2d83f6920",
   "metadata": {},
   "outputs": [
    {
     "data": {
      "text/html": [
       "<div>\n",
       "<style scoped>\n",
       "    .dataframe tbody tr th:only-of-type {\n",
       "        vertical-align: middle;\n",
       "    }\n",
       "\n",
       "    .dataframe tbody tr th {\n",
       "        vertical-align: top;\n",
       "    }\n",
       "\n",
       "    .dataframe thead th {\n",
       "        text-align: right;\n",
       "    }\n",
       "</style>\n",
       "<table border=\"1\" class=\"dataframe\">\n",
       "  <thead>\n",
       "    <tr style=\"text-align: right;\">\n",
       "      <th></th>\n",
       "      <th>iso3</th>\n",
       "      <th>name</th>\n",
       "      <th>iso2</th>\n",
       "      <th>region</th>\n",
       "      <th>sub-region</th>\n",
       "      <th>intermediate-region</th>\n",
       "      <th>time</th>\n",
       "      <th>totalPopulation</th>\n",
       "      <th>fertilityRate</th>\n",
       "      <th>lifeExpectancy</th>\n",
       "      <th>...</th>\n",
       "      <th>accessElectricity</th>\n",
       "      <th>agriculturalLand</th>\n",
       "      <th>agricultureTractors</th>\n",
       "      <th>cerealProduction</th>\n",
       "      <th>fertilizerHa</th>\n",
       "      <th>co2</th>\n",
       "      <th>greenhouseGases</th>\n",
       "      <th>co2_PC</th>\n",
       "      <th>pm2.5_35</th>\n",
       "      <th>battleDeaths</th>\n",
       "    </tr>\n",
       "  </thead>\n",
       "  <tbody>\n",
       "  </tbody>\n",
       "</table>\n",
       "<p>0 rows × 25 columns</p>\n",
       "</div>"
      ],
      "text/plain": [
       "Empty DataFrame\n",
       "Columns: [iso3, name, iso2, region, sub-region, intermediate-region, time, totalPopulation, fertilityRate, lifeExpectancy, childMortality, youthFemaleLiteracy, youthMaleLiteracy, adultLiteracy, GDP_PC, accessElectricity, agriculturalLand, agricultureTractors, cerealProduction, fertilizerHa, co2, greenhouseGases, co2_PC, pm2.5_35, battleDeaths]\n",
       "Index: []\n",
       "\n",
       "[0 rows x 25 columns]"
      ]
     },
     "execution_count": 7,
     "metadata": {},
     "output_type": "execute_result"
    }
   ],
   "source": [
    "name_missing = gapminder[(gapminder.name.isna()) & (~gapminder.iso2.isna())]\n",
    "name_missing"
   ]
  },
  {
   "cell_type": "markdown",
   "id": "91cd613d-7df3-4ae7-9b63-9eb7f4b5949b",
   "metadata": {},
   "source": [
    "There is not such data set that has name missing while iso2 is not."
   ]
  },
  {
   "cell_type": "code",
   "execution_count": 8,
   "id": "76d68930-8f0f-4641-b594-23f86c5568be",
   "metadata": {},
   "outputs": [
    {
     "data": {
      "text/plain": [
       "(60, 25)"
      ]
     },
     "execution_count": 8,
     "metadata": {},
     "output_type": "execute_result"
    }
   ],
   "source": [
    "iso2_missing = gapminder[(~gapminder.name.isna()) & (gapminder.iso2.isna())]\n",
    "iso2_missing.shape"
   ]
  },
  {
   "cell_type": "markdown",
   "id": "e0ac5205-27ed-44ff-b320-47468dba4757",
   "metadata": {},
   "source": [
    "There are 60 rows that has name while missing iso2 value."
   ]
  },
  {
   "cell_type": "markdown",
   "id": "04331163-4c8a-479f-86df-8d2699d1c8bc",
   "metadata": {},
   "source": [
    "#### 1.8"
   ]
  },
  {
   "cell_type": "code",
   "execution_count": 9,
   "id": "7b235c3c-f474-4782-86e2-620256f0b26f",
   "metadata": {},
   "outputs": [
    {
     "data": {
      "text/html": [
       "<div>\n",
       "<style scoped>\n",
       "    .dataframe tbody tr th:only-of-type {\n",
       "        vertical-align: middle;\n",
       "    }\n",
       "\n",
       "    .dataframe tbody tr th {\n",
       "        vertical-align: top;\n",
       "    }\n",
       "\n",
       "    .dataframe thead th {\n",
       "        text-align: right;\n",
       "    }\n",
       "</style>\n",
       "<table border=\"1\" class=\"dataframe\">\n",
       "  <thead>\n",
       "    <tr style=\"text-align: right;\">\n",
       "      <th></th>\n",
       "      <th>iso3</th>\n",
       "      <th>name</th>\n",
       "      <th>iso2</th>\n",
       "      <th>region</th>\n",
       "      <th>sub-region</th>\n",
       "      <th>intermediate-region</th>\n",
       "      <th>time</th>\n",
       "      <th>totalPopulation</th>\n",
       "      <th>fertilityRate</th>\n",
       "      <th>lifeExpectancy</th>\n",
       "      <th>...</th>\n",
       "      <th>accessElectricity</th>\n",
       "      <th>agriculturalLand</th>\n",
       "      <th>agricultureTractors</th>\n",
       "      <th>cerealProduction</th>\n",
       "      <th>fertilizerHa</th>\n",
       "      <th>co2</th>\n",
       "      <th>greenhouseGases</th>\n",
       "      <th>co2_PC</th>\n",
       "      <th>pm2.5_35</th>\n",
       "      <th>battleDeaths</th>\n",
       "    </tr>\n",
       "  </thead>\n",
       "  <tbody>\n",
       "  </tbody>\n",
       "</table>\n",
       "<p>0 rows × 25 columns</p>\n",
       "</div>"
      ],
      "text/plain": [
       "Empty DataFrame\n",
       "Columns: [iso3, name, iso2, region, sub-region, intermediate-region, time, totalPopulation, fertilityRate, lifeExpectancy, childMortality, youthFemaleLiteracy, youthMaleLiteracy, adultLiteracy, GDP_PC, accessElectricity, agriculturalLand, agricultureTractors, cerealProduction, fertilizerHa, co2, greenhouseGases, co2_PC, pm2.5_35, battleDeaths]\n",
       "Index: []\n",
       "\n",
       "[0 rows x 25 columns]"
      ]
     },
     "execution_count": 9,
     "metadata": {},
     "output_type": "execute_result"
    }
   ],
   "source": [
    "gapminder[(gapminder.name == \"Namibia\") & (~gapminder.iso2.isna())].head(1)"
   ]
  },
  {
   "cell_type": "markdown",
   "id": "04bd5e2a-ba9f-4fbf-9b49-b19eecd0ab5c",
   "metadata": {},
   "source": [
    "The iso2 for Namibia is NA. Reference: [Namibia ISO2](http://travel.fyicenter.com/1000183_NA-Namibia.html)"
   ]
  },
  {
   "cell_type": "markdown",
   "id": "8fd3f1d8-8148-4c4e-b653-24bf18a17b91",
   "metadata": {},
   "source": [
    "#### 1.9"
   ]
  },
  {
   "cell_type": "code",
   "execution_count": 51,
   "id": "0f9b1af4-614a-4367-9f7f-b50c0761b3f4",
   "metadata": {},
   "outputs": [
    {
     "data": {
      "text/plain": [
       "(253,)"
      ]
     },
     "execution_count": 51,
     "metadata": {},
     "output_type": "execute_result"
    }
   ],
   "source": [
    "diff_countries = gapminder.iso3.unique().shape\n",
    "diff_countries"
   ]
  },
  {
   "cell_type": "markdown",
   "id": "33e57b69-97a8-45db-8437-ba58f36673a3",
   "metadata": {},
   "source": [
    "There are 253 distinct countries in the data. I use iso3 as it has not missing data."
   ]
  },
  {
   "cell_type": "markdown",
   "id": "3c209b49-64b7-4092-ad7d-80fc10d4f9de",
   "metadata": {},
   "source": [
    "#### 1.10"
   ]
  },
  {
   "cell_type": "code",
   "execution_count": 11,
   "id": "2b730dc7-0830-49fe-9199-a482f8e2d029",
   "metadata": {},
   "outputs": [
    {
     "data": {
      "text/plain": [
       "1960.0"
      ]
     },
     "execution_count": 11,
     "metadata": {},
     "output_type": "execute_result"
    }
   ],
   "source": [
    "earliest = gapminder.time.min()\n",
    "earliest"
   ]
  },
  {
   "cell_type": "code",
   "execution_count": 12,
   "id": "e24ed07a-2723-4a74-a5fa-c01231386aef",
   "metadata": {},
   "outputs": [
    {
     "data": {
      "text/plain": [
       "2019.0"
      ]
     },
     "execution_count": 12,
     "metadata": {},
     "output_type": "execute_result"
    }
   ],
   "source": [
    "recent = gapminder.time.max()\n",
    "recent"
   ]
  },
  {
   "cell_type": "markdown",
   "id": "2193f504-2771-46a0-aba5-e1a1ec1e13b3",
   "metadata": {},
   "source": [
    "The earliest year in data is 1960, and the most recent year is 2019."
   ]
  },
  {
   "cell_type": "markdown",
   "id": "2dd4e0ca-7449-4552-bc6a-d6bb927900dc",
   "metadata": {},
   "source": [
    "## 2 Wealth\n",
    "#### 2.1"
   ]
  },
  {
   "cell_type": "code",
   "execution_count": 43,
   "id": "1721ebcc-79f6-426b-b13d-fbe3ceff98af",
   "metadata": {},
   "outputs": [],
   "source": [
    "GDP = gapminder[~gapminder.GDP_PC.isna()]"
   ]
  },
  {
   "cell_type": "code",
   "execution_count": 46,
   "id": "b10ae263-b546-412e-b855-55509f5ff9ab",
   "metadata": {},
   "outputs": [
    {
     "data": {
      "text/plain": [
       "2019.0"
      ]
     },
     "execution_count": 46,
     "metadata": {},
     "output_type": "execute_result"
    }
   ],
   "source": [
    "recent_GDP = GDP.time.max()\n",
    "recent_GDP"
   ]
  },
  {
   "cell_type": "markdown",
   "id": "0a3cafd2-b569-478d-b5bc-65e633468e41",
   "metadata": {},
   "source": [
    "The most recent GDP data is in year 2019."
   ]
  },
  {
   "cell_type": "markdown",
   "id": "b951781d-4681-4ba1-80fe-5b7829f30044",
   "metadata": {},
   "source": [
    "#### 2.2"
   ]
  },
  {
   "cell_type": "code",
   "execution_count": 15,
   "id": "e24cd902-76ec-442b-adcd-6ae1c58ffb2f",
   "metadata": {},
   "outputs": [
    {
     "name": "stdout",
     "output_type": "stream",
     "text": [
      "The average GDP per capita across all countries in 2019 is 15055.352217243239\n"
     ]
    }
   ],
   "source": [
    "GDP_2019 = GDP[GDP.time == 2019].GDP_PC.mean()\n",
    "print(\"The average GDP per capita across all countries in 2019 is\", GDP_2019)"
   ]
  },
  {
   "cell_type": "markdown",
   "id": "bc64aa49-e55a-47ff-8ca2-82caf5afc52d",
   "metadata": {},
   "source": [
    "#### 2.3"
   ]
  },
  {
   "cell_type": "code",
   "execution_count": 16,
   "id": "abadc218-aee3-432c-a40d-0db804d38700",
   "metadata": {},
   "outputs": [
    {
     "data": {
      "text/plain": [
       "name\n",
       "Liechtenstein               2010.0\n",
       "Faroe Islands               2010.0\n",
       "Djibouti                    2010.0\n",
       "Turks and Caicos Islands    2010.0\n",
       "Eritrea                     2011.0\n",
       "Name: time, dtype: float64"
      ]
     },
     "execution_count": 16,
     "metadata": {},
     "output_type": "execute_result"
    }
   ],
   "source": [
    "countries = GDP.groupby([\"name\"]).time.max().sort_values().head(5)\n",
    "countries"
   ]
  },
  {
   "cell_type": "markdown",
   "id": "34106c91-97ad-4caa-9be5-2bfe7bc8b4db",
   "metadata": {},
   "source": [
    "Liechtenstein, Faroe Islands, Djibouti, Turks and Caicos Islands, and Eritrea are the 5 countries have the largest number of the most recent years GPD missing.\\\n",
    "And the reason why data of these countries are missing is that they are really small countries and data might not be collected or unable to be collected as data is not recorded.\\\n",
    "The most recent years that these five countries have data are presented in the table above."
   ]
  },
  {
   "cell_type": "markdown",
   "id": "039f145a-24ae-4dc5-bd05-9be4a4dbdae2",
   "metadata": {},
   "source": [
    "#### 2.4"
   ]
  },
  {
   "cell_type": "code",
   "execution_count": 17,
   "id": "50e00276-f325-4654-a9a4-aee972b86a77",
   "metadata": {},
   "outputs": [
    {
     "data": {
      "text/plain": [
       "region\n",
       "Europe      33228.0\n",
       "Americas    14517.0\n",
       "Asia        14116.0\n",
       "Oceania     11818.0\n",
       "Africa       2766.0\n",
       "Name: GDP_PC, dtype: float64"
      ]
     },
     "execution_count": 17,
     "metadata": {},
     "output_type": "execute_result"
    }
   ],
   "source": [
    "continent = GDP[GDP.time == 2019].groupby([\"region\"]).GDP_PC.mean().round().sort_values(ascending = False)\n",
    "continent"
   ]
  },
  {
   "cell_type": "markdown",
   "id": "aae74c8d-bbc6-45ad-a17c-1f135f8808fa",
   "metadata": {},
   "source": [
    "The order looks reasonable, as though eruope does not have the highest total GDP, it has much smaller population than Americas and Asia, thus having the highest GDP per capita."
   ]
  },
  {
   "cell_type": "markdown",
   "id": "fffdfea3-8836-4339-9751-cb98182ad1e8",
   "metadata": {},
   "source": [
    "#### 2.5"
   ]
  },
  {
   "cell_type": "code",
   "execution_count": 18,
   "id": "8f770bfe-5043-4ee0-a9e2-e9aabb2436b5",
   "metadata": {},
   "outputs": [
    {
     "data": {
      "text/html": [
       "<div>\n",
       "<style scoped>\n",
       "    .dataframe tbody tr th:only-of-type {\n",
       "        vertical-align: middle;\n",
       "    }\n",
       "\n",
       "    .dataframe tbody tr th {\n",
       "        vertical-align: top;\n",
       "    }\n",
       "\n",
       "    .dataframe thead th {\n",
       "        text-align: right;\n",
       "    }\n",
       "</style>\n",
       "<table border=\"1\" class=\"dataframe\">\n",
       "  <thead>\n",
       "    <tr style=\"text-align: right;\">\n",
       "      <th></th>\n",
       "      <th>name</th>\n",
       "      <th>region</th>\n",
       "      <th>GDP_PC</th>\n",
       "      <th>totalPopulation</th>\n",
       "    </tr>\n",
       "  </thead>\n",
       "  <tbody>\n",
       "    <tr>\n",
       "      <th>11249</th>\n",
       "      <td>Seychelles</td>\n",
       "      <td>Africa</td>\n",
       "      <td>15048.74693</td>\n",
       "      <td>97625.0</td>\n",
       "    </tr>\n",
       "    <tr>\n",
       "      <th>1505</th>\n",
       "      <td>Bermuda</td>\n",
       "      <td>Americas</td>\n",
       "      <td>94106.36125</td>\n",
       "      <td>64027.0</td>\n",
       "    </tr>\n",
       "    <tr>\n",
       "      <th>9924</th>\n",
       "      <td>Qatar</td>\n",
       "      <td>Asia</td>\n",
       "      <td>63281.67468</td>\n",
       "      <td>2832067.0</td>\n",
       "    </tr>\n",
       "    <tr>\n",
       "      <th>7039</th>\n",
       "      <td>Luxembourg</td>\n",
       "      <td>Europe</td>\n",
       "      <td>111043.53170</td>\n",
       "      <td>620001.0</td>\n",
       "    </tr>\n",
       "    <tr>\n",
       "      <th>663</th>\n",
       "      <td>Australia</td>\n",
       "      <td>Oceania</td>\n",
       "      <td>57183.37935</td>\n",
       "      <td>25365745.0</td>\n",
       "    </tr>\n",
       "  </tbody>\n",
       "</table>\n",
       "</div>"
      ],
      "text/plain": [
       "             name    region        GDP_PC  totalPopulation\n",
       "11249  Seychelles    Africa   15048.74693          97625.0\n",
       "1505      Bermuda  Americas   94106.36125          64027.0\n",
       "9924        Qatar      Asia   63281.67468        2832067.0\n",
       "7039   Luxembourg    Europe  111043.53170         620001.0\n",
       "663     Australia   Oceania   57183.37935       25365745.0"
      ]
     },
     "execution_count": 18,
     "metadata": {},
     "output_type": "execute_result"
    }
   ],
   "source": [
    "continent_rp = GDP[GDP.time == 2019].groupby([\"region\"])\n",
    "rich = continent_rp.GDP_PC.idxmax()\n",
    "poor = continent_rp.GDP_PC.idxmin()\n",
    "\n",
    "rich_countries = GDP.loc[rich.values][[\"name\", \"region\", \"GDP_PC\", \"totalPopulation\"]]\n",
    "rich_countries.head(5)"
   ]
  },
  {
   "cell_type": "markdown",
   "id": "7054a421-ef24-41a2-a1fe-4f889500c645",
   "metadata": {},
   "source": [
    "The richest countries are Seychelles in Africa, Bermuda in Americas, Qatar in Asia, Luxembourg in Europe, and Australia in Oceania."
   ]
  },
  {
   "cell_type": "code",
   "execution_count": 19,
   "id": "c7b4a10a-dc52-44c2-8417-c4226f13d2af",
   "metadata": {},
   "outputs": [
    {
     "data": {
      "text/html": [
       "<div>\n",
       "<style scoped>\n",
       "    .dataframe tbody tr th:only-of-type {\n",
       "        vertical-align: middle;\n",
       "    }\n",
       "\n",
       "    .dataframe tbody tr th {\n",
       "        vertical-align: top;\n",
       "    }\n",
       "\n",
       "    .dataframe thead th {\n",
       "        text-align: right;\n",
       "    }\n",
       "</style>\n",
       "<table border=\"1\" class=\"dataframe\">\n",
       "  <thead>\n",
       "    <tr style=\"text-align: right;\">\n",
       "      <th></th>\n",
       "      <th>name</th>\n",
       "      <th>region</th>\n",
       "      <th>GDP_PC</th>\n",
       "      <th>totalPopulation</th>\n",
       "    </tr>\n",
       "  </thead>\n",
       "  <tbody>\n",
       "    <tr>\n",
       "      <th>843</th>\n",
       "      <td>Burundi</td>\n",
       "      <td>Africa</td>\n",
       "      <td>208.07473</td>\n",
       "      <td>11530580.0</td>\n",
       "    </tr>\n",
       "    <tr>\n",
       "      <th>5176</th>\n",
       "      <td>Haiti</td>\n",
       "      <td>Americas</td>\n",
       "      <td>1245.01250</td>\n",
       "      <td>11263077.0</td>\n",
       "    </tr>\n",
       "    <tr>\n",
       "      <th>119</th>\n",
       "      <td>Afghanistan</td>\n",
       "      <td>Asia</td>\n",
       "      <td>573.28755</td>\n",
       "      <td>38041754.0</td>\n",
       "    </tr>\n",
       "    <tr>\n",
       "      <th>12211</th>\n",
       "      <td>Ukraine</td>\n",
       "      <td>Europe</td>\n",
       "      <td>3224.93517</td>\n",
       "      <td>44386203.0</td>\n",
       "    </tr>\n",
       "    <tr>\n",
       "      <th>10408</th>\n",
       "      <td>Solomon Islands</td>\n",
       "      <td>Oceania</td>\n",
       "      <td>1749.42726</td>\n",
       "      <td>669823.0</td>\n",
       "    </tr>\n",
       "  </tbody>\n",
       "</table>\n",
       "</div>"
      ],
      "text/plain": [
       "                  name    region      GDP_PC  totalPopulation\n",
       "843            Burundi    Africa   208.07473       11530580.0\n",
       "5176             Haiti  Americas  1245.01250       11263077.0\n",
       "119        Afghanistan      Asia   573.28755       38041754.0\n",
       "12211          Ukraine    Europe  3224.93517       44386203.0\n",
       "10408  Solomon Islands   Oceania  1749.42726         669823.0"
      ]
     },
     "execution_count": 19,
     "metadata": {},
     "output_type": "execute_result"
    }
   ],
   "source": [
    "poor_countries = GDP.loc[poor.values][[\"name\", \"region\", \"GDP_PC\", \"totalPopulation\"]]\n",
    "poor_countries.head(5)"
   ]
  },
  {
   "cell_type": "markdown",
   "id": "ccf941a9-0e6a-46bf-ada1-c3597d7f55c5",
   "metadata": {},
   "source": [
    "The poorest countries are Furundi in Africa, Haiti in Americas, Afghanistan in Asia, Ukraine in Europe, and Solomon Islands in Oceania."
   ]
  },
  {
   "cell_type": "markdown",
   "id": "992b7e6a-daa8-459a-a5d7-3e54afaac150",
   "metadata": {},
   "source": [
    "#### 2.6"
   ]
  },
  {
   "cell_type": "code",
   "execution_count": 20,
   "id": "80e85fd5-e194-42be-a87f-c7293e991839",
   "metadata": {},
   "outputs": [],
   "source": [
    "rich_countries.index = [rich_countries.region]\n",
    "rich_countries = rich_countries.rename({\"name\":\"richest\"}, axis = 1)[[\"richest\", \"GDP_PC\", \"totalPopulation\"]]\n",
    "# rich_countries.head(5)"
   ]
  },
  {
   "cell_type": "code",
   "execution_count": 21,
   "id": "0563d547-a18e-4b8f-aa37-11b9075f71fd",
   "metadata": {},
   "outputs": [],
   "source": [
    "poor_countries.index = [poor_countries.region]\n",
    "poor_countries = poor_countries.rename({\"name\":\"poorest\"}, axis = 1)[[\"poorest\", \"GDP_PC\", \"totalPopulation\"]]\n",
    "# poor_countries.head(5)"
   ]
  },
  {
   "cell_type": "code",
   "execution_count": 22,
   "id": "d4b68a19-ca2e-4135-bd3f-992273a3294c",
   "metadata": {},
   "outputs": [
    {
     "data": {
      "text/html": [
       "<div>\n",
       "<style scoped>\n",
       "    .dataframe tbody tr th:only-of-type {\n",
       "        vertical-align: middle;\n",
       "    }\n",
       "\n",
       "    .dataframe tbody tr th {\n",
       "        vertical-align: top;\n",
       "    }\n",
       "\n",
       "    .dataframe thead th {\n",
       "        text-align: right;\n",
       "    }\n",
       "</style>\n",
       "<table border=\"1\" class=\"dataframe\">\n",
       "  <thead>\n",
       "    <tr style=\"text-align: right;\">\n",
       "      <th></th>\n",
       "      <th>poorest</th>\n",
       "      <th>GDP_PC</th>\n",
       "      <th>totalPopulation</th>\n",
       "      <th>richest</th>\n",
       "      <th>GDP_PC</th>\n",
       "      <th>totalPopulation</th>\n",
       "    </tr>\n",
       "    <tr>\n",
       "      <th>region</th>\n",
       "      <th></th>\n",
       "      <th></th>\n",
       "      <th></th>\n",
       "      <th></th>\n",
       "      <th></th>\n",
       "      <th></th>\n",
       "    </tr>\n",
       "  </thead>\n",
       "  <tbody>\n",
       "    <tr>\n",
       "      <th>Africa</th>\n",
       "      <td>Burundi</td>\n",
       "      <td>208.07473</td>\n",
       "      <td>11530580.0</td>\n",
       "      <td>Seychelles</td>\n",
       "      <td>15048.74693</td>\n",
       "      <td>97625.0</td>\n",
       "    </tr>\n",
       "    <tr>\n",
       "      <th>Americas</th>\n",
       "      <td>Haiti</td>\n",
       "      <td>1245.01250</td>\n",
       "      <td>11263077.0</td>\n",
       "      <td>Bermuda</td>\n",
       "      <td>94106.36125</td>\n",
       "      <td>64027.0</td>\n",
       "    </tr>\n",
       "    <tr>\n",
       "      <th>Asia</th>\n",
       "      <td>Afghanistan</td>\n",
       "      <td>573.28755</td>\n",
       "      <td>38041754.0</td>\n",
       "      <td>Qatar</td>\n",
       "      <td>63281.67468</td>\n",
       "      <td>2832067.0</td>\n",
       "    </tr>\n",
       "    <tr>\n",
       "      <th>Europe</th>\n",
       "      <td>Ukraine</td>\n",
       "      <td>3224.93517</td>\n",
       "      <td>44386203.0</td>\n",
       "      <td>Luxembourg</td>\n",
       "      <td>111043.53170</td>\n",
       "      <td>620001.0</td>\n",
       "    </tr>\n",
       "    <tr>\n",
       "      <th>Oceania</th>\n",
       "      <td>Solomon Islands</td>\n",
       "      <td>1749.42726</td>\n",
       "      <td>669823.0</td>\n",
       "      <td>Australia</td>\n",
       "      <td>57183.37935</td>\n",
       "      <td>25365745.0</td>\n",
       "    </tr>\n",
       "  </tbody>\n",
       "</table>\n",
       "</div>"
      ],
      "text/plain": [
       "                  poorest      GDP_PC  totalPopulation     richest  \\\n",
       "region                                                               \n",
       "Africa            Burundi   208.07473       11530580.0  Seychelles   \n",
       "Americas            Haiti  1245.01250       11263077.0     Bermuda   \n",
       "Asia          Afghanistan   573.28755       38041754.0       Qatar   \n",
       "Europe            Ukraine  3224.93517       44386203.0  Luxembourg   \n",
       "Oceania   Solomon Islands  1749.42726         669823.0   Australia   \n",
       "\n",
       "                GDP_PC  totalPopulation  \n",
       "region                                   \n",
       "Africa     15048.74693          97625.0  \n",
       "Americas   94106.36125          64027.0  \n",
       "Asia       63281.67468        2832067.0  \n",
       "Europe    111043.53170         620001.0  \n",
       "Oceania    57183.37935       25365745.0  "
      ]
     },
     "execution_count": 22,
     "metadata": {},
     "output_type": "execute_result"
    }
   ],
   "source": [
    "combine = pd.concat((poor_countries, rich_countries), axis = 1)\n",
    "combine.head(5)"
   ]
  },
  {
   "cell_type": "markdown",
   "id": "b290bc16-07f0-4c0a-a11f-576077db668a",
   "metadata": {},
   "source": [
    "#### 2.7"
   ]
  },
  {
   "cell_type": "markdown",
   "id": "9292dee4-49ab-4063-b5fd-d20611c5b83e",
   "metadata": {},
   "source": [
    "These data looks unfamiliar to me. I have never heard most of the countries in this data set, including Bermuda. And I never expected Bermuda is the riches country in Americas, as I thought it should be U.S or Canada. And I think these small country can be rich because of their low population. Though their total GDP is not high enough, but as the population is low, which means the denomenator is small, the GDP per capita can be large. "
   ]
  },
  {
   "cell_type": "markdown",
   "id": "b7af9148-1115-48a0-b882-f7fa6ef3b4e3",
   "metadata": {},
   "source": [
    "## 3 Health\n",
    "#### 3.1"
   ]
  },
  {
   "cell_type": "code",
   "execution_count": 23,
   "id": "cf33c5ac-3988-417b-8fd6-5587ae31179d",
   "metadata": {},
   "outputs": [
    {
     "data": {
      "text/plain": [
       "Index(['iso3', 'name', 'iso2', 'region', 'sub-region', 'intermediate-region',\n",
       "       'time', 'totalPopulation', 'fertilityRate', 'lifeExpectancy',\n",
       "       'childMortality', 'youthFemaleLiteracy', 'youthMaleLiteracy',\n",
       "       'adultLiteracy', 'GDP_PC', 'accessElectricity', 'agriculturalLand',\n",
       "       'agricultureTractors', 'cerealProduction', 'fertilizerHa', 'co2',\n",
       "       'greenhouseGases', 'co2_PC', 'pm2.5_35', 'battleDeaths'],\n",
       "      dtype='object')"
      ]
     },
     "execution_count": 23,
     "metadata": {},
     "output_type": "execute_result"
    }
   ],
   "source": [
    "gapminder.columns # looking for varaible name of life expectancy"
   ]
  },
  {
   "cell_type": "code",
   "execution_count": 24,
   "id": "59ac5afe-30f4-47dd-bd52-bd0b71b7ec18",
   "metadata": {},
   "outputs": [
    {
     "name": "stdout",
     "output_type": "stream",
     "text": [
      "Data of life expectancy of 27 countries are missing in 1960.\n"
     ]
    }
   ],
   "source": [
    "LE_missing = gapminder[gapminder.time == 1960].lifeExpectancy.isna().sum()\n",
    "print(\"Data of life expectancy of\", LE_missing, \"countries are missing in 1960.\")"
   ]
  },
  {
   "cell_type": "code",
   "execution_count": 25,
   "id": "54f852ac-948f-4667-a366-8bdf52366bcf",
   "metadata": {},
   "outputs": [
    {
     "name": "stdout",
     "output_type": "stream",
     "text": [
      "Data of life expectancy of 19 countries are missingin 2019.\n"
     ]
    }
   ],
   "source": [
    "LE_missing = gapminder[gapminder.time == 2019].lifeExpectancy.isna().sum()\n",
    "print(\"Data of life expectancy of\", LE_missing, \"countries are missingin 2019.\")"
   ]
  },
  {
   "cell_type": "markdown",
   "id": "1fbb39b2-c5e3-4d93-827b-5aa3007d3d5a",
   "metadata": {},
   "source": [
    "#### 3.2"
   ]
  },
  {
   "cell_type": "code",
   "execution_count": 26,
   "id": "e575fcc9-6b1f-483d-ab72-71c149c8c9bb",
   "metadata": {},
   "outputs": [
    {
     "data": {
      "text/plain": [
       "time                  2012.0\n",
       "name              San Marino\n",
       "lifeExpectancy      85.41707\n",
       "Name: 10581, dtype: object"
      ]
     },
     "execution_count": 26,
     "metadata": {},
     "output_type": "execute_result"
    }
   ],
   "source": [
    "long_LE = gapminder.lifeExpectancy.idxmax()\n",
    "short_LE = gapminder.lifeExpectancy.idxmin()\n",
    "long_data = gapminder.loc[long_LE][[\"time\", \"name\", \"lifeExpectancy\"]]\n",
    "long_data"
   ]
  },
  {
   "cell_type": "code",
   "execution_count": 27,
   "id": "39d8aa7d-3fe0-4e23-890a-e462a1ac81dd",
   "metadata": {},
   "outputs": [
    {
     "data": {
      "text/plain": [
       "time                1977.0\n",
       "name              Cambodia\n",
       "lifeExpectancy      18.907\n",
       "Name: 6097, dtype: object"
      ]
     },
     "execution_count": 27,
     "metadata": {},
     "output_type": "execute_result"
    }
   ],
   "source": [
    "short_data = gapminder.loc[short_LE][[\"time\", \"name\", \"lifeExpectancy\"]]\n",
    "short_data"
   ]
  },
  {
   "cell_type": "markdown",
   "id": "cb2c9dda-e753-4748-ba30-71308fc50a14",
   "metadata": {},
   "source": [
    "San Marino has longest life expectancy, 85.41707 years, in 2012. And Cambodia has shortest life expectancy, 18.907 years, in 1977"
   ]
  },
  {
   "cell_type": "markdown",
   "id": "3fdc85cc-7ebc-463c-8fcb-40ef6eaa5e1a",
   "metadata": {},
   "source": [
    "#### 3.3"
   ]
  },
  {
   "cell_type": "markdown",
   "id": "5797d26e-b668-4fcd-a6e3-9d68ab0b53c4",
   "metadata": {},
   "source": [
    "The Cambodia-Vietnam War took place in 1977, leading to low life expectancy."
   ]
  },
  {
   "cell_type": "markdown",
   "id": "ead985a3-e11a-455e-b610-f7c38c79d8b0",
   "metadata": {},
   "source": [
    "#### 3.4"
   ]
  },
  {
   "cell_type": "code",
   "execution_count": 28,
   "id": "94607c6b-6419-4312-a6cd-671196425a53",
   "metadata": {},
   "outputs": [
    {
     "data": {
      "text/html": [
       "<div>\n",
       "<style scoped>\n",
       "    .dataframe tbody tr th:only-of-type {\n",
       "        vertical-align: middle;\n",
       "    }\n",
       "\n",
       "    .dataframe tbody tr th {\n",
       "        vertical-align: top;\n",
       "    }\n",
       "\n",
       "    .dataframe thead th {\n",
       "        text-align: right;\n",
       "    }\n",
       "</style>\n",
       "<table border=\"1\" class=\"dataframe\">\n",
       "  <thead>\n",
       "    <tr style=\"text-align: right;\">\n",
       "      <th></th>\n",
       "      <th>region</th>\n",
       "      <th>name</th>\n",
       "    </tr>\n",
       "  </thead>\n",
       "  <tbody>\n",
       "    <tr>\n",
       "      <th>3310</th>\n",
       "      <td>Africa</td>\n",
       "      <td>Algeria</td>\n",
       "    </tr>\n",
       "    <tr>\n",
       "      <th>2821</th>\n",
       "      <td>Americas</td>\n",
       "      <td>Cayman Islands</td>\n",
       "    </tr>\n",
       "    <tr>\n",
       "      <th>4995</th>\n",
       "      <td>Asia</td>\n",
       "      <td>Hong Kong</td>\n",
       "    </tr>\n",
       "    <tr>\n",
       "      <th>10581</th>\n",
       "      <td>Europe</td>\n",
       "      <td>San Marino</td>\n",
       "    </tr>\n",
       "    <tr>\n",
       "      <th>663</th>\n",
       "      <td>Oceania</td>\n",
       "      <td>Australia</td>\n",
       "    </tr>\n",
       "  </tbody>\n",
       "</table>\n",
       "</div>"
      ],
      "text/plain": [
       "         region            name\n",
       "3310     Africa         Algeria\n",
       "2821   Americas  Cayman Islands\n",
       "4995       Asia       Hong Kong\n",
       "10581    Europe      San Marino\n",
       "663     Oceania       Australia"
      ]
     },
     "execution_count": 28,
     "metadata": {},
     "output_type": "execute_result"
    }
   ],
   "source": [
    "LE_continents = gapminder.groupby([\"region\"])\n",
    "long = LE_continents.lifeExpectancy.idxmax()\n",
    "short= LE_continents.lifeExpectancy.idxmin()\n",
    "\n",
    "long_country = gapminder.loc[long][[\"region\", \"name\"]]\n",
    "long_country.head(5)"
   ]
  },
  {
   "cell_type": "code",
   "execution_count": 29,
   "id": "8a379a75-4320-45a0-bf74-0de839b025c3",
   "metadata": {},
   "outputs": [
    {
     "data": {
      "text/html": [
       "<div>\n",
       "<style scoped>\n",
       "    .dataframe tbody tr th:only-of-type {\n",
       "        vertical-align: middle;\n",
       "    }\n",
       "\n",
       "    .dataframe tbody tr th {\n",
       "        vertical-align: top;\n",
       "    }\n",
       "\n",
       "    .dataframe thead th {\n",
       "        text-align: right;\n",
       "    }\n",
       "</style>\n",
       "<table border=\"1\" class=\"dataframe\">\n",
       "  <thead>\n",
       "    <tr style=\"text-align: right;\">\n",
       "      <th></th>\n",
       "      <th>region</th>\n",
       "      <th>name</th>\n",
       "    </tr>\n",
       "  </thead>\n",
       "  <tbody>\n",
       "    <tr>\n",
       "      <th>10079</th>\n",
       "      <td>Africa</td>\n",
       "      <td>Rwanda</td>\n",
       "    </tr>\n",
       "    <tr>\n",
       "      <th>5117</th>\n",
       "      <td>Americas</td>\n",
       "      <td>Haiti</td>\n",
       "    </tr>\n",
       "    <tr>\n",
       "      <th>6097</th>\n",
       "      <td>Asia</td>\n",
       "      <td>Cambodia</td>\n",
       "    </tr>\n",
       "    <tr>\n",
       "      <th>1265</th>\n",
       "      <td>Europe</td>\n",
       "      <td>Bosnia and Herzegovina</td>\n",
       "    </tr>\n",
       "    <tr>\n",
       "      <th>9386</th>\n",
       "      <td>Oceania</td>\n",
       "      <td>Papua New Guinea</td>\n",
       "    </tr>\n",
       "  </tbody>\n",
       "</table>\n",
       "</div>"
      ],
      "text/plain": [
       "         region                    name\n",
       "10079    Africa                  Rwanda\n",
       "5117   Americas                   Haiti\n",
       "6097       Asia                Cambodia\n",
       "1265     Europe  Bosnia and Herzegovina\n",
       "9386    Oceania        Papua New Guinea"
      ]
     },
     "execution_count": 29,
     "metadata": {},
     "output_type": "execute_result"
    }
   ],
   "source": [
    "short_country = gapminder.loc[short][[\"region\", \"name\"]]\n",
    "short_country.head(5)"
   ]
  },
  {
   "cell_type": "markdown",
   "id": "239125f6-df56-48bb-9ce6-2c92bfe7aa2b",
   "metadata": {
    "tags": []
   },
   "source": [
    "Algeria in Africa, Cayman Island in Americas, Hong Kong in Asia, San Marino in Europe, and Australia in Oceania have the longest life expectancy.\\\n",
    "Rwanda in Africa, Haiti in Americas, Cambodia in Asia, Bosnia and Herzegovina in Europe, and Papua New Guinea in Oceania have the shortest life expectancy."
   ]
  },
  {
   "cell_type": "markdown",
   "id": "3c5daf30-caaf-422f-bc48-ce7050526377",
   "metadata": {
    "tags": []
   },
   "source": [
    "#### 3.5"
   ]
  },
  {
   "cell_type": "code",
   "execution_count": 30,
   "id": "5d14038e-9074-479c-b4a8-d559ae07944e",
   "metadata": {},
   "outputs": [
    {
     "data": {
      "text/html": [
       "<div>\n",
       "<style scoped>\n",
       "    .dataframe tbody tr th:only-of-type {\n",
       "        vertical-align: middle;\n",
       "    }\n",
       "\n",
       "    .dataframe tbody tr th {\n",
       "        vertical-align: top;\n",
       "    }\n",
       "\n",
       "    .dataframe thead th {\n",
       "        text-align: right;\n",
       "    }\n",
       "</style>\n",
       "<table border=\"1\" class=\"dataframe\">\n",
       "  <thead>\n",
       "    <tr style=\"text-align: right;\">\n",
       "      <th></th>\n",
       "      <th>name</th>\n",
       "      <th>time</th>\n",
       "      <th>lifeExpectancy</th>\n",
       "    </tr>\n",
       "  </thead>\n",
       "  <tbody>\n",
       "    <tr>\n",
       "      <th>60</th>\n",
       "      <td>Afghanistan</td>\n",
       "      <td>1960.0</td>\n",
       "      <td>32.44600</td>\n",
       "    </tr>\n",
       "    <tr>\n",
       "      <th>182</th>\n",
       "      <td>Albania</td>\n",
       "      <td>1960.0</td>\n",
       "      <td>62.28300</td>\n",
       "    </tr>\n",
       "    <tr>\n",
       "      <th>3251</th>\n",
       "      <td>Algeria</td>\n",
       "      <td>1960.0</td>\n",
       "      <td>46.14100</td>\n",
       "    </tr>\n",
       "    <tr>\n",
       "      <th>120</th>\n",
       "      <td>Angola</td>\n",
       "      <td>1960.0</td>\n",
       "      <td>37.52400</td>\n",
       "    </tr>\n",
       "    <tr>\n",
       "      <th>544</th>\n",
       "      <td>Antigua and Barbuda</td>\n",
       "      <td>1960.0</td>\n",
       "      <td>61.96800</td>\n",
       "    </tr>\n",
       "    <tr>\n",
       "      <th>...</th>\n",
       "      <td>...</td>\n",
       "      <td>...</td>\n",
       "      <td>...</td>\n",
       "    </tr>\n",
       "    <tr>\n",
       "      <th>12634</th>\n",
       "      <td>Viet Nam</td>\n",
       "      <td>1960.0</td>\n",
       "      <td>59.03900</td>\n",
       "    </tr>\n",
       "    <tr>\n",
       "      <th>12574</th>\n",
       "      <td>Virgin Islands (U.S.)</td>\n",
       "      <td>1960.0</td>\n",
       "      <td>66.22485</td>\n",
       "    </tr>\n",
       "    <tr>\n",
       "      <th>12815</th>\n",
       "      <td>Yemen</td>\n",
       "      <td>1960.0</td>\n",
       "      <td>29.91900</td>\n",
       "    </tr>\n",
       "    <tr>\n",
       "      <th>12935</th>\n",
       "      <td>Zambia</td>\n",
       "      <td>1960.0</td>\n",
       "      <td>46.68700</td>\n",
       "    </tr>\n",
       "    <tr>\n",
       "      <th>12995</th>\n",
       "      <td>Zimbabwe</td>\n",
       "      <td>1960.0</td>\n",
       "      <td>53.01900</td>\n",
       "    </tr>\n",
       "  </tbody>\n",
       "</table>\n",
       "<p>204 rows × 3 columns</p>\n",
       "</div>"
      ],
      "text/plain": [
       "                        name    time  lifeExpectancy\n",
       "60               Afghanistan  1960.0        32.44600\n",
       "182                  Albania  1960.0        62.28300\n",
       "3251                 Algeria  1960.0        46.14100\n",
       "120                   Angola  1960.0        37.52400\n",
       "544      Antigua and Barbuda  1960.0        61.96800\n",
       "...                      ...     ...             ...\n",
       "12634               Viet Nam  1960.0        59.03900\n",
       "12574  Virgin Islands (U.S.)  1960.0        66.22485\n",
       "12815                  Yemen  1960.0        29.91900\n",
       "12935                 Zambia  1960.0        46.68700\n",
       "12995               Zimbabwe  1960.0        53.01900\n",
       "\n",
       "[204 rows x 3 columns]"
      ]
     },
     "execution_count": 30,
     "metadata": {},
     "output_type": "execute_result"
    }
   ],
   "source": [
    "countries = gapminder[~gapminder.lifeExpectancy.isna()]\n",
    "countries_first_idx = countries.groupby([\"name\"]).time.idxmin()\n",
    "countries_first = countries.loc[countries_first_idx][[\"name\", \"time\", \"lifeExpectancy\"]]\n",
    "countries_first"
   ]
  },
  {
   "cell_type": "markdown",
   "id": "585d5e08-d9bc-4b7f-b57c-91db05337dcd",
   "metadata": {},
   "source": [
    "#### 3.6"
   ]
  },
  {
   "cell_type": "code",
   "execution_count": 31,
   "id": "5372f2e7-80b9-4e9b-b261-f69653d5871e",
   "metadata": {},
   "outputs": [
    {
     "data": {
      "text/html": [
       "<div>\n",
       "<style scoped>\n",
       "    .dataframe tbody tr th:only-of-type {\n",
       "        vertical-align: middle;\n",
       "    }\n",
       "\n",
       "    .dataframe tbody tr th {\n",
       "        vertical-align: top;\n",
       "    }\n",
       "\n",
       "    .dataframe thead th {\n",
       "        text-align: right;\n",
       "    }\n",
       "</style>\n",
       "<table border=\"1\" class=\"dataframe\">\n",
       "  <thead>\n",
       "    <tr style=\"text-align: right;\">\n",
       "      <th></th>\n",
       "      <th>name</th>\n",
       "      <th>time</th>\n",
       "      <th>lifeExpectancy</th>\n",
       "    </tr>\n",
       "  </thead>\n",
       "  <tbody>\n",
       "    <tr>\n",
       "      <th>119</th>\n",
       "      <td>Afghanistan</td>\n",
       "      <td>2019.0</td>\n",
       "      <td>64.83300</td>\n",
       "    </tr>\n",
       "    <tr>\n",
       "      <th>241</th>\n",
       "      <td>Albania</td>\n",
       "      <td>2019.0</td>\n",
       "      <td>78.57300</td>\n",
       "    </tr>\n",
       "    <tr>\n",
       "      <th>3310</th>\n",
       "      <td>Algeria</td>\n",
       "      <td>2019.0</td>\n",
       "      <td>76.88000</td>\n",
       "    </tr>\n",
       "    <tr>\n",
       "      <th>179</th>\n",
       "      <td>Angola</td>\n",
       "      <td>2019.0</td>\n",
       "      <td>61.14700</td>\n",
       "    </tr>\n",
       "    <tr>\n",
       "      <th>603</th>\n",
       "      <td>Antigua and Barbuda</td>\n",
       "      <td>2019.0</td>\n",
       "      <td>77.01600</td>\n",
       "    </tr>\n",
       "    <tr>\n",
       "      <th>...</th>\n",
       "      <td>...</td>\n",
       "      <td>...</td>\n",
       "      <td>...</td>\n",
       "    </tr>\n",
       "    <tr>\n",
       "      <th>12693</th>\n",
       "      <td>Viet Nam</td>\n",
       "      <td>2019.0</td>\n",
       "      <td>75.40000</td>\n",
       "    </tr>\n",
       "    <tr>\n",
       "      <th>12633</th>\n",
       "      <td>Virgin Islands (U.S.)</td>\n",
       "      <td>2019.0</td>\n",
       "      <td>79.66829</td>\n",
       "    </tr>\n",
       "    <tr>\n",
       "      <th>12874</th>\n",
       "      <td>Yemen</td>\n",
       "      <td>2019.0</td>\n",
       "      <td>66.12500</td>\n",
       "    </tr>\n",
       "    <tr>\n",
       "      <th>12994</th>\n",
       "      <td>Zambia</td>\n",
       "      <td>2019.0</td>\n",
       "      <td>63.88600</td>\n",
       "    </tr>\n",
       "    <tr>\n",
       "      <th>13054</th>\n",
       "      <td>Zimbabwe</td>\n",
       "      <td>2019.0</td>\n",
       "      <td>61.49000</td>\n",
       "    </tr>\n",
       "  </tbody>\n",
       "</table>\n",
       "<p>204 rows × 3 columns</p>\n",
       "</div>"
      ],
      "text/plain": [
       "                        name    time  lifeExpectancy\n",
       "119              Afghanistan  2019.0        64.83300\n",
       "241                  Albania  2019.0        78.57300\n",
       "3310                 Algeria  2019.0        76.88000\n",
       "179                   Angola  2019.0        61.14700\n",
       "603      Antigua and Barbuda  2019.0        77.01600\n",
       "...                      ...     ...             ...\n",
       "12693               Viet Nam  2019.0        75.40000\n",
       "12633  Virgin Islands (U.S.)  2019.0        79.66829\n",
       "12874                  Yemen  2019.0        66.12500\n",
       "12994                 Zambia  2019.0        63.88600\n",
       "13054               Zimbabwe  2019.0        61.49000\n",
       "\n",
       "[204 rows x 3 columns]"
      ]
     },
     "execution_count": 31,
     "metadata": {},
     "output_type": "execute_result"
    }
   ],
   "source": [
    "countries_last_idx = countries.groupby([\"name\"]).time.idxmax()\n",
    "countries_last = countries.loc[countries_last_idx][[\"name\", \"time\", \"lifeExpectancy\"]]\n",
    "countries_last"
   ]
  },
  {
   "cell_type": "markdown",
   "id": "45a18a71-33ec-457f-9940-992e833a2a60",
   "metadata": {},
   "source": [
    "#### 3.7"
   ]
  },
  {
   "cell_type": "code",
   "execution_count": 44,
   "id": "0b5996fa-53fb-40b6-95a7-6f548f2d68ee",
   "metadata": {},
   "outputs": [],
   "source": [
    "# make a copy of previous files\n",
    "con_first_LE = countries_first\n",
    "con_last_LE = countries_last\n",
    "\n",
    "# change index of data to countries name\n",
    "con_first_LE.index = [con_first_LE.name]\n",
    "con_last_LE.index = [con_last_LE.name]\n",
    "\n",
    "# remove countries name from data\n",
    "con_first_LE = con_first_LE[[\"time\", \"lifeExpectancy\"]]\n",
    "con_last_LE = con_last_LE[[\"time\", \"lifeExpectancy\"]]\n",
    "\n",
    "# change variable name of life expectancy of different year\n",
    "con_first_LE = con_first_LE.rename({\"lifeExpectancy\":\"LE_0\"}, axis = 1)\n",
    "con_last_LE = con_last_LE.rename({\"lifeExpectancy\":\"LE_1\"}, axis = 1)\n",
    "\n",
    "# combine two dataset\n",
    "combined_LE = pd.concat((con_first_LE, con_last_LE), axis = 1)\n",
    "\n",
    "# compute LE growth for each country and add to dataset\n",
    "combined_LE[\"LE_growth\"] = 100*((combined_LE.LE_1/combined_LE.LE_0)**(1/(2019-1960)) - 1)"
   ]
  },
  {
   "cell_type": "code",
   "execution_count": 33,
   "id": "e7afa690-1e67-4cff-b4fc-844da040bfb7",
   "metadata": {},
   "outputs": [
    {
     "data": {
      "text/html": [
       "<div>\n",
       "<style scoped>\n",
       "    .dataframe tbody tr th:only-of-type {\n",
       "        vertical-align: middle;\n",
       "    }\n",
       "\n",
       "    .dataframe tbody tr th {\n",
       "        vertical-align: top;\n",
       "    }\n",
       "\n",
       "    .dataframe thead th {\n",
       "        text-align: right;\n",
       "    }\n",
       "</style>\n",
       "<table border=\"1\" class=\"dataframe\">\n",
       "  <thead>\n",
       "    <tr style=\"text-align: right;\">\n",
       "      <th></th>\n",
       "      <th>time</th>\n",
       "      <th>LE_0</th>\n",
       "      <th>time</th>\n",
       "      <th>LE_1</th>\n",
       "      <th>LE_growth</th>\n",
       "    </tr>\n",
       "    <tr>\n",
       "      <th>name</th>\n",
       "      <th></th>\n",
       "      <th></th>\n",
       "      <th></th>\n",
       "      <th></th>\n",
       "      <th></th>\n",
       "    </tr>\n",
       "  </thead>\n",
       "  <tbody>\n",
       "    <tr>\n",
       "      <th>Marshall Islands</th>\n",
       "      <td>1987.0</td>\n",
       "      <td>72.14146</td>\n",
       "      <td>2000.0</td>\n",
       "      <td>65.23902</td>\n",
       "      <td>-0.170314</td>\n",
       "    </tr>\n",
       "    <tr>\n",
       "      <th>Cayman Islands</th>\n",
       "      <td>2010.0</td>\n",
       "      <td>82.19024</td>\n",
       "      <td>2010.0</td>\n",
       "      <td>82.19024</td>\n",
       "      <td>0.000000</td>\n",
       "    </tr>\n",
       "    <tr>\n",
       "      <th>San Marino</th>\n",
       "      <td>2012.0</td>\n",
       "      <td>85.41707</td>\n",
       "      <td>2012.0</td>\n",
       "      <td>85.41707</td>\n",
       "      <td>0.000000</td>\n",
       "    </tr>\n",
       "    <tr>\n",
       "      <th>Palau</th>\n",
       "      <td>1990.0</td>\n",
       "      <td>69.06927</td>\n",
       "      <td>2005.0</td>\n",
       "      <td>69.12927</td>\n",
       "      <td>0.001472</td>\n",
       "    </tr>\n",
       "    <tr>\n",
       "      <th>Sint Maarten (Dutch part)</th>\n",
       "      <td>2007.0</td>\n",
       "      <td>74.54390</td>\n",
       "      <td>2016.0</td>\n",
       "      <td>78.29268</td>\n",
       "      <td>0.083197</td>\n",
       "    </tr>\n",
       "    <tr>\n",
       "      <th>Ukraine</th>\n",
       "      <td>1960.0</td>\n",
       "      <td>68.29954</td>\n",
       "      <td>2019.0</td>\n",
       "      <td>71.82732</td>\n",
       "      <td>0.085396</td>\n",
       "    </tr>\n",
       "    <tr>\n",
       "      <th>Serbia</th>\n",
       "      <td>1991.0</td>\n",
       "      <td>71.48780</td>\n",
       "      <td>2019.0</td>\n",
       "      <td>75.68537</td>\n",
       "      <td>0.096755</td>\n",
       "    </tr>\n",
       "    <tr>\n",
       "      <th>Liechtenstein</th>\n",
       "      <td>1994.0</td>\n",
       "      <td>78.42195</td>\n",
       "      <td>2019.0</td>\n",
       "      <td>83.04146</td>\n",
       "      <td>0.097057</td>\n",
       "    </tr>\n",
       "    <tr>\n",
       "      <th>Seychelles</th>\n",
       "      <td>1980.0</td>\n",
       "      <td>69.59756</td>\n",
       "      <td>2019.0</td>\n",
       "      <td>73.94390</td>\n",
       "      <td>0.102726</td>\n",
       "    </tr>\n",
       "    <tr>\n",
       "      <th>Dominica</th>\n",
       "      <td>1982.0</td>\n",
       "      <td>71.46341</td>\n",
       "      <td>2002.0</td>\n",
       "      <td>76.59756</td>\n",
       "      <td>0.117662</td>\n",
       "    </tr>\n",
       "  </tbody>\n",
       "</table>\n",
       "</div>"
      ],
      "text/plain": [
       "                             time      LE_0    time      LE_1  LE_growth\n",
       "name                                                                    \n",
       "Marshall Islands           1987.0  72.14146  2000.0  65.23902  -0.170314\n",
       "Cayman Islands             2010.0  82.19024  2010.0  82.19024   0.000000\n",
       "San Marino                 2012.0  85.41707  2012.0  85.41707   0.000000\n",
       "Palau                      1990.0  69.06927  2005.0  69.12927   0.001472\n",
       "Sint Maarten (Dutch part)  2007.0  74.54390  2016.0  78.29268   0.083197\n",
       "Ukraine                    1960.0  68.29954  2019.0  71.82732   0.085396\n",
       "Serbia                     1991.0  71.48780  2019.0  75.68537   0.096755\n",
       "Liechtenstein              1994.0  78.42195  2019.0  83.04146   0.097057\n",
       "Seychelles                 1980.0  69.59756  2019.0  73.94390   0.102726\n",
       "Dominica                   1982.0  71.46341  2002.0  76.59756   0.117662"
      ]
     },
     "execution_count": 33,
     "metadata": {},
     "output_type": "execute_result"
    }
   ],
   "source": [
    "# 10 countries with lowest life expectancy growth\n",
    "combined_LE.sort_values(by = [\"LE_growth\"]).head(10)"
   ]
  },
  {
   "cell_type": "code",
   "execution_count": 34,
   "id": "38ea8a7d-e24a-4523-9426-3fda4bc2166b",
   "metadata": {},
   "outputs": [
    {
     "data": {
      "text/html": [
       "<div>\n",
       "<style scoped>\n",
       "    .dataframe tbody tr th:only-of-type {\n",
       "        vertical-align: middle;\n",
       "    }\n",
       "\n",
       "    .dataframe tbody tr th {\n",
       "        vertical-align: top;\n",
       "    }\n",
       "\n",
       "    .dataframe thead th {\n",
       "        text-align: right;\n",
       "    }\n",
       "</style>\n",
       "<table border=\"1\" class=\"dataframe\">\n",
       "  <thead>\n",
       "    <tr style=\"text-align: right;\">\n",
       "      <th></th>\n",
       "      <th>time</th>\n",
       "      <th>LE_0</th>\n",
       "      <th>time</th>\n",
       "      <th>LE_1</th>\n",
       "      <th>LE_growth</th>\n",
       "    </tr>\n",
       "    <tr>\n",
       "      <th>name</th>\n",
       "      <th></th>\n",
       "      <th></th>\n",
       "      <th></th>\n",
       "      <th></th>\n",
       "      <th></th>\n",
       "    </tr>\n",
       "  </thead>\n",
       "  <tbody>\n",
       "    <tr>\n",
       "      <th>Yemen</th>\n",
       "      <td>1960.0</td>\n",
       "      <td>29.919</td>\n",
       "      <td>2019.0</td>\n",
       "      <td>66.125</td>\n",
       "      <td>1.353232</td>\n",
       "    </tr>\n",
       "    <tr>\n",
       "      <th>Maldives</th>\n",
       "      <td>1960.0</td>\n",
       "      <td>37.343</td>\n",
       "      <td>2019.0</td>\n",
       "      <td>78.921</td>\n",
       "      <td>1.276385</td>\n",
       "    </tr>\n",
       "    <tr>\n",
       "      <th>Mali</th>\n",
       "      <td>1960.0</td>\n",
       "      <td>28.199</td>\n",
       "      <td>2019.0</td>\n",
       "      <td>59.306</td>\n",
       "      <td>1.268013</td>\n",
       "    </tr>\n",
       "    <tr>\n",
       "      <th>Bhutan</th>\n",
       "      <td>1960.0</td>\n",
       "      <td>34.526</td>\n",
       "      <td>2019.0</td>\n",
       "      <td>71.777</td>\n",
       "      <td>1.248151</td>\n",
       "    </tr>\n",
       "    <tr>\n",
       "      <th>Timor-Leste</th>\n",
       "      <td>1960.0</td>\n",
       "      <td>33.729</td>\n",
       "      <td>2019.0</td>\n",
       "      <td>69.495</td>\n",
       "      <td>1.232786</td>\n",
       "    </tr>\n",
       "    <tr>\n",
       "      <th>Afghanistan</th>\n",
       "      <td>1960.0</td>\n",
       "      <td>32.446</td>\n",
       "      <td>2019.0</td>\n",
       "      <td>64.833</td>\n",
       "      <td>1.180194</td>\n",
       "    </tr>\n",
       "    <tr>\n",
       "      <th>Nepal</th>\n",
       "      <td>1960.0</td>\n",
       "      <td>35.583</td>\n",
       "      <td>2019.0</td>\n",
       "      <td>70.778</td>\n",
       "      <td>1.172379</td>\n",
       "    </tr>\n",
       "    <tr>\n",
       "      <th>Gambia</th>\n",
       "      <td>1960.0</td>\n",
       "      <td>32.054</td>\n",
       "      <td>2019.0</td>\n",
       "      <td>62.050</td>\n",
       "      <td>1.125813</td>\n",
       "    </tr>\n",
       "    <tr>\n",
       "      <th>Liberia</th>\n",
       "      <td>1960.0</td>\n",
       "      <td>34.264</td>\n",
       "      <td>2019.0</td>\n",
       "      <td>64.104</td>\n",
       "      <td>1.067371</td>\n",
       "    </tr>\n",
       "    <tr>\n",
       "      <th>Tunisia</th>\n",
       "      <td>1960.0</td>\n",
       "      <td>42.021</td>\n",
       "      <td>2019.0</td>\n",
       "      <td>76.699</td>\n",
       "      <td>1.025081</td>\n",
       "    </tr>\n",
       "  </tbody>\n",
       "</table>\n",
       "</div>"
      ],
      "text/plain": [
       "               time    LE_0    time    LE_1  LE_growth\n",
       "name                                                  \n",
       "Yemen        1960.0  29.919  2019.0  66.125   1.353232\n",
       "Maldives     1960.0  37.343  2019.0  78.921   1.276385\n",
       "Mali         1960.0  28.199  2019.0  59.306   1.268013\n",
       "Bhutan       1960.0  34.526  2019.0  71.777   1.248151\n",
       "Timor-Leste  1960.0  33.729  2019.0  69.495   1.232786\n",
       "Afghanistan  1960.0  32.446  2019.0  64.833   1.180194\n",
       "Nepal        1960.0  35.583  2019.0  70.778   1.172379\n",
       "Gambia       1960.0  32.054  2019.0  62.050   1.125813\n",
       "Liberia      1960.0  34.264  2019.0  64.104   1.067371\n",
       "Tunisia      1960.0  42.021  2019.0  76.699   1.025081"
      ]
     },
     "execution_count": 34,
     "metadata": {},
     "output_type": "execute_result"
    }
   ],
   "source": [
    "# 10 countries with highest life expectancy growth\n",
    "combined_LE.sort_values(by = [\"LE_growth\"], ascending = False).head(10)"
   ]
  },
  {
   "cell_type": "markdown",
   "id": "b238f3e6-a7e2-4ee4-8726-7656a18d00da",
   "metadata": {},
   "source": [
    "Some of the countries have 0 life expectancy growth rate as their value of life expectancy are approximately the same in 1960 and 2019, while they might changed somewhere in this period."
   ]
  },
  {
   "cell_type": "markdown",
   "id": "e6e856cd-2ad9-4913-bd0c-619c4b2e3844",
   "metadata": {},
   "source": [
    "#### 3.8\n",
    "The pattern I find is that the life expectancies of most of the countreis increased from 1960 to 2019, with only life expectancies of San Marino and Cayman Islands did not change, and life expectancy of Marshall Islands decreased. And Yemen las the largest growth rate."
   ]
  },
  {
   "cell_type": "markdown",
   "id": "034a2d42-b409-4a39-b422-3ad443635d4d",
   "metadata": {},
   "source": [
    "## 4 Graphical Analysis\n",
    "#### 4.1"
   ]
  },
  {
   "cell_type": "code",
   "execution_count": 38,
   "id": "18167f5a-e6b2-4a37-ae96-7a1683f7e722",
   "metadata": {},
   "outputs": [],
   "source": [
    "# extract data for largest LE growth country\n",
    "yemen = gapminder[gapminder.name == \"Yemen\"][[\"time\", \"lifeExpectancy\"]]\n",
    "# extract data for lowest LE growth country\n",
    "marshall_islands = gapminder[gapminder.name == \"Marshall Islands\"][[\"time\", \"lifeExpectancy\"]]\n",
    "# extract data for Ukraine\n",
    "ukraine = gapminder[gapminder.name == \"Ukraine\"][[\"time\", \"lifeExpectancy\"]]\n",
    "# other two random countries\n",
    "afghanistan = gapminder[gapminder.name == \"Afghanistan\"][[\"time\", \"lifeExpectancy\"]]\n",
    "albania = gapminder[gapminder.name == \"Albania\"][[\"time\", \"lifeExpectancy\"]]"
   ]
  },
  {
   "cell_type": "code",
   "execution_count": 45,
   "id": "474bcda0-dc47-4230-a6e1-b28826f84086",
   "metadata": {},
   "outputs": [
    {
     "data": {
      "image/png": "[encoded data removed]",
      "text/plain": [
       "<Figure size 432x288 with 1 Axes>"
      ]
     },
     "metadata": {
      "needs_background": "light"
     },
     "output_type": "display_data"
    }
   ],
   "source": [
    "plt.plot(yemen.time, yemen.lifeExpectancy, label = \"Yemen\")\n",
    "plt.plot(marshall_islands.time, marshall_islands.lifeExpectancy, label = \"Marshall_Islands\")\n",
    "plt.plot(ukraine.time, ukraine.lifeExpectancy, label = \"Ukraine\")\n",
    "plt.plot(afghanistan.time, afghanistan.lifeExpectancy, label = \"Afghanistan\")\n",
    "plt.plot(albania.time, albania.lifeExpectancy, label = \"Albania\")\n",
    "\n",
    "plt.title(\"Life Expectancy of Countries across Time\")\n",
    "plt.xlabel(\"Y ears\") # I left a space between \"Y\" and \"e\", as two letters will stick together otherwise\n",
    "plt.ylabel(\"Life Expectancy (years)\")\n",
    "plt.legend()\n",
    "plt.show()"
   ]
  },
  {
   "cell_type": "markdown",
   "id": "6d2e1314-2b68-46af-bb09-cbaec0c466a0",
   "metadata": {},
   "source": [
    "From the plot, Yemen and Afghanistan both have life expectancy growth in a large scale. And the life expectancy of Ukraine and Albania did not grow much. The life expectancy of Marshall Islands decreased.\\\n",
    "\\\n",
    "Reference: [Plot](https://www.delftstack.com/howto/matplotlib/plot-multiple-lines-matplotlib/)"
   ]
  },
  {
   "cell_type": "markdown",
   "id": "f77ca6b3-9ac9-43cb-83a1-f0aa74a53d4f",
   "metadata": {},
   "source": [
    "I spend approximately 5 hours on this problem set."
   ]
  }
 ],
 "metadata": {
  "kernelspec": {
   "display_name": "Python 3 (ipykernel)",
   "language": "python",
   "name": "python3"
  },
  "language_info": {
   "codemirror_mode": {
    "name": "ipython",
    "version": 3
   },
   "file_extension": ".py",
   "mimetype": "text/x-python",
   "name": "python",
   "nbconvert_exporter": "python",
   "pygments_lexer": "ipython3",
   "version": "3.9.7"
  }
 },
 "nbformat": 4,
 "nbformat_minor": 5
}
