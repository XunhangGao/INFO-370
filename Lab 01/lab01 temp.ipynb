{
 "cells": [
  {
   "cell_type": "code",
   "execution_count": 1,
   "metadata": {},
   "outputs": [],
   "source": [
    "import numpy as np\n",
    "import pandas as pd"
   ]
  },
  {
   "cell_type": "markdown",
   "metadata": {},
   "source": [
    "# Lab 01\n",
    "David Gao (I work this alone)\n",
    "## 1  Data Import and Summary\n",
    "##### 1."
   ]
  },
  {
   "cell_type": "code",
   "execution_count": 48,
   "metadata": {},
   "outputs": [
    {
     "data": {
      "text/html": [
       "<div>\n",
       "<style scoped>\n",
       "    .dataframe tbody tr th:only-of-type {\n",
       "        vertical-align: middle;\n",
       "    }\n",
       "\n",
       "    .dataframe tbody tr th {\n",
       "        vertical-align: top;\n",
       "    }\n",
       "\n",
       "    .dataframe thead th {\n",
       "        text-align: right;\n",
       "    }\n",
       "</style>\n",
       "<table border=\"1\" class=\"dataframe\">\n",
       "  <thead>\n",
       "    <tr style=\"text-align: right;\">\n",
       "      <th></th>\n",
       "      <th>UID</th>\n",
       "      <th>iso2</th>\n",
       "      <th>iso3</th>\n",
       "      <th>code3</th>\n",
       "      <th>FIPS</th>\n",
       "      <th>Admin2</th>\n",
       "      <th>Province_State</th>\n",
       "      <th>Country_Region</th>\n",
       "      <th>Lat</th>\n",
       "      <th>Long_</th>\n",
       "      <th>...</th>\n",
       "      <th>3/17/22</th>\n",
       "      <th>3/18/22</th>\n",
       "      <th>3/19/22</th>\n",
       "      <th>3/20/22</th>\n",
       "      <th>3/21/22</th>\n",
       "      <th>3/22/22</th>\n",
       "      <th>3/23/22</th>\n",
       "      <th>3/24/22</th>\n",
       "      <th>3/25/22</th>\n",
       "      <th>3/26/22</th>\n",
       "    </tr>\n",
       "  </thead>\n",
       "  <tbody>\n",
       "    <tr>\n",
       "      <th>0</th>\n",
       "      <td>84001001</td>\n",
       "      <td>US</td>\n",
       "      <td>USA</td>\n",
       "      <td>840</td>\n",
       "      <td>1001.0</td>\n",
       "      <td>Autauga</td>\n",
       "      <td>Alabama</td>\n",
       "      <td>US</td>\n",
       "      <td>32.539527</td>\n",
       "      <td>-86.644082</td>\n",
       "      <td>...</td>\n",
       "      <td>209</td>\n",
       "      <td>210</td>\n",
       "      <td>210</td>\n",
       "      <td>210</td>\n",
       "      <td>210</td>\n",
       "      <td>210</td>\n",
       "      <td>210</td>\n",
       "      <td>209</td>\n",
       "      <td>209</td>\n",
       "      <td>209</td>\n",
       "    </tr>\n",
       "    <tr>\n",
       "      <th>1</th>\n",
       "      <td>84001003</td>\n",
       "      <td>US</td>\n",
       "      <td>USA</td>\n",
       "      <td>840</td>\n",
       "      <td>1003.0</td>\n",
       "      <td>Baldwin</td>\n",
       "      <td>Alabama</td>\n",
       "      <td>US</td>\n",
       "      <td>30.727750</td>\n",
       "      <td>-87.722071</td>\n",
       "      <td>...</td>\n",
       "      <td>668</td>\n",
       "      <td>669</td>\n",
       "      <td>669</td>\n",
       "      <td>669</td>\n",
       "      <td>672</td>\n",
       "      <td>673</td>\n",
       "      <td>673</td>\n",
       "      <td>673</td>\n",
       "      <td>674</td>\n",
       "      <td>674</td>\n",
       "    </tr>\n",
       "    <tr>\n",
       "      <th>2</th>\n",
       "      <td>84001005</td>\n",
       "      <td>US</td>\n",
       "      <td>USA</td>\n",
       "      <td>840</td>\n",
       "      <td>1005.0</td>\n",
       "      <td>Barbour</td>\n",
       "      <td>Alabama</td>\n",
       "      <td>US</td>\n",
       "      <td>31.868263</td>\n",
       "      <td>-85.387129</td>\n",
       "      <td>...</td>\n",
       "      <td>94</td>\n",
       "      <td>94</td>\n",
       "      <td>94</td>\n",
       "      <td>94</td>\n",
       "      <td>94</td>\n",
       "      <td>97</td>\n",
       "      <td>97</td>\n",
       "      <td>97</td>\n",
       "      <td>97</td>\n",
       "      <td>97</td>\n",
       "    </tr>\n",
       "    <tr>\n",
       "      <th>3</th>\n",
       "      <td>84001007</td>\n",
       "      <td>US</td>\n",
       "      <td>USA</td>\n",
       "      <td>840</td>\n",
       "      <td>1007.0</td>\n",
       "      <td>Bibb</td>\n",
       "      <td>Alabama</td>\n",
       "      <td>US</td>\n",
       "      <td>32.996421</td>\n",
       "      <td>-87.125115</td>\n",
       "      <td>...</td>\n",
       "      <td>100</td>\n",
       "      <td>100</td>\n",
       "      <td>100</td>\n",
       "      <td>100</td>\n",
       "      <td>100</td>\n",
       "      <td>101</td>\n",
       "      <td>101</td>\n",
       "      <td>101</td>\n",
       "      <td>101</td>\n",
       "      <td>101</td>\n",
       "    </tr>\n",
       "    <tr>\n",
       "      <th>4</th>\n",
       "      <td>84001009</td>\n",
       "      <td>US</td>\n",
       "      <td>USA</td>\n",
       "      <td>840</td>\n",
       "      <td>1009.0</td>\n",
       "      <td>Blount</td>\n",
       "      <td>Alabama</td>\n",
       "      <td>US</td>\n",
       "      <td>33.982109</td>\n",
       "      <td>-86.567906</td>\n",
       "      <td>...</td>\n",
       "      <td>228</td>\n",
       "      <td>230</td>\n",
       "      <td>230</td>\n",
       "      <td>230</td>\n",
       "      <td>230</td>\n",
       "      <td>230</td>\n",
       "      <td>230</td>\n",
       "      <td>230</td>\n",
       "      <td>233</td>\n",
       "      <td>233</td>\n",
       "    </tr>\n",
       "  </tbody>\n",
       "</table>\n",
       "<p>5 rows × 807 columns</p>\n",
       "</div>"
      ],
      "text/plain": [
       "        UID iso2 iso3  code3    FIPS   Admin2 Province_State Country_Region  \\\n",
       "0  84001001   US  USA    840  1001.0  Autauga        Alabama             US   \n",
       "1  84001003   US  USA    840  1003.0  Baldwin        Alabama             US   \n",
       "2  84001005   US  USA    840  1005.0  Barbour        Alabama             US   \n",
       "3  84001007   US  USA    840  1007.0     Bibb        Alabama             US   \n",
       "4  84001009   US  USA    840  1009.0   Blount        Alabama             US   \n",
       "\n",
       "         Lat      Long_  ... 3/17/22  3/18/22  3/19/22  3/20/22  3/21/22  \\\n",
       "0  32.539527 -86.644082  ...     209      210      210      210      210   \n",
       "1  30.727750 -87.722071  ...     668      669      669      669      672   \n",
       "2  31.868263 -85.387129  ...      94       94       94       94       94   \n",
       "3  32.996421 -87.125115  ...     100      100      100      100      100   \n",
       "4  33.982109 -86.567906  ...     228      230      230      230      230   \n",
       "\n",
       "   3/22/22  3/23/22  3/24/22  3/25/22  3/26/22  \n",
       "0      210      210      209      209      209  \n",
       "1      673      673      673      674      674  \n",
       "2       97       97       97       97       97  \n",
       "3      101      101      101      101      101  \n",
       "4      230      230      230      233      233  \n",
       "\n",
       "[5 rows x 807 columns]"
      ]
     },
     "execution_count": 48,
     "metadata": {},
     "output_type": "execute_result"
    }
   ],
   "source": [
    "covid = pd.read_csv(r'C:\\UW\\SPR 2022\\INFO 370\\time-series-covid19-deaths-us.csv', sep='\\t')\n",
    "covid.head(5)"
   ]
  },
  {
   "cell_type": "markdown",
   "metadata": {},
   "source": [
    "##### 2."
   ]
  },
  {
   "cell_type": "code",
   "execution_count": 148,
   "metadata": {},
   "outputs": [
    {
     "name": "stdout",
     "output_type": "stream",
     "text": [
      "rows: 3342 ; columns: 807\n"
     ]
    }
   ],
   "source": [
    "rows,columns = covid.shape\n",
    "print('rows:', rows, '; columns:', columns)"
   ]
  },
  {
   "cell_type": "markdown",
   "metadata": {},
   "source": [
    "##### 3."
   ]
  },
  {
   "cell_type": "code",
   "execution_count": 8,
   "metadata": {},
   "outputs": [
    {
     "data": {
      "text/plain": [
       "UID          int64\n",
       "iso2        object\n",
       "iso3        object\n",
       "code3        int64\n",
       "FIPS       float64\n",
       "            ...   \n",
       "3/22/22      int64\n",
       "3/23/22      int64\n",
       "3/24/22      int64\n",
       "3/25/22      int64\n",
       "3/26/22      int64\n",
       "Length: 807, dtype: object"
      ]
     },
     "execution_count": 8,
     "metadata": {},
     "output_type": "execute_result"
    }
   ],
   "source": [
    "data_types = covid.dtypes\n",
    "data_types"
   ]
  },
  {
   "cell_type": "markdown",
   "metadata": {},
   "source": [
    "##### 4."
   ]
  },
  {
   "cell_type": "code",
   "execution_count": 10,
   "metadata": {},
   "outputs": [
    {
     "data": {
      "text/html": [
       "<div>\n",
       "<style scoped>\n",
       "    .dataframe tbody tr th:only-of-type {\n",
       "        vertical-align: middle;\n",
       "    }\n",
       "\n",
       "    .dataframe tbody tr th {\n",
       "        vertical-align: top;\n",
       "    }\n",
       "\n",
       "    .dataframe thead th {\n",
       "        text-align: right;\n",
       "    }\n",
       "</style>\n",
       "<table border=\"1\" class=\"dataframe\">\n",
       "  <thead>\n",
       "    <tr style=\"text-align: right;\">\n",
       "      <th></th>\n",
       "      <th>FIPS</th>\n",
       "      <th>Admin2</th>\n",
       "      <th>Province_State</th>\n",
       "      <th>3/1/20</th>\n",
       "      <th>3/15/21</th>\n",
       "      <th>3/26/22</th>\n",
       "    </tr>\n",
       "  </thead>\n",
       "  <tbody>\n",
       "    <tr>\n",
       "      <th>1244</th>\n",
       "      <td>24011.0</td>\n",
       "      <td>Caroline</td>\n",
       "      <td>Maryland</td>\n",
       "      <td>0</td>\n",
       "      <td>21</td>\n",
       "      <td>80</td>\n",
       "    </tr>\n",
       "    <tr>\n",
       "      <th>153</th>\n",
       "      <td>5067.0</td>\n",
       "      <td>Jackson</td>\n",
       "      <td>Arkansas</td>\n",
       "      <td>0</td>\n",
       "      <td>36</td>\n",
       "      <td>60</td>\n",
       "    </tr>\n",
       "    <tr>\n",
       "      <th>577</th>\n",
       "      <td>15007.0</td>\n",
       "      <td>Kauai</td>\n",
       "      <td>Hawaii</td>\n",
       "      <td>0</td>\n",
       "      <td>1</td>\n",
       "      <td>29</td>\n",
       "    </tr>\n",
       "    <tr>\n",
       "      <th>1650</th>\n",
       "      <td>29213.0</td>\n",
       "      <td>Taney</td>\n",
       "      <td>Missouri</td>\n",
       "      <td>0</td>\n",
       "      <td>91</td>\n",
       "      <td>223</td>\n",
       "    </tr>\n",
       "    <tr>\n",
       "      <th>2353</th>\n",
       "      <td>42045.0</td>\n",
       "      <td>Delaware</td>\n",
       "      <td>Pennsylvania</td>\n",
       "      <td>0</td>\n",
       "      <td>1262</td>\n",
       "      <td>1856</td>\n",
       "    </tr>\n",
       "  </tbody>\n",
       "</table>\n",
       "</div>"
      ],
      "text/plain": [
       "         FIPS    Admin2 Province_State  3/1/20  3/15/21  3/26/22\n",
       "1244  24011.0  Caroline       Maryland       0       21       80\n",
       "153    5067.0   Jackson       Arkansas       0       36       60\n",
       "577   15007.0     Kauai         Hawaii       0        1       29\n",
       "1650  29213.0     Taney       Missouri       0       91      223\n",
       "2353  42045.0  Delaware   Pennsylvania       0     1262     1856"
      ]
     },
     "execution_count": 10,
     "metadata": {},
     "output_type": "execute_result"
    }
   ],
   "source": [
    "sub_covid = covid[['FIPS', 'Admin2', 'Province_State','3/1/20', '3/15/21', '3/26/22']]\n",
    "sub_covid.sample(5)"
   ]
  },
  {
   "cell_type": "markdown",
   "metadata": {},
   "source": [
    "## 2  Explore deaths in Washington\n",
    "##### 1."
   ]
  },
  {
   "cell_type": "code",
   "execution_count": 11,
   "metadata": {},
   "outputs": [
    {
     "data": {
      "text/html": [
       "<div>\n",
       "<style scoped>\n",
       "    .dataframe tbody tr th:only-of-type {\n",
       "        vertical-align: middle;\n",
       "    }\n",
       "\n",
       "    .dataframe tbody tr th {\n",
       "        vertical-align: top;\n",
       "    }\n",
       "\n",
       "    .dataframe thead th {\n",
       "        text-align: right;\n",
       "    }\n",
       "</style>\n",
       "<table border=\"1\" class=\"dataframe\">\n",
       "  <thead>\n",
       "    <tr style=\"text-align: right;\">\n",
       "      <th></th>\n",
       "      <th>FIPS</th>\n",
       "      <th>Admin2</th>\n",
       "      <th>Province_State</th>\n",
       "      <th>3/1/20</th>\n",
       "      <th>3/15/21</th>\n",
       "      <th>3/26/22</th>\n",
       "    </tr>\n",
       "  </thead>\n",
       "  <tbody>\n",
       "    <tr>\n",
       "      <th>3163</th>\n",
       "      <td>53037.0</td>\n",
       "      <td>Kittitas</td>\n",
       "      <td>Washington</td>\n",
       "      <td>0</td>\n",
       "      <td>30</td>\n",
       "      <td>60</td>\n",
       "    </tr>\n",
       "    <tr>\n",
       "      <th>3175</th>\n",
       "      <td>53059.0</td>\n",
       "      <td>Skamania</td>\n",
       "      <td>Washington</td>\n",
       "      <td>0</td>\n",
       "      <td>1</td>\n",
       "      <td>12</td>\n",
       "    </tr>\n",
       "    <tr>\n",
       "      <th>3161</th>\n",
       "      <td>53033.0</td>\n",
       "      <td>King</td>\n",
       "      <td>Washington</td>\n",
       "      <td>1</td>\n",
       "      <td>1440</td>\n",
       "      <td>2655</td>\n",
       "    </tr>\n",
       "    <tr>\n",
       "      <th>3182</th>\n",
       "      <td>53071.0</td>\n",
       "      <td>Walla Walla</td>\n",
       "      <td>Washington</td>\n",
       "      <td>0</td>\n",
       "      <td>64</td>\n",
       "      <td>140</td>\n",
       "    </tr>\n",
       "    <tr>\n",
       "      <th>3156</th>\n",
       "      <td>53023.0</td>\n",
       "      <td>Garfield</td>\n",
       "      <td>Washington</td>\n",
       "      <td>0</td>\n",
       "      <td>4</td>\n",
       "      <td>7</td>\n",
       "    </tr>\n",
       "  </tbody>\n",
       "</table>\n",
       "</div>"
      ],
      "text/plain": [
       "         FIPS       Admin2 Province_State  3/1/20  3/15/21  3/26/22\n",
       "3163  53037.0     Kittitas     Washington       0       30       60\n",
       "3175  53059.0     Skamania     Washington       0        1       12\n",
       "3161  53033.0         King     Washington       1     1440     2655\n",
       "3182  53071.0  Walla Walla     Washington       0       64      140\n",
       "3156  53023.0     Garfield     Washington       0        4        7"
      ]
     },
     "execution_count": 11,
     "metadata": {},
     "output_type": "execute_result"
    }
   ],
   "source": [
    "WA_deaths = sub_covid[sub_covid.Province_State == 'Washington']\n",
    "WA_deaths.sample(5)"
   ]
  },
  {
   "cell_type": "markdown",
   "metadata": {},
   "source": [
    "##### 2."
   ]
  },
  {
   "cell_type": "code",
   "execution_count": 12,
   "metadata": {},
   "outputs": [
    {
     "name": "stderr",
     "output_type": "stream",
     "text": [
      "C:\\Users\\David.Gao\\AppData\\Local\\Temp\\ipykernel_15444\\2566550715.py:2: SettingWithCopyWarning: \n",
      "A value is trying to be set on a copy of a slice from a DataFrame.\n",
      "Try using .loc[row_indexer,col_indexer] = value instead\n",
      "\n",
      "See the caveats in the documentation: https://pandas.pydata.org/pandas-docs/stable/user_guide/indexing.html#returning-a-view-versus-a-copy\n",
      "  WA_deaths['growth'] = WA_deaths['3/26/22'] - WA_deaths['3/15/21']\n"
     ]
    },
    {
     "data": {
      "text/html": [
       "<div>\n",
       "<style scoped>\n",
       "    .dataframe tbody tr th:only-of-type {\n",
       "        vertical-align: middle;\n",
       "    }\n",
       "\n",
       "    .dataframe tbody tr th {\n",
       "        vertical-align: top;\n",
       "    }\n",
       "\n",
       "    .dataframe thead th {\n",
       "        text-align: right;\n",
       "    }\n",
       "</style>\n",
       "<table border=\"1\" class=\"dataframe\">\n",
       "  <thead>\n",
       "    <tr style=\"text-align: right;\">\n",
       "      <th></th>\n",
       "      <th>FIPS</th>\n",
       "      <th>Admin2</th>\n",
       "      <th>Province_State</th>\n",
       "      <th>3/1/20</th>\n",
       "      <th>3/15/21</th>\n",
       "      <th>3/26/22</th>\n",
       "      <th>growth</th>\n",
       "    </tr>\n",
       "  </thead>\n",
       "  <tbody>\n",
       "    <tr>\n",
       "      <th>3168</th>\n",
       "      <td>53047.0</td>\n",
       "      <td>Okanogan</td>\n",
       "      <td>Washington</td>\n",
       "      <td>0</td>\n",
       "      <td>36</td>\n",
       "      <td>120</td>\n",
       "      <td>84</td>\n",
       "    </tr>\n",
       "    <tr>\n",
       "      <th>3151</th>\n",
       "      <td>53013.0</td>\n",
       "      <td>Columbia</td>\n",
       "      <td>Washington</td>\n",
       "      <td>0</td>\n",
       "      <td>4</td>\n",
       "      <td>15</td>\n",
       "      <td>11</td>\n",
       "    </tr>\n",
       "    <tr>\n",
       "      <th>3177</th>\n",
       "      <td>53063.0</td>\n",
       "      <td>Spokane</td>\n",
       "      <td>Washington</td>\n",
       "      <td>0</td>\n",
       "      <td>583</td>\n",
       "      <td>1352</td>\n",
       "      <td>769</td>\n",
       "    </tr>\n",
       "    <tr>\n",
       "      <th>3167</th>\n",
       "      <td>53045.0</td>\n",
       "      <td>Mason</td>\n",
       "      <td>Washington</td>\n",
       "      <td>0</td>\n",
       "      <td>25</td>\n",
       "      <td>137</td>\n",
       "      <td>112</td>\n",
       "    </tr>\n",
       "    <tr>\n",
       "      <th>3155</th>\n",
       "      <td>53021.0</td>\n",
       "      <td>Franklin</td>\n",
       "      <td>Washington</td>\n",
       "      <td>0</td>\n",
       "      <td>103</td>\n",
       "      <td>211</td>\n",
       "      <td>108</td>\n",
       "    </tr>\n",
       "  </tbody>\n",
       "</table>\n",
       "</div>"
      ],
      "text/plain": [
       "         FIPS    Admin2 Province_State  3/1/20  3/15/21  3/26/22  growth\n",
       "3168  53047.0  Okanogan     Washington       0       36      120      84\n",
       "3151  53013.0  Columbia     Washington       0        4       15      11\n",
       "3177  53063.0   Spokane     Washington       0      583     1352     769\n",
       "3167  53045.0     Mason     Washington       0       25      137     112\n",
       "3155  53021.0  Franklin     Washington       0      103      211     108"
      ]
     },
     "execution_count": 12,
     "metadata": {},
     "output_type": "execute_result"
    }
   ],
   "source": [
    "\n",
    "WA_deaths['growth'] = WA_deaths['3/26/22'] - WA_deaths['3/15/21']\n",
    "WA_deaths.sample(5)"
   ]
  },
  {
   "cell_type": "markdown",
   "metadata": {},
   "source": [
    "##### 3.\n",
    "There is a warning as the operation of adding a row \"growth\" was made directly on a partial view the orignial data. To avoid this warning, we can make a copy wity `.copy()` before modifying data."
   ]
  },
  {
   "cell_type": "code",
   "execution_count": 69,
   "metadata": {},
   "outputs": [
    {
     "data": {
      "text/plain": [
       "(41, 7)"
      ]
     },
     "execution_count": 69,
     "metadata": {},
     "output_type": "execute_result"
    }
   ],
   "source": [
    "WA_deaths = sub_covid[sub_covid.Province_State == 'Washington'].copy()\n",
    "WA_deaths['growth'] = WA_deaths['3/26/22'] - WA_deaths['3/15/21']\n",
    "WA_deaths.shape"
   ]
  },
  {
   "cell_type": "markdown",
   "metadata": {},
   "source": [
    "##### 4."
   ]
  },
  {
   "cell_type": "code",
   "execution_count": 51,
   "metadata": {},
   "outputs": [
    {
     "data": {
      "text/plain": [
       "pandas.core.series.Series"
      ]
     },
     "execution_count": 51,
     "metadata": {},
     "output_type": "execute_result"
    }
   ],
   "source": [
    "growth = WA_deaths[\"growth\"]\n",
    "type(growth)"
   ]
  },
  {
   "cell_type": "markdown",
   "metadata": {},
   "source": [
    "##### 5.\n",
    "The index is the line number of original U.S. covid data. And it is not a useful index. I think FIPS can be a better index as it is unique for every counties."
   ]
  },
  {
   "cell_type": "markdown",
   "metadata": {},
   "source": [
    "##### 6."
   ]
  },
  {
   "cell_type": "code",
   "execution_count": 56,
   "metadata": {},
   "outputs": [
    {
     "data": {
      "text/plain": [
       "FIPS\n",
       "53001.0     16\n",
       "53003.0     37\n",
       "53005.0    255\n",
       "53007.0     98\n",
       "53009.0    129\n",
       "Name: growth, dtype: int64"
      ]
     },
     "execution_count": 56,
     "metadata": {},
     "output_type": "execute_result"
    }
   ],
   "source": [
    "growth.index = WA_deaths['FIPS']\n",
    "growth.head(5)"
   ]
  },
  {
   "cell_type": "markdown",
   "metadata": {},
   "source": [
    "## 3  Data interpretation\n",
    "##### 1."
   ]
  },
  {
   "cell_type": "code",
   "execution_count": 142,
   "metadata": {},
   "outputs": [
    {
     "data": {
      "text/plain": [
       "(41,)"
      ]
     },
     "execution_count": 142,
     "metadata": {},
     "output_type": "execute_result"
    }
   ],
   "source": [
    "top = growth.sort_values()\n",
    "index = top.index\n",
    "index.shape"
   ]
  },
  {
   "cell_type": "code",
   "execution_count": 145,
   "metadata": {},
   "outputs": [
    {
     "data": {
      "text/plain": [
       "[      Admin2  growth\n",
       " 3162  Kitsap     245,\n",
       "       Admin2  growth\n",
       " 3147  Benton     255,\n",
       "        Admin2  growth\n",
       " 3152  Cowlitz     270,\n",
       "         Admin2  growth\n",
       " 3179  Thurston     322,\n",
       "       Admin2  growth\n",
       " 3185  Yakima     341,\n",
       "      Admin2  growth\n",
       " 3150  Clark     546,\n",
       "          Admin2  growth\n",
       " 3176  Snohomish     567,\n",
       "        Admin2  growth\n",
       " 3177  Spokane     769,\n",
       "       Admin2  growth\n",
       " 3172  Pierce     787,\n",
       "      Admin2  growth\n",
       " 3161   King    1215]"
      ]
     },
     "execution_count": 145,
     "metadata": {},
     "output_type": "execute_result"
    }
   ],
   "source": [
    "counties = []\n",
    "for i in index[31:]:\n",
    "    temp = WA_deaths[WA_deaths.FIPS == i][['Admin2','growth']]\n",
    "    counties.append(temp)\n",
    "\n",
    "counties"
   ]
  },
  {
   "cell_type": "markdown",
   "metadata": {},
   "source": [
    "The counties with top 10 deaths growth are King, Pierce, Spokane, Snohomish, Clark, Yakima, Thurston, Cowlitz, Benton, and Kitsap.\n",
    "\n",
    "##### 2.\n",
    "The efficacy of social distancing measures in Seattle did not work vary well, as King county has largest number of deaths growth."
   ]
  }
 ],
 "metadata": {
  "interpreter": {
   "hash": "ccd649bfdfaaea21a94379a95c2b5dc61b6e8d026fc1b7b85de9173592bc64ab"
  },
  "kernelspec": {
   "display_name": "Python 3.9.12 64-bit (windows store)",
   "language": "python",
   "name": "python3"
  },
  "language_info": {
   "codemirror_mode": {
    "name": "ipython",
    "version": 3
   },
   "file_extension": ".py",
   "mimetype": "text/x-python",
   "name": "python",
   "nbconvert_exporter": "python",
   "pygments_lexer": "ipython3",
   "version": "3.9.12"
  },
  "orig_nbformat": 4
 },
 "nbformat": 4,
 "nbformat_minor": 2
}
