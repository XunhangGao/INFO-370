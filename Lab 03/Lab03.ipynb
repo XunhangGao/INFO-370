{
 "cells": [
  {
   "cell_type": "code",
   "execution_count": 5,
   "id": "f1109db8-8732-4439-9f78-12e1dc410a2f",
   "metadata": {},
   "outputs": [],
   "source": [
    "import numpy as np\n",
    "import pandas as pd\n",
    "import matplotlib.pyplot as plt"
   ]
  },
  {
   "cell_type": "markdown",
   "id": "34064849-d710-4a80-8b66-6c14c585ca9d",
   "metadata": {},
   "source": [
    "#### 1.1\n",
    "I choose to flip two coins.\n",
    "#### 1.2\n",
    "| Trial | # of heads |\n",
    "| :----: | :--------: |\n",
    "| 1 | 2 |\n",
    "| 2 | 0 |\n",
    "| 3 | 2 |\n",
    "| 4 | 1 |\n",
    "| 5 | 1 |\n",
    "| 6 | 2 |\n",
    "| 7 | 0 |\n",
    "| 8 | 2 |\n",
    "| 9 | 1 |\n",
    "| 10 | 1 |\n",
    "| 11 | 1 |\n",
    "| 12 | 0 |\n",
    "| 13 | 1 |\n",
    "| 14 | 1 |\n",
    "| 15 | 0 |\n",
    "| 16 | 1 |\n",
    "| 17 | 1 |\n",
    "| 18 | 2 |\n",
    "| 19 | 0 |\n",
    "| 20 | 0 |\n",
    "#### 1.3\n",
    "| # of heads | # of trails |\n",
    "| :----: | :--------: |\n",
    "| 0 | 6 |\n",
    "| 1 | 9 |\n",
    "| 2 | 5 |\n",
    "#### 1.4\n",
    "| stat | value |\n",
    "| :----: | :--------: |\n",
    "| mean | 0.95 |\n",
    "| median | 1 |\n",
    "| mode | 1 |"
   ]
  },
  {
   "cell_type": "markdown",
   "id": "9f13cd00-48b1-4757-b9e3-4650bc605636",
   "metadata": {},
   "source": [
    "Mean is $$(0 \\times 6+9 \\times 1+2 \\times 5)/40 = 0.95$$, which on average 0.475 heads per trail. And as trail 10 and 11 both have 1 head, the median is 1 head per trail. Mode is the value that appears most frequently , which is 1 head per trail.\n",
    "#### 1.5\n",
    "Median is slightly larger than mean.\n",
    "#### 1.6\n",
    "$$\\sigma^2 = ((5 \\times (2)^2+9 \\times (1)^2)/20)-0.95^2 = 0.5475$$, which is the variance.\n",
    "#### 1.7\n",
    "Standard deviation is the square root of variance, wihch is $$\\sqrt{\\sigma^2} = 0.7399$$\n",
    "#### 1.8\n",
    "The 0.25th quantile is 1, and the (1-0.25)th quntile is also 1.\n",
    "#### 1.9"
   ]
  },
  {
   "cell_type": "code",
   "execution_count": 19,
   "id": "4399d4c1-7370-4788-9ed7-3b8d11a12ea5",
   "metadata": {},
   "outputs": [
    {
     "data": {
      "image/png": "[encoded data removed]",
      "text/plain": [
       "<Figure size 432x288 with 1 Axes>"
      ]
     },
     "metadata": {
      "needs_background": "light"
     },
     "output_type": "display_data"
    }
   ],
   "source": [
    "heads = [0,0,0,0,0,0,1,1,1,1,1,1,1,1,1,2,2,2,2,2]\n",
    "plt.hist(heads, bins = 3)\n",
    "plt.xlabel(\"num of heads\")\n",
    "plt.ylabel(\"num of trails\")\n",
    "plt.title(\"distribution of num of heads\")\n",
    "plt.show()"
   ]
  },
  {
   "cell_type": "markdown",
   "id": "782517a0-428e-4f9c-8153-16ea3f1563bd",
   "metadata": {},
   "source": [
    "The number looks almost symmetric, just slightly right skewed as 0 heads has more number of trails."
   ]
  },
  {
   "cell_type": "code",
   "execution_count": null,
   "id": "48dc5ee4-26f4-4c17-9841-31fed17c5739",
   "metadata": {},
   "outputs": [],
   "source": []
  }
 ],
 "metadata": {
  "kernelspec": {
   "display_name": "Python 3 (ipykernel)",
   "language": "python",
   "name": "python3"
  },
  "language_info": {
   "codemirror_mode": {
    "name": "ipython",
    "version": 3
   },
   "file_extension": ".py",
   "mimetype": "text/x-python",
   "name": "python",
   "nbconvert_exporter": "python",
   "pygments_lexer": "ipython3",
   "version": "3.9.7"
  }
 },
 "nbformat": 4,
 "nbformat_minor": 5
}
