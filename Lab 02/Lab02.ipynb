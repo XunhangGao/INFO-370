{
 "cells": [
  {
   "cell_type": "code",
   "execution_count": 1,
   "id": "d4b873c3-f0aa-4b98-9fc0-28888c383c7c",
   "metadata": {},
   "outputs": [],
   "source": [
    "import numpy as np\n",
    "import pandas as pd\n",
    "import matplotlib.pyplot as plt"
   ]
  },
  {
   "cell_type": "code",
   "execution_count": 2,
   "id": "f36d162b-3685-4ef2-8b96-c4446afe48b5",
   "metadata": {},
   "outputs": [
    {
     "name": "stderr",
     "output_type": "stream",
     "text": [
      "/opt/conda/lib/python3.9/site-packages/IPython/core/interactiveshell.py:3444: DtypeWarning: Columns (61,62) have mixed types.Specify dtype option on import or set low_memory=False.\n",
      "  exec(code_obj, self.user_global_ns, self.user_ns)\n"
     ]
    },
    {
     "data": {
      "text/html": [
       "<div>\n",
       "<style scoped>\n",
       "    .dataframe tbody tr th:only-of-type {\n",
       "        vertical-align: middle;\n",
       "    }\n",
       "\n",
       "    .dataframe tbody tr th {\n",
       "        vertical-align: top;\n",
       "    }\n",
       "\n",
       "    .dataframe thead th {\n",
       "        text-align: right;\n",
       "    }\n",
       "</style>\n",
       "<table border=\"1\" class=\"dataframe\">\n",
       "  <thead>\n",
       "    <tr style=\"text-align: right;\">\n",
       "      <th></th>\n",
       "      <th>id</th>\n",
       "      <th>listing_url</th>\n",
       "      <th>scrape_id</th>\n",
       "      <th>last_scraped</th>\n",
       "      <th>name</th>\n",
       "      <th>summary</th>\n",
       "      <th>space</th>\n",
       "      <th>description</th>\n",
       "      <th>experiences_offered</th>\n",
       "      <th>neighborhood_overview</th>\n",
       "      <th>...</th>\n",
       "      <th>instant_bookable</th>\n",
       "      <th>is_business_travel_ready</th>\n",
       "      <th>cancellation_policy</th>\n",
       "      <th>require_guest_profile_picture</th>\n",
       "      <th>require_guest_phone_verification</th>\n",
       "      <th>calculated_host_listings_count</th>\n",
       "      <th>calculated_host_listings_count_entire_homes</th>\n",
       "      <th>calculated_host_listings_count_private_rooms</th>\n",
       "      <th>calculated_host_listings_count_shared_rooms</th>\n",
       "      <th>reviews_per_month</th>\n",
       "    </tr>\n",
       "  </thead>\n",
       "  <tbody>\n",
       "    <tr>\n",
       "      <th>0</th>\n",
       "      <td>2318</td>\n",
       "      <td>https://www.airbnb.com/rooms/2318</td>\n",
       "      <td>20190922030624</td>\n",
       "      <td>2019-09-22</td>\n",
       "      <td>Casa Madrona - Urban Oasis 1 block from the park!</td>\n",
       "      <td>Gorgeous, architect remodeled, 1917 Dutch Colo...</td>\n",
       "      <td>Casa Madrona is a gorgeous, architect remodele...</td>\n",
       "      <td>Gorgeous, architect remodeled, 1917 Dutch Colo...</td>\n",
       "      <td>none</td>\n",
       "      <td>Madrona is a hidden gem of a neighborhood. It ...</td>\n",
       "      <td>...</td>\n",
       "      <td>f</td>\n",
       "      <td>f</td>\n",
       "      <td>strict_14_with_grace_period</td>\n",
       "      <td>f</td>\n",
       "      <td>f</td>\n",
       "      <td>2</td>\n",
       "      <td>2</td>\n",
       "      <td>0</td>\n",
       "      <td>0</td>\n",
       "      <td>0.21</td>\n",
       "    </tr>\n",
       "    <tr>\n",
       "      <th>1</th>\n",
       "      <td>5682</td>\n",
       "      <td>https://www.airbnb.com/rooms/5682</td>\n",
       "      <td>20190922030624</td>\n",
       "      <td>2019-09-22</td>\n",
       "      <td>Cozy Studio, min. to downtown -WiFi</td>\n",
       "      <td>The Cozy Studio is a perfect launchpad for you...</td>\n",
       "      <td>Hello fellow travelers, Save some money and ha...</td>\n",
       "      <td>The Cozy Studio is a perfect launchpad for you...</td>\n",
       "      <td>none</td>\n",
       "      <td>NaN</td>\n",
       "      <td>...</td>\n",
       "      <td>f</td>\n",
       "      <td>f</td>\n",
       "      <td>strict_14_with_grace_period</td>\n",
       "      <td>f</td>\n",
       "      <td>t</td>\n",
       "      <td>1</td>\n",
       "      <td>1</td>\n",
       "      <td>0</td>\n",
       "      <td>0</td>\n",
       "      <td>3.99</td>\n",
       "    </tr>\n",
       "    <tr>\n",
       "      <th>2</th>\n",
       "      <td>6606</td>\n",
       "      <td>https://www.airbnb.com/rooms/6606</td>\n",
       "      <td>20190922030624</td>\n",
       "      <td>2019-09-22</td>\n",
       "      <td>Fab, private seattle urban cottage!</td>\n",
       "      <td>This tiny cottage is only 15x10, but it has ev...</td>\n",
       "      <td>Soo centrally located, this is a little house ...</td>\n",
       "      <td>This tiny cottage is only 15x10, but it has ev...</td>\n",
       "      <td>none</td>\n",
       "      <td>A peaceful yet highly accessible neighborhood,...</td>\n",
       "      <td>...</td>\n",
       "      <td>f</td>\n",
       "      <td>f</td>\n",
       "      <td>strict_14_with_grace_period</td>\n",
       "      <td>f</td>\n",
       "      <td>f</td>\n",
       "      <td>3</td>\n",
       "      <td>3</td>\n",
       "      <td>0</td>\n",
       "      <td>0</td>\n",
       "      <td>1.19</td>\n",
       "    </tr>\n",
       "  </tbody>\n",
       "</table>\n",
       "<p>3 rows × 106 columns</p>\n",
       "</div>"
      ],
      "text/plain": [
       "     id                        listing_url       scrape_id last_scraped  \\\n",
       "0  2318  https://www.airbnb.com/rooms/2318  20190922030624   2019-09-22   \n",
       "1  5682  https://www.airbnb.com/rooms/5682  20190922030624   2019-09-22   \n",
       "2  6606  https://www.airbnb.com/rooms/6606  20190922030624   2019-09-22   \n",
       "\n",
       "                                                name  \\\n",
       "0  Casa Madrona - Urban Oasis 1 block from the park!   \n",
       "1                Cozy Studio, min. to downtown -WiFi   \n",
       "2                Fab, private seattle urban cottage!   \n",
       "\n",
       "                                             summary  \\\n",
       "0  Gorgeous, architect remodeled, 1917 Dutch Colo...   \n",
       "1  The Cozy Studio is a perfect launchpad for you...   \n",
       "2  This tiny cottage is only 15x10, but it has ev...   \n",
       "\n",
       "                                               space  \\\n",
       "0  Casa Madrona is a gorgeous, architect remodele...   \n",
       "1  Hello fellow travelers, Save some money and ha...   \n",
       "2  Soo centrally located, this is a little house ...   \n",
       "\n",
       "                                         description experiences_offered  \\\n",
       "0  Gorgeous, architect remodeled, 1917 Dutch Colo...                none   \n",
       "1  The Cozy Studio is a perfect launchpad for you...                none   \n",
       "2  This tiny cottage is only 15x10, but it has ev...                none   \n",
       "\n",
       "                               neighborhood_overview  ... instant_bookable  \\\n",
       "0  Madrona is a hidden gem of a neighborhood. It ...  ...                f   \n",
       "1                                                NaN  ...                f   \n",
       "2  A peaceful yet highly accessible neighborhood,...  ...                f   \n",
       "\n",
       "  is_business_travel_ready          cancellation_policy  \\\n",
       "0                        f  strict_14_with_grace_period   \n",
       "1                        f  strict_14_with_grace_period   \n",
       "2                        f  strict_14_with_grace_period   \n",
       "\n",
       "  require_guest_profile_picture require_guest_phone_verification  \\\n",
       "0                             f                                f   \n",
       "1                             f                                t   \n",
       "2                             f                                f   \n",
       "\n",
       "   calculated_host_listings_count  \\\n",
       "0                               2   \n",
       "1                               1   \n",
       "2                               3   \n",
       "\n",
       "   calculated_host_listings_count_entire_homes  \\\n",
       "0                                            2   \n",
       "1                                            1   \n",
       "2                                            3   \n",
       "\n",
       "  calculated_host_listings_count_private_rooms  \\\n",
       "0                                            0   \n",
       "1                                            0   \n",
       "2                                            0   \n",
       "\n",
       "   calculated_host_listings_count_shared_rooms  reviews_per_month  \n",
       "0                                            0               0.21  \n",
       "1                                            0               3.99  \n",
       "2                                            0               1.19  \n",
       "\n",
       "[3 rows x 106 columns]"
      ]
     },
     "execution_count": 2,
     "metadata": {},
     "output_type": "execute_result"
    }
   ],
   "source": [
    "# 1.1\n",
    "abs = pd.read_csv(r'airbnb-seattle-listings.csv', sep=',')\n",
    "abs.head(3)"
   ]
  },
  {
   "cell_type": "code",
   "execution_count": 3,
   "id": "bc980dec-bae5-4a98-912d-e03d54c4cfe4",
   "metadata": {},
   "outputs": [
    {
     "data": {
      "text/html": [
       "<div>\n",
       "<style scoped>\n",
       "    .dataframe tbody tr th:only-of-type {\n",
       "        vertical-align: middle;\n",
       "    }\n",
       "\n",
       "    .dataframe tbody tr th {\n",
       "        vertical-align: top;\n",
       "    }\n",
       "\n",
       "    .dataframe thead th {\n",
       "        text-align: right;\n",
       "    }\n",
       "</style>\n",
       "<table border=\"1\" class=\"dataframe\">\n",
       "  <thead>\n",
       "    <tr style=\"text-align: right;\">\n",
       "      <th></th>\n",
       "      <th>price</th>\n",
       "      <th>bedrooms</th>\n",
       "      <th>square_feet</th>\n",
       "      <th>name</th>\n",
       "    </tr>\n",
       "  </thead>\n",
       "  <tbody>\n",
       "    <tr>\n",
       "      <th>0</th>\n",
       "      <td>$296.00</td>\n",
       "      <td>4.0</td>\n",
       "      <td>NaN</td>\n",
       "      <td>Casa Madrona - Urban Oasis 1 block from the park!</td>\n",
       "    </tr>\n",
       "    <tr>\n",
       "      <th>1</th>\n",
       "      <td>$48.00</td>\n",
       "      <td>0.0</td>\n",
       "      <td>NaN</td>\n",
       "      <td>Cozy Studio, min. to downtown -WiFi</td>\n",
       "    </tr>\n",
       "    <tr>\n",
       "      <th>2</th>\n",
       "      <td>$90.00</td>\n",
       "      <td>1.0</td>\n",
       "      <td>NaN</td>\n",
       "      <td>Fab, private seattle urban cottage!</td>\n",
       "    </tr>\n",
       "  </tbody>\n",
       "</table>\n",
       "</div>"
      ],
      "text/plain": [
       "     price  bedrooms  square_feet  \\\n",
       "0  $296.00       4.0          NaN   \n",
       "1   $48.00       0.0          NaN   \n",
       "2   $90.00       1.0          NaN   \n",
       "\n",
       "                                                name  \n",
       "0  Casa Madrona - Urban Oasis 1 block from the park!  \n",
       "1                Cozy Studio, min. to downtown -WiFi  \n",
       "2                Fab, private seattle urban cottage!  "
      ]
     },
     "execution_count": 3,
     "metadata": {},
     "output_type": "execute_result"
    }
   ],
   "source": [
    "# 1.2\n",
    "abs2 = abs[[\"price\", \"bedrooms\", \"square_feet\", \"name\"]]\n",
    "abs2.head(3)"
   ]
  },
  {
   "cell_type": "markdown",
   "id": "e85cb4a6-51ed-48fc-8bc1-fd2b751d5d27",
   "metadata": {},
   "source": [
    "there are missing values in square feet variable."
   ]
  },
  {
   "cell_type": "code",
   "execution_count": 7,
   "id": "46387199-3a8a-48a2-a956-9b11d76773ca",
   "metadata": {},
   "outputs": [
    {
     "name": "stdout",
     "output_type": "stream",
     "text": [
      "rows: 9040 columns: 4\n"
     ]
    }
   ],
   "source": [
    "# 1.3\n",
    "# (a)\n",
    "rows,columns = abs2.shape\n",
    "print(\"rows:\", rows, \"columns:\", columns)"
   ]
  },
  {
   "cell_type": "code",
   "execution_count": 8,
   "id": "21295a14-66e3-42ee-be98-a275671a9f3d",
   "metadata": {},
   "outputs": [
    {
     "data": {
      "text/plain": [
       "price             0\n",
       "bedrooms          1\n",
       "square_feet    8633\n",
       "name              1\n",
       "dtype: int64"
      ]
     },
     "execution_count": 8,
     "metadata": {},
     "output_type": "execute_result"
    }
   ],
   "source": [
    "# (b)\n",
    "abs2.isna().sum()"
   ]
  },
  {
   "cell_type": "code",
   "execution_count": 9,
   "id": "29963198-e236-4a5e-8969-63dd3d3a697e",
   "metadata": {},
   "outputs": [
    {
     "data": {
      "text/plain": [
       "price           object\n",
       "bedrooms       float64\n",
       "square_feet    float64\n",
       "name            object\n",
       "dtype: object"
      ]
     },
     "execution_count": 9,
     "metadata": {},
     "output_type": "execute_result"
    }
   ],
   "source": [
    "# (c)\n",
    "abs2.dtypes"
   ]
  },
  {
   "cell_type": "code",
   "execution_count": null,
   "id": "ce255da2-4554-4bd4-8968-39910f40d2b9",
   "metadata": {},
   "outputs": [],
   "source": [
    "# 1.4"
   ]
  },
  {
   "cell_type": "markdown",
   "id": "f327cb5c-55e1-4817-8c50-873fce7b5752",
   "metadata": {},
   "source": [
    "We might need bed rooms and price variables for the analysis below, but data in price are in string type, not in numerical type. Thus unable to use directly."
   ]
  },
  {
   "cell_type": "code",
   "execution_count": 12,
   "id": "f8685c35-5a27-475c-88be-1e5f7ff4bf9f",
   "metadata": {},
   "outputs": [
    {
     "name": "stderr",
     "output_type": "stream",
     "text": [
      "/tmp/ipykernel_60/2274106693.py:2: FutureWarning: The default value of regex will change from True to False in a future version.\n",
      "  abs2[\"price_float\"] = abs2.price.str.replace(\"[$]\", \"\")\n",
      "/tmp/ipykernel_60/2274106693.py:2: SettingWithCopyWarning: \n",
      "A value is trying to be set on a copy of a slice from a DataFrame.\n",
      "Try using .loc[row_indexer,col_indexer] = value instead\n",
      "\n",
      "See the caveats in the documentation: https://pandas.pydata.org/pandas-docs/stable/user_guide/indexing.html#returning-a-view-versus-a-copy\n",
      "  abs2[\"price_float\"] = abs2.price.str.replace(\"[$]\", \"\")\n",
      "/tmp/ipykernel_60/2274106693.py:3: FutureWarning: The default value of regex will change from True to False in a future version.\n",
      "  abs2[\"price_float\"] = abs2.price_float.str.replace(\"[,]\", \"\").astype(float)\n",
      "/tmp/ipykernel_60/2274106693.py:3: SettingWithCopyWarning: \n",
      "A value is trying to be set on a copy of a slice from a DataFrame.\n",
      "Try using .loc[row_indexer,col_indexer] = value instead\n",
      "\n",
      "See the caveats in the documentation: https://pandas.pydata.org/pandas-docs/stable/user_guide/indexing.html#returning-a-view-versus-a-copy\n",
      "  abs2[\"price_float\"] = abs2.price_float.str.replace(\"[,]\", \"\").astype(float)\n"
     ]
    },
    {
     "data": {
      "text/plain": [
       "price           object\n",
       "bedrooms       float64\n",
       "square_feet    float64\n",
       "name            object\n",
       "price_float    float64\n",
       "dtype: object"
      ]
     },
     "execution_count": 12,
     "metadata": {},
     "output_type": "execute_result"
    }
   ],
   "source": [
    "# 2.1\n",
    "abs2[\"price_float\"] = abs2.price.str.replace(\"[$]\", \"\")\n",
    "abs2[\"price_float\"] = abs2.price_float.str.replace(\"[,]\", \"\").astype(float)\n",
    "abs2.dtypes"
   ]
  },
  {
   "cell_type": "code",
   "execution_count": 14,
   "id": "5a1732ec-064d-43d1-ac1f-17791fb50d7d",
   "metadata": {},
   "outputs": [
    {
     "data": {
      "text/html": [
       "<div>\n",
       "<style scoped>\n",
       "    .dataframe tbody tr th:only-of-type {\n",
       "        vertical-align: middle;\n",
       "    }\n",
       "\n",
       "    .dataframe tbody tr th {\n",
       "        vertical-align: top;\n",
       "    }\n",
       "\n",
       "    .dataframe thead th {\n",
       "        text-align: right;\n",
       "    }\n",
       "</style>\n",
       "<table border=\"1\" class=\"dataframe\">\n",
       "  <thead>\n",
       "    <tr style=\"text-align: right;\">\n",
       "      <th></th>\n",
       "      <th>price</th>\n",
       "      <th>bedrooms</th>\n",
       "      <th>square_feet</th>\n",
       "      <th>name</th>\n",
       "      <th>price_float</th>\n",
       "    </tr>\n",
       "  </thead>\n",
       "  <tbody>\n",
       "    <tr>\n",
       "      <th>4065</th>\n",
       "      <td>$47.00</td>\n",
       "      <td>1.0</td>\n",
       "      <td>NaN</td>\n",
       "      <td>Adorable Room near Light Rail Station</td>\n",
       "      <td>47.0</td>\n",
       "    </tr>\n",
       "    <tr>\n",
       "      <th>8707</th>\n",
       "      <td>$322.00</td>\n",
       "      <td>4.0</td>\n",
       "      <td>NaN</td>\n",
       "      <td>NEW LISTING! Spacious, family-friendly home w/...</td>\n",
       "      <td>322.0</td>\n",
       "    </tr>\n",
       "    <tr>\n",
       "      <th>413</th>\n",
       "      <td>$63.00</td>\n",
       "      <td>1.0</td>\n",
       "      <td>NaN</td>\n",
       "      <td>Bungalow in beautiful Fremont</td>\n",
       "      <td>63.0</td>\n",
       "    </tr>\n",
       "    <tr>\n",
       "      <th>76</th>\n",
       "      <td>$85.00</td>\n",
       "      <td>1.0</td>\n",
       "      <td>500.0</td>\n",
       "      <td>Phinney Oasis-Ballard/Phinney</td>\n",
       "      <td>85.0</td>\n",
       "    </tr>\n",
       "    <tr>\n",
       "      <th>5515</th>\n",
       "      <td>$95.00</td>\n",
       "      <td>1.0</td>\n",
       "      <td>NaN</td>\n",
       "      <td>Quiet convenient W. Seattle home w/private bal...</td>\n",
       "      <td>95.0</td>\n",
       "    </tr>\n",
       "    <tr>\n",
       "      <th>1811</th>\n",
       "      <td>$65.00</td>\n",
       "      <td>0.0</td>\n",
       "      <td>NaN</td>\n",
       "      <td>Private Cozy Place in Chinatown</td>\n",
       "      <td>65.0</td>\n",
       "    </tr>\n",
       "    <tr>\n",
       "      <th>8640</th>\n",
       "      <td>$30.00</td>\n",
       "      <td>1.0</td>\n",
       "      <td>NaN</td>\n",
       "      <td>Urban one bedroom with easy access to DT Seattle</td>\n",
       "      <td>30.0</td>\n",
       "    </tr>\n",
       "    <tr>\n",
       "      <th>5131</th>\n",
       "      <td>$117.00</td>\n",
       "      <td>2.0</td>\n",
       "      <td>NaN</td>\n",
       "      <td>Bright 2BR w/ Private Rooftop Patio</td>\n",
       "      <td>117.0</td>\n",
       "    </tr>\n",
       "    <tr>\n",
       "      <th>7844</th>\n",
       "      <td>$148.00</td>\n",
       "      <td>1.0</td>\n",
       "      <td>NaN</td>\n",
       "      <td>Stylus Modern unit on Capital Hill near Chinatown</td>\n",
       "      <td>148.0</td>\n",
       "    </tr>\n",
       "    <tr>\n",
       "      <th>1753</th>\n",
       "      <td>$50.00</td>\n",
       "      <td>1.0</td>\n",
       "      <td>NaN</td>\n",
       "      <td>Quiet &amp; Close: Capitol Hill Charm</td>\n",
       "      <td>50.0</td>\n",
       "    </tr>\n",
       "  </tbody>\n",
       "</table>\n",
       "</div>"
      ],
      "text/plain": [
       "        price  bedrooms  square_feet  \\\n",
       "4065   $47.00       1.0          NaN   \n",
       "8707  $322.00       4.0          NaN   \n",
       "413    $63.00       1.0          NaN   \n",
       "76     $85.00       1.0        500.0   \n",
       "5515   $95.00       1.0          NaN   \n",
       "1811   $65.00       0.0          NaN   \n",
       "8640   $30.00       1.0          NaN   \n",
       "5131  $117.00       2.0          NaN   \n",
       "7844  $148.00       1.0          NaN   \n",
       "1753   $50.00       1.0          NaN   \n",
       "\n",
       "                                                   name  price_float  \n",
       "4065              Adorable Room near Light Rail Station         47.0  \n",
       "8707  NEW LISTING! Spacious, family-friendly home w/...        322.0  \n",
       "413                       Bungalow in beautiful Fremont         63.0  \n",
       "76                        Phinney Oasis-Ballard/Phinney         85.0  \n",
       "5515  Quiet convenient W. Seattle home w/private bal...         95.0  \n",
       "1811                    Private Cozy Place in Chinatown         65.0  \n",
       "8640   Urban one bedroom with easy access to DT Seattle         30.0  \n",
       "5131                Bright 2BR w/ Private Rooftop Patio        117.0  \n",
       "7844  Stylus Modern unit on Capital Hill near Chinatown        148.0  \n",
       "1753                  Quiet & Close: Capitol Hill Charm         50.0  "
      ]
     },
     "execution_count": 14,
     "metadata": {},
     "output_type": "execute_result"
    }
   ],
   "source": [
    "abs2.sample(10)"
   ]
  },
  {
   "cell_type": "code",
   "execution_count": 11,
   "id": "b9a565c0-03f4-486a-9bfc-cfd42bf3a2cf",
   "metadata": {},
   "outputs": [
    {
     "data": {
      "text/html": [
       "<div>\n",
       "<style scoped>\n",
       "    .dataframe tbody tr th:only-of-type {\n",
       "        vertical-align: middle;\n",
       "    }\n",
       "\n",
       "    .dataframe tbody tr th {\n",
       "        vertical-align: top;\n",
       "    }\n",
       "\n",
       "    .dataframe thead th {\n",
       "        text-align: right;\n",
       "    }\n",
       "</style>\n",
       "<table border=\"1\" class=\"dataframe\">\n",
       "  <thead>\n",
       "    <tr style=\"text-align: right;\">\n",
       "      <th></th>\n",
       "      <th>bedrooms</th>\n",
       "      <th>square_feet</th>\n",
       "      <th>price_float</th>\n",
       "    </tr>\n",
       "  </thead>\n",
       "  <tbody>\n",
       "    <tr>\n",
       "      <th>count</th>\n",
       "      <td>9039.000000</td>\n",
       "      <td>407.000000</td>\n",
       "      <td>9040.000000</td>\n",
       "    </tr>\n",
       "    <tr>\n",
       "      <th>mean</th>\n",
       "      <td>1.372497</td>\n",
       "      <td>696.980344</td>\n",
       "      <td>169.111283</td>\n",
       "    </tr>\n",
       "    <tr>\n",
       "      <th>std</th>\n",
       "      <td>1.016505</td>\n",
       "      <td>330.843220</td>\n",
       "      <td>191.104568</td>\n",
       "    </tr>\n",
       "    <tr>\n",
       "      <th>min</th>\n",
       "      <td>0.000000</td>\n",
       "      <td>0.000000</td>\n",
       "      <td>0.000000</td>\n",
       "    </tr>\n",
       "    <tr>\n",
       "      <th>25%</th>\n",
       "      <td>1.000000</td>\n",
       "      <td>600.000000</td>\n",
       "      <td>82.000000</td>\n",
       "    </tr>\n",
       "    <tr>\n",
       "      <th>50%</th>\n",
       "      <td>1.000000</td>\n",
       "      <td>600.000000</td>\n",
       "      <td>120.000000</td>\n",
       "    </tr>\n",
       "    <tr>\n",
       "      <th>75%</th>\n",
       "      <td>2.000000</td>\n",
       "      <td>975.000000</td>\n",
       "      <td>189.000000</td>\n",
       "    </tr>\n",
       "    <tr>\n",
       "      <th>max</th>\n",
       "      <td>8.000000</td>\n",
       "      <td>2750.000000</td>\n",
       "      <td>5400.000000</td>\n",
       "    </tr>\n",
       "  </tbody>\n",
       "</table>\n",
       "</div>"
      ],
      "text/plain": [
       "          bedrooms  square_feet  price_float\n",
       "count  9039.000000   407.000000  9040.000000\n",
       "mean      1.372497   696.980344   169.111283\n",
       "std       1.016505   330.843220   191.104568\n",
       "min       0.000000     0.000000     0.000000\n",
       "25%       1.000000   600.000000    82.000000\n",
       "50%       1.000000   600.000000   120.000000\n",
       "75%       2.000000   975.000000   189.000000\n",
       "max       8.000000  2750.000000  5400.000000"
      ]
     },
     "execution_count": 11,
     "metadata": {},
     "output_type": "execute_result"
    }
   ],
   "source": [
    "# 2.2\n",
    "abs2.describe()"
   ]
  },
  {
   "cell_type": "code",
   "execution_count": 12,
   "id": "6286f0ec-0a90-4c49-b7e1-3ec8306d3638",
   "metadata": {},
   "outputs": [
    {
     "data": {
      "text/html": [
       "<div>\n",
       "<style scoped>\n",
       "    .dataframe tbody tr th:only-of-type {\n",
       "        vertical-align: middle;\n",
       "    }\n",
       "\n",
       "    .dataframe tbody tr th {\n",
       "        vertical-align: top;\n",
       "    }\n",
       "\n",
       "    .dataframe thead th {\n",
       "        text-align: right;\n",
       "    }\n",
       "</style>\n",
       "<table border=\"1\" class=\"dataframe\">\n",
       "  <thead>\n",
       "    <tr style=\"text-align: right;\">\n",
       "      <th></th>\n",
       "      <th>price_float</th>\n",
       "      <th>bedrooms</th>\n",
       "    </tr>\n",
       "  </thead>\n",
       "  <tbody>\n",
       "    <tr>\n",
       "      <th>amin</th>\n",
       "      <td>0.000000</td>\n",
       "      <td>0.000000</td>\n",
       "    </tr>\n",
       "    <tr>\n",
       "      <th>amax</th>\n",
       "      <td>5400.000000</td>\n",
       "      <td>8.000000</td>\n",
       "    </tr>\n",
       "    <tr>\n",
       "      <th>mean</th>\n",
       "      <td>169.111283</td>\n",
       "      <td>1.372497</td>\n",
       "    </tr>\n",
       "  </tbody>\n",
       "</table>\n",
       "</div>"
      ],
      "text/plain": [
       "      price_float  bedrooms\n",
       "amin     0.000000  0.000000\n",
       "amax  5400.000000  8.000000\n",
       "mean   169.111283  1.372497"
      ]
     },
     "execution_count": 12,
     "metadata": {},
     "output_type": "execute_result"
    }
   ],
   "source": [
    "abs2[[\"price_float\", \"bedrooms\"]].apply({np.min, np.mean, np.max})"
   ]
  },
  {
   "cell_type": "markdown",
   "id": "e7dfe07c-1fa5-4a6b-9442-462304232635",
   "metadata": {},
   "source": [
    "These values looks reasonable, as 0 rooms corresponds to 0 price, one room is approximately $169, and price for 8 rooms is approximately 8 times mean price."
   ]
  },
  {
   "cell_type": "code",
   "execution_count": 15,
   "id": "2708bd05-cdb3-4aef-b2cd-309117e32f1b",
   "metadata": {},
   "outputs": [
    {
     "data": {
      "text/plain": [
       "bedrooms\n",
       "0.0     138.720513\n",
       "1.0     137.566427\n",
       "2.0     196.175399\n",
       "3.0     253.063361\n",
       "4.0     331.437956\n",
       "5.0     496.566265\n",
       "6.0     526.157895\n",
       "7.0     570.636364\n",
       "8.0    1150.000000\n",
       "Name: price_float, dtype: float64"
      ]
     },
     "execution_count": 15,
     "metadata": {},
     "output_type": "execute_result"
    }
   ],
   "source": [
    "# 3.1\n",
    "temp1 = abs2.groupby([\"bedrooms\"]).price_float.mean()\n",
    "temp1.head(10)"
   ]
  },
  {
   "cell_type": "code",
   "execution_count": 17,
   "id": "5c387a57-ab1f-46f6-a6e6-8bc5ba11eeba",
   "metadata": {},
   "outputs": [
    {
     "data": {
      "text/plain": [
       "Float64Index([0.0, 1.0, 2.0, 3.0, 4.0, 5.0, 6.0, 7.0, 8.0], dtype='float64', name='bedrooms')"
      ]
     },
     "execution_count": 17,
     "metadata": {},
     "output_type": "execute_result"
    }
   ],
   "source": [
    "temp1.index"
   ]
  },
  {
   "cell_type": "markdown",
   "id": "1152129f-bd15-4b43-92bf-6135f3a51716",
   "metadata": {},
   "source": [
    "Basically, the price increases as the number of bedrooms increases."
   ]
  },
  {
   "cell_type": "code",
   "execution_count": 18,
   "id": "8e44aeaa-48e2-476b-b184-453c9a4a817d",
   "metadata": {
    "tags": []
   },
   "outputs": [
    {
     "data": {
      "image/png": "[encoded data removed]",
      "text/plain": [
       "<Figure size 432x288 with 1 Axes>"
      ]
     },
     "metadata": {
      "needs_background": "light"
     },
     "output_type": "display_data"
    }
   ],
   "source": [
    "# 3.2\n",
    "temp = abs2.groupby([\"bedrooms\"]).price_float.mean()\n",
    "_ = plt.bar(temp.index, temp.values, edgecolor = \"black\", alpha = 0.5)\n",
    "_ = plt.xlabel(\"bedrooms\")\n",
    "_ = plt.ylabel(\"avg_cost\")\n",
    "_ = plt.show()"
   ]
  },
  {
   "cell_type": "markdown",
   "id": "f0a931db-77f1-498d-94d6-b6b9b4850b00",
   "metadata": {},
   "source": [
    "The average cost grows as the number of rooms increases."
   ]
  },
  {
   "cell_type": "code",
   "execution_count": null,
   "id": "43827ba2-4544-4283-88d5-ba1b55d818ef",
   "metadata": {},
   "outputs": [],
   "source": []
  }
 ],
 "metadata": {
  "kernelspec": {
   "display_name": "Python 3 (ipykernel)",
   "language": "python",
   "name": "python3"
  },
  "language_info": {
   "codemirror_mode": {
    "name": "ipython",
    "version": 3
   },
   "file_extension": ".py",
   "mimetype": "text/x-python",
   "name": "python",
   "nbconvert_exporter": "python",
   "pygments_lexer": "ipython3",
   "version": "3.9.7"
  }
 },
 "nbformat": 4,
 "nbformat_minor": 5
}
