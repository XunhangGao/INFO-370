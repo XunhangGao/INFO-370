{
 "cells": [
  {
   "cell_type": "code",
   "execution_count": 1,
   "id": "7937813b-7bc8-4193-a7e4-55e199903b54",
   "metadata": {},
   "outputs": [],
   "source": [
    "import numpy as np\n",
    "import pandas as pd\n",
    "import matplotlib.pyplot as plt\n",
    "import seaborn as sns\n",
    "import statsmodels.formula.api as smf"
   ]
  },
  {
   "cell_type": "markdown",
   "id": "8d34591c-a531-424c-967c-213f82739b9d",
   "metadata": {},
   "source": [
    "# PS 08\n",
    "David Gao\n",
    "## 1 Is COMPAS fair?\n",
    "#### 1.1 "
   ]
  },
  {
   "cell_type": "code",
   "execution_count": 2,
   "id": "ca457b8a-b0e7-49da-af6a-8a0bd323c8af",
   "metadata": {},
   "outputs": [
    {
     "data": {
      "text/html": [
       "<div>\n",
       "<style scoped>\n",
       "    .dataframe tbody tr th:only-of-type {\n",
       "        vertical-align: middle;\n",
       "    }\n",
       "\n",
       "    .dataframe tbody tr th {\n",
       "        vertical-align: top;\n",
       "    }\n",
       "\n",
       "    .dataframe thead th {\n",
       "        text-align: right;\n",
       "    }\n",
       "</style>\n",
       "<table border=\"1\" class=\"dataframe\">\n",
       "  <thead>\n",
       "    <tr style=\"text-align: right;\">\n",
       "      <th></th>\n",
       "      <th>age</th>\n",
       "      <th>c_charge_degree</th>\n",
       "      <th>race</th>\n",
       "      <th>age_cat</th>\n",
       "      <th>sex</th>\n",
       "      <th>priors_count</th>\n",
       "      <th>decile_score</th>\n",
       "      <th>two_year_recid</th>\n",
       "    </tr>\n",
       "  </thead>\n",
       "  <tbody>\n",
       "    <tr>\n",
       "      <th>0</th>\n",
       "      <td>69</td>\n",
       "      <td>F</td>\n",
       "      <td>Other</td>\n",
       "      <td>Greater than 45</td>\n",
       "      <td>Male</td>\n",
       "      <td>0</td>\n",
       "      <td>1</td>\n",
       "      <td>0</td>\n",
       "    </tr>\n",
       "    <tr>\n",
       "      <th>1</th>\n",
       "      <td>34</td>\n",
       "      <td>F</td>\n",
       "      <td>African-American</td>\n",
       "      <td>25 - 45</td>\n",
       "      <td>Male</td>\n",
       "      <td>0</td>\n",
       "      <td>3</td>\n",
       "      <td>1</td>\n",
       "    </tr>\n",
       "    <tr>\n",
       "      <th>2</th>\n",
       "      <td>24</td>\n",
       "      <td>F</td>\n",
       "      <td>African-American</td>\n",
       "      <td>Less than 25</td>\n",
       "      <td>Male</td>\n",
       "      <td>4</td>\n",
       "      <td>4</td>\n",
       "      <td>1</td>\n",
       "    </tr>\n",
       "    <tr>\n",
       "      <th>3</th>\n",
       "      <td>44</td>\n",
       "      <td>M</td>\n",
       "      <td>Other</td>\n",
       "      <td>25 - 45</td>\n",
       "      <td>Male</td>\n",
       "      <td>0</td>\n",
       "      <td>1</td>\n",
       "      <td>0</td>\n",
       "    </tr>\n",
       "    <tr>\n",
       "      <th>4</th>\n",
       "      <td>41</td>\n",
       "      <td>F</td>\n",
       "      <td>Caucasian</td>\n",
       "      <td>25 - 45</td>\n",
       "      <td>Male</td>\n",
       "      <td>14</td>\n",
       "      <td>6</td>\n",
       "      <td>1</td>\n",
       "    </tr>\n",
       "  </tbody>\n",
       "</table>\n",
       "</div>"
      ],
      "text/plain": [
       "   age c_charge_degree              race          age_cat   sex  priors_count  \\\n",
       "0   69               F             Other  Greater than 45  Male             0   \n",
       "1   34               F  African-American          25 - 45  Male             0   \n",
       "2   24               F  African-American     Less than 25  Male             4   \n",
       "3   44               M             Other          25 - 45  Male             0   \n",
       "4   41               F         Caucasian          25 - 45  Male            14   \n",
       "\n",
       "   decile_score  two_year_recid  \n",
       "0             1               0  \n",
       "1             3               1  \n",
       "2             4               1  \n",
       "3             1               0  \n",
       "4             6               1  "
      ]
     },
     "execution_count": 2,
     "metadata": {},
     "output_type": "execute_result"
    }
   ],
   "source": [
    "compas = pd.read_csv(r\"compas-score-data.csv\", sep=\"\\t\")\n",
    "compas.head(5)"
   ]
  },
  {
   "cell_type": "code",
   "execution_count": 3,
   "id": "ed5ef535-4c8e-47fd-83af-515c1693e6b0",
   "metadata": {},
   "outputs": [
    {
     "data": {
      "text/plain": [
       "age                0\n",
       "c_charge_degree    0\n",
       "race               0\n",
       "age_cat            0\n",
       "sex                0\n",
       "priors_count       0\n",
       "decile_score       0\n",
       "two_year_recid     0\n",
       "dtype: int64"
      ]
     },
     "execution_count": 3,
     "metadata": {},
     "output_type": "execute_result"
    }
   ],
   "source": [
    "compas.isna().sum()"
   ]
  },
  {
   "cell_type": "code",
   "execution_count": 4,
   "id": "7e8493e4-75b3-4520-8c06-210f40ba5a5b",
   "metadata": {},
   "outputs": [
    {
     "data": {
      "text/html": [
       "<div>\n",
       "<style scoped>\n",
       "    .dataframe tbody tr th:only-of-type {\n",
       "        vertical-align: middle;\n",
       "    }\n",
       "\n",
       "    .dataframe tbody tr th {\n",
       "        vertical-align: top;\n",
       "    }\n",
       "\n",
       "    .dataframe thead th {\n",
       "        text-align: right;\n",
       "    }\n",
       "</style>\n",
       "<table border=\"1\" class=\"dataframe\">\n",
       "  <thead>\n",
       "    <tr style=\"text-align: right;\">\n",
       "      <th></th>\n",
       "      <th>age</th>\n",
       "      <th>priors_count</th>\n",
       "      <th>decile_score</th>\n",
       "      <th>two_year_recid</th>\n",
       "    </tr>\n",
       "  </thead>\n",
       "  <tbody>\n",
       "    <tr>\n",
       "      <th>count</th>\n",
       "      <td>6172.000000</td>\n",
       "      <td>6172.000000</td>\n",
       "      <td>6172.000000</td>\n",
       "      <td>6172.000000</td>\n",
       "    </tr>\n",
       "    <tr>\n",
       "      <th>mean</th>\n",
       "      <td>34.534511</td>\n",
       "      <td>3.246436</td>\n",
       "      <td>4.418503</td>\n",
       "      <td>0.455120</td>\n",
       "    </tr>\n",
       "    <tr>\n",
       "      <th>std</th>\n",
       "      <td>11.730938</td>\n",
       "      <td>4.743770</td>\n",
       "      <td>2.839463</td>\n",
       "      <td>0.498022</td>\n",
       "    </tr>\n",
       "    <tr>\n",
       "      <th>min</th>\n",
       "      <td>18.000000</td>\n",
       "      <td>0.000000</td>\n",
       "      <td>1.000000</td>\n",
       "      <td>0.000000</td>\n",
       "    </tr>\n",
       "    <tr>\n",
       "      <th>25%</th>\n",
       "      <td>25.000000</td>\n",
       "      <td>0.000000</td>\n",
       "      <td>2.000000</td>\n",
       "      <td>0.000000</td>\n",
       "    </tr>\n",
       "    <tr>\n",
       "      <th>50%</th>\n",
       "      <td>31.000000</td>\n",
       "      <td>1.000000</td>\n",
       "      <td>4.000000</td>\n",
       "      <td>0.000000</td>\n",
       "    </tr>\n",
       "    <tr>\n",
       "      <th>75%</th>\n",
       "      <td>42.000000</td>\n",
       "      <td>4.000000</td>\n",
       "      <td>7.000000</td>\n",
       "      <td>1.000000</td>\n",
       "    </tr>\n",
       "    <tr>\n",
       "      <th>max</th>\n",
       "      <td>96.000000</td>\n",
       "      <td>38.000000</td>\n",
       "      <td>10.000000</td>\n",
       "      <td>1.000000</td>\n",
       "    </tr>\n",
       "  </tbody>\n",
       "</table>\n",
       "</div>"
      ],
      "text/plain": [
       "               age  priors_count  decile_score  two_year_recid\n",
       "count  6172.000000   6172.000000   6172.000000     6172.000000\n",
       "mean     34.534511      3.246436      4.418503        0.455120\n",
       "std      11.730938      4.743770      2.839463        0.498022\n",
       "min      18.000000      0.000000      1.000000        0.000000\n",
       "25%      25.000000      0.000000      2.000000        0.000000\n",
       "50%      31.000000      1.000000      4.000000        0.000000\n",
       "75%      42.000000      4.000000      7.000000        1.000000\n",
       "max      96.000000     38.000000     10.000000        1.000000"
      ]
     },
     "execution_count": 4,
     "metadata": {},
     "output_type": "execute_result"
    }
   ],
   "source": [
    "compas.describe()"
   ]
  },
  {
   "cell_type": "markdown",
   "id": "1a1bdff3-ec87-4e58-a46f-567e30974ed9",
   "metadata": {},
   "source": [
    "#### 1.2"
   ]
  },
  {
   "cell_type": "code",
   "execution_count": 5,
   "id": "89366b39-be40-43a3-9cae-5894bb865228",
   "metadata": {},
   "outputs": [
    {
     "data": {
      "text/html": [
       "<div>\n",
       "<style scoped>\n",
       "    .dataframe tbody tr th:only-of-type {\n",
       "        vertical-align: middle;\n",
       "    }\n",
       "\n",
       "    .dataframe tbody tr th {\n",
       "        vertical-align: top;\n",
       "    }\n",
       "\n",
       "    .dataframe thead th {\n",
       "        text-align: right;\n",
       "    }\n",
       "</style>\n",
       "<table border=\"1\" class=\"dataframe\">\n",
       "  <thead>\n",
       "    <tr style=\"text-align: right;\">\n",
       "      <th></th>\n",
       "      <th>age</th>\n",
       "      <th>c_charge_degree</th>\n",
       "      <th>race</th>\n",
       "      <th>age_cat</th>\n",
       "      <th>sex</th>\n",
       "      <th>priors_count</th>\n",
       "      <th>decile_score</th>\n",
       "      <th>two_year_recid</th>\n",
       "    </tr>\n",
       "  </thead>\n",
       "  <tbody>\n",
       "    <tr>\n",
       "      <th>3073</th>\n",
       "      <td>33</td>\n",
       "      <td>F</td>\n",
       "      <td>African-American</td>\n",
       "      <td>25 - 45</td>\n",
       "      <td>Male</td>\n",
       "      <td>3</td>\n",
       "      <td>5</td>\n",
       "      <td>1</td>\n",
       "    </tr>\n",
       "    <tr>\n",
       "      <th>3084</th>\n",
       "      <td>40</td>\n",
       "      <td>M</td>\n",
       "      <td>African-American</td>\n",
       "      <td>25 - 45</td>\n",
       "      <td>Male</td>\n",
       "      <td>0</td>\n",
       "      <td>1</td>\n",
       "      <td>0</td>\n",
       "    </tr>\n",
       "    <tr>\n",
       "      <th>3574</th>\n",
       "      <td>29</td>\n",
       "      <td>F</td>\n",
       "      <td>Caucasian</td>\n",
       "      <td>25 - 45</td>\n",
       "      <td>Female</td>\n",
       "      <td>6</td>\n",
       "      <td>7</td>\n",
       "      <td>1</td>\n",
       "    </tr>\n",
       "    <tr>\n",
       "      <th>5225</th>\n",
       "      <td>61</td>\n",
       "      <td>M</td>\n",
       "      <td>African-American</td>\n",
       "      <td>Greater than 45</td>\n",
       "      <td>Male</td>\n",
       "      <td>2</td>\n",
       "      <td>8</td>\n",
       "      <td>0</td>\n",
       "    </tr>\n",
       "    <tr>\n",
       "      <th>1946</th>\n",
       "      <td>53</td>\n",
       "      <td>M</td>\n",
       "      <td>African-American</td>\n",
       "      <td>Greater than 45</td>\n",
       "      <td>Male</td>\n",
       "      <td>1</td>\n",
       "      <td>2</td>\n",
       "      <td>0</td>\n",
       "    </tr>\n",
       "  </tbody>\n",
       "</table>\n",
       "</div>"
      ],
      "text/plain": [
       "      age c_charge_degree              race          age_cat     sex  \\\n",
       "3073   33               F  African-American          25 - 45    Male   \n",
       "3084   40               M  African-American          25 - 45    Male   \n",
       "3574   29               F         Caucasian          25 - 45  Female   \n",
       "5225   61               M  African-American  Greater than 45    Male   \n",
       "1946   53               M  African-American  Greater than 45    Male   \n",
       "\n",
       "      priors_count  decile_score  two_year_recid  \n",
       "3073             3             5               1  \n",
       "3084             0             1               0  \n",
       "3574             6             7               1  \n",
       "5225             2             8               0  \n",
       "1946             1             2               0  "
      ]
     },
     "execution_count": 5,
     "metadata": {},
     "output_type": "execute_result"
    }
   ],
   "source": [
    "temp = compas[(compas.race == \"Caucasian\") | (compas.race == \"African-American\")].copy()\n",
    "temp.sample(5)"
   ]
  },
  {
   "cell_type": "markdown",
   "id": "c934724e-e70f-496b-ba71-91926bf02338",
   "metadata": {},
   "source": [
    "#### 1.3"
   ]
  },
  {
   "cell_type": "code",
   "execution_count": 6,
   "id": "55dea637-0bb1-40d8-9fe9-e5096b778773",
   "metadata": {},
   "outputs": [
    {
     "data": {
      "text/html": [
       "<div>\n",
       "<style scoped>\n",
       "    .dataframe tbody tr th:only-of-type {\n",
       "        vertical-align: middle;\n",
       "    }\n",
       "\n",
       "    .dataframe tbody tr th {\n",
       "        vertical-align: top;\n",
       "    }\n",
       "\n",
       "    .dataframe thead th {\n",
       "        text-align: right;\n",
       "    }\n",
       "</style>\n",
       "<table border=\"1\" class=\"dataframe\">\n",
       "  <thead>\n",
       "    <tr style=\"text-align: right;\">\n",
       "      <th></th>\n",
       "      <th>age</th>\n",
       "      <th>c_charge_degree</th>\n",
       "      <th>race</th>\n",
       "      <th>age_cat</th>\n",
       "      <th>sex</th>\n",
       "      <th>priors_count</th>\n",
       "      <th>decile_score</th>\n",
       "      <th>two_year_recid</th>\n",
       "      <th>high_score</th>\n",
       "    </tr>\n",
       "  </thead>\n",
       "  <tbody>\n",
       "    <tr>\n",
       "      <th>5388</th>\n",
       "      <td>18</td>\n",
       "      <td>F</td>\n",
       "      <td>African-American</td>\n",
       "      <td>Less than 25</td>\n",
       "      <td>Male</td>\n",
       "      <td>4</td>\n",
       "      <td>5</td>\n",
       "      <td>1</td>\n",
       "      <td>1</td>\n",
       "    </tr>\n",
       "    <tr>\n",
       "      <th>5961</th>\n",
       "      <td>33</td>\n",
       "      <td>F</td>\n",
       "      <td>Caucasian</td>\n",
       "      <td>25 - 45</td>\n",
       "      <td>Male</td>\n",
       "      <td>2</td>\n",
       "      <td>4</td>\n",
       "      <td>0</td>\n",
       "      <td>0</td>\n",
       "    </tr>\n",
       "    <tr>\n",
       "      <th>2565</th>\n",
       "      <td>52</td>\n",
       "      <td>M</td>\n",
       "      <td>African-American</td>\n",
       "      <td>Greater than 45</td>\n",
       "      <td>Male</td>\n",
       "      <td>0</td>\n",
       "      <td>1</td>\n",
       "      <td>1</td>\n",
       "      <td>0</td>\n",
       "    </tr>\n",
       "    <tr>\n",
       "      <th>4765</th>\n",
       "      <td>25</td>\n",
       "      <td>F</td>\n",
       "      <td>African-American</td>\n",
       "      <td>25 - 45</td>\n",
       "      <td>Male</td>\n",
       "      <td>2</td>\n",
       "      <td>4</td>\n",
       "      <td>0</td>\n",
       "      <td>0</td>\n",
       "    </tr>\n",
       "    <tr>\n",
       "      <th>1273</th>\n",
       "      <td>40</td>\n",
       "      <td>F</td>\n",
       "      <td>Caucasian</td>\n",
       "      <td>25 - 45</td>\n",
       "      <td>Male</td>\n",
       "      <td>0</td>\n",
       "      <td>2</td>\n",
       "      <td>0</td>\n",
       "      <td>0</td>\n",
       "    </tr>\n",
       "  </tbody>\n",
       "</table>\n",
       "</div>"
      ],
      "text/plain": [
       "      age c_charge_degree              race          age_cat   sex  \\\n",
       "5388   18               F  African-American     Less than 25  Male   \n",
       "5961   33               F         Caucasian          25 - 45  Male   \n",
       "2565   52               M  African-American  Greater than 45  Male   \n",
       "4765   25               F  African-American          25 - 45  Male   \n",
       "1273   40               F         Caucasian          25 - 45  Male   \n",
       "\n",
       "      priors_count  decile_score  two_year_recid high_score  \n",
       "5388             4             5               1          1  \n",
       "5961             2             4               0          0  \n",
       "2565             0             1               1          0  \n",
       "4765             2             4               0          0  \n",
       "1273             0             2               0          0  "
      ]
     },
     "execution_count": 6,
     "metadata": {},
     "output_type": "execute_result"
    }
   ],
   "source": [
    "# high score variable: \"0\" for low score 1 to 4, and \"1\" for high score 5 to 10\n",
    "temp[\"high_score\"] = pd.cut(temp.decile_score,\n",
    "                                      bins = [ 1, 5, 11], \n",
    "                                      labels = [0, 1],\n",
    "                                      right = False)\n",
    "temp.sample(5)"
   ]
  },
  {
   "cell_type": "markdown",
   "id": "7b27c5aa-eee5-473f-abbd-04d75524e212",
   "metadata": {},
   "source": [
    "#### 1.4\n",
    "#### (a)"
   ]
  },
  {
   "cell_type": "code",
   "execution_count": 7,
   "id": "09d28f1d-9785-4e9d-84ff-fce916abc755",
   "metadata": {},
   "outputs": [
    {
     "data": {
      "text/plain": [
       "0.3200145296040683"
      ]
     },
     "execution_count": 7,
     "metadata": {},
     "output_type": "execute_result"
    }
   ],
   "source": [
    "low_risk = temp[temp.high_score == 0].two_year_recid.mean()\n",
    "low_risk"
   ]
  },
  {
   "cell_type": "code",
   "execution_count": 8,
   "id": "e57aa39a-3c4f-4a1a-9d1f-1ece7f0c510f",
   "metadata": {},
   "outputs": [
    {
     "data": {
      "text/plain": [
       "0.6344554455445545"
      ]
     },
     "execution_count": 8,
     "metadata": {},
     "output_type": "execute_result"
    }
   ],
   "source": [
    "high_risk = temp[temp.high_score == 1].two_year_recid.mean()\n",
    "high_risk"
   ]
  },
  {
   "cell_type": "markdown",
   "id": "82ee5c8f-db9f-477c-b357-2daa91048fde",
   "metadata": {},
   "source": [
    "The recidivism rate for low risk individuals is approximately 32%. And the recidivism rate for high risk individuals is approximately 63%.\n",
    "#### (b)"
   ]
  },
  {
   "cell_type": "code",
   "execution_count": 9,
   "id": "2bf6fb15-2976-4b49-9f00-79c1773096b7",
   "metadata": {},
   "outputs": [
    {
     "data": {
      "text/plain": [
       "0.3908701854493581"
      ]
     },
     "execution_count": 9,
     "metadata": {},
     "output_type": "execute_result"
    }
   ],
   "source": [
    "caucasians = temp[temp.race == \"Caucasian\"].two_year_recid.mean()\n",
    "caucasians"
   ]
  },
  {
   "cell_type": "code",
   "execution_count": 10,
   "id": "8216dd5d-d380-4670-868b-80ec83c61d2b",
   "metadata": {},
   "outputs": [
    {
     "data": {
      "text/plain": [
       "0.5231496062992126"
      ]
     },
     "execution_count": 10,
     "metadata": {},
     "output_type": "execute_result"
    }
   ],
   "source": [
    "african_americans = temp[temp.race == \"African-American\"].two_year_recid.mean()\n",
    "african_americans"
   ]
  },
  {
   "cell_type": "markdown",
   "id": "793de5c7-d0f5-4156-b65a-fb94215b289b",
   "metadata": {},
   "source": [
    "The recidivism rate for Caucasian individuals is approximately 39%. And the recidivism rate for African American individuals is approximately 52%.\n",
    "#### 1.5"
   ]
  },
  {
   "cell_type": "code",
   "execution_count": 26,
   "id": "51048024-e011-4070-9e8d-ffe75dd1ae10",
   "metadata": {},
   "outputs": [
    {
     "data": {
      "text/html": [
       "<div>\n",
       "<style scoped>\n",
       "    .dataframe tbody tr th:only-of-type {\n",
       "        vertical-align: middle;\n",
       "    }\n",
       "\n",
       "    .dataframe tbody tr th {\n",
       "        vertical-align: top;\n",
       "    }\n",
       "\n",
       "    .dataframe thead th {\n",
       "        text-align: right;\n",
       "    }\n",
       "</style>\n",
       "<table border=\"1\" class=\"dataframe\">\n",
       "  <thead>\n",
       "    <tr style=\"text-align: right;\">\n",
       "      <th>high_score</th>\n",
       "      <th>0</th>\n",
       "      <th>1</th>\n",
       "    </tr>\n",
       "    <tr>\n",
       "      <th>two_year_recid</th>\n",
       "      <th></th>\n",
       "      <th></th>\n",
       "    </tr>\n",
       "  </thead>\n",
       "  <tbody>\n",
       "    <tr>\n",
       "      <th>0</th>\n",
       "      <td>1872</td>\n",
       "      <td>923</td>\n",
       "    </tr>\n",
       "    <tr>\n",
       "      <th>1</th>\n",
       "      <td>881</td>\n",
       "      <td>1602</td>\n",
       "    </tr>\n",
       "  </tbody>\n",
       "</table>\n",
       "</div>"
      ],
      "text/plain": [
       "high_score         0     1\n",
       "two_year_recid            \n",
       "0               1872   923\n",
       "1                881  1602"
      ]
     },
     "execution_count": 26,
     "metadata": {},
     "output_type": "execute_result"
    }
   ],
   "source": [
    "cm = pd.crosstab(temp.two_year_recid+0, temp.high_score)\n",
    "cm"
   ]
  },
  {
   "cell_type": "code",
   "execution_count": 12,
   "id": "45ccbf5e-3e76-42da-944d-734927dffcc6",
   "metadata": {},
   "outputs": [
    {
     "data": {
      "text/plain": [
       "(5278, 9)"
      ]
     },
     "execution_count": 12,
     "metadata": {},
     "output_type": "execute_result"
    }
   ],
   "source": [
    "temp.shape"
   ]
  },
  {
   "cell_type": "code",
   "execution_count": 13,
   "id": "482251e7-3c7d-4553-baf5-0dcf8494dde7",
   "metadata": {},
   "outputs": [
    {
     "data": {
      "text/plain": [
       "0.6582038651004168"
      ]
     },
     "execution_count": 13,
     "metadata": {},
     "output_type": "execute_result"
    }
   ],
   "source": [
    "(1872 + 1602)/5278"
   ]
  },
  {
   "cell_type": "code",
   "execution_count": 14,
   "id": "481ed623-2030-4104-97d8-eeb4e61033ad",
   "metadata": {},
   "outputs": [
    {
     "data": {
      "text/plain": [
       "0.34179613489958316"
      ]
     },
     "execution_count": 14,
     "metadata": {},
     "output_type": "execute_result"
    }
   ],
   "source": [
    "1 - (1872 + 1602)/5278"
   ]
  },
  {
   "cell_type": "code",
   "execution_count": 15,
   "id": "b1d680bd-092a-49ed-afe7-fd17363534e9",
   "metadata": {},
   "outputs": [
    {
     "data": {
      "text/plain": [
       "0.16691928760894278"
      ]
     },
     "execution_count": 15,
     "metadata": {},
     "output_type": "execute_result"
    }
   ],
   "source": [
    "881/5278"
   ]
  },
  {
   "cell_type": "code",
   "execution_count": 16,
   "id": "4d06a0fb-4795-4998-a3b4-0babd6d89e53",
   "metadata": {},
   "outputs": [
    {
     "data": {
      "text/plain": [
       "0.1748768472906404"
      ]
     },
     "execution_count": 16,
     "metadata": {},
     "output_type": "execute_result"
    }
   ],
   "source": [
    "923/5278"
   ]
  },
  {
   "cell_type": "code",
   "execution_count": 135,
   "id": "217a544c-9c2f-4323-84e7-90ac3d6031c6",
   "metadata": {},
   "outputs": [
    {
     "data": {
      "text/plain": [
       "0.3302325581395349"
      ]
     },
     "execution_count": 135,
     "metadata": {},
     "output_type": "execute_result"
    }
   ],
   "source": [
    "# FPR\n",
    "923/(1872 + 923)"
   ]
  },
  {
   "cell_type": "code",
   "execution_count": 136,
   "id": "74f5c75c-b2a9-4a9a-882c-b4c99b21aae2",
   "metadata": {},
   "outputs": [
    {
     "data": {
      "text/plain": [
       "0.35481272654047524"
      ]
     },
     "execution_count": 136,
     "metadata": {},
     "output_type": "execute_result"
    }
   ],
   "source": [
    "# FNR\n",
    "881/(1602 + 881)"
   ]
  },
  {
   "cell_type": "markdown",
   "id": "0ad17b37-d3a8-4e36-a7c2-a47dd868c44b",
   "metadata": {},
   "source": [
    "COMPAS predicts 65% of individuals accurately, and predicts 34% of individials incorrectly. And 16% of individuals are falsely classified as low risk, where as 17% of individuals are falsely classified as high risk. \n",
    "#### 1.6\n",
    "The accuracy is 0.6582, and the FPR is 0.33 and FNR is 0.35. I feel uncomfortable about this result as COMPAS only predict about half individuals correctly. For me, error less than 20% would be mroe acceptable. I think judges might do better based on their experience, but will not have very large difference as COMPAS.\n",
    "#### 1.7"
   ]
  },
  {
   "cell_type": "code",
   "execution_count": 27,
   "id": "2f289080-f970-41da-a7aa-2a328c949aa1",
   "metadata": {},
   "outputs": [
    {
     "data": {
      "text/html": [
       "<div>\n",
       "<style scoped>\n",
       "    .dataframe tbody tr th:only-of-type {\n",
       "        vertical-align: middle;\n",
       "    }\n",
       "\n",
       "    .dataframe tbody tr th {\n",
       "        vertical-align: top;\n",
       "    }\n",
       "\n",
       "    .dataframe thead th {\n",
       "        text-align: right;\n",
       "    }\n",
       "</style>\n",
       "<table border=\"1\" class=\"dataframe\">\n",
       "  <thead>\n",
       "    <tr style=\"text-align: right;\">\n",
       "      <th></th>\n",
       "      <th>age</th>\n",
       "      <th>c_charge_degree</th>\n",
       "      <th>race</th>\n",
       "      <th>age_cat</th>\n",
       "      <th>sex</th>\n",
       "      <th>priors_count</th>\n",
       "      <th>decile_score</th>\n",
       "      <th>two_year_recid</th>\n",
       "      <th>high_score</th>\n",
       "    </tr>\n",
       "  </thead>\n",
       "  <tbody>\n",
       "    <tr>\n",
       "      <th>4</th>\n",
       "      <td>41</td>\n",
       "      <td>F</td>\n",
       "      <td>Caucasian</td>\n",
       "      <td>25 - 45</td>\n",
       "      <td>Male</td>\n",
       "      <td>14</td>\n",
       "      <td>6</td>\n",
       "      <td>1</td>\n",
       "      <td>1</td>\n",
       "    </tr>\n",
       "    <tr>\n",
       "      <th>6</th>\n",
       "      <td>39</td>\n",
       "      <td>M</td>\n",
       "      <td>Caucasian</td>\n",
       "      <td>25 - 45</td>\n",
       "      <td>Female</td>\n",
       "      <td>0</td>\n",
       "      <td>1</td>\n",
       "      <td>0</td>\n",
       "      <td>0</td>\n",
       "    </tr>\n",
       "    <tr>\n",
       "      <th>7</th>\n",
       "      <td>27</td>\n",
       "      <td>F</td>\n",
       "      <td>Caucasian</td>\n",
       "      <td>25 - 45</td>\n",
       "      <td>Male</td>\n",
       "      <td>0</td>\n",
       "      <td>4</td>\n",
       "      <td>0</td>\n",
       "      <td>0</td>\n",
       "    </tr>\n",
       "  </tbody>\n",
       "</table>\n",
       "</div>"
      ],
      "text/plain": [
       "   age c_charge_degree       race  age_cat     sex  priors_count  \\\n",
       "4   41               F  Caucasian  25 - 45    Male            14   \n",
       "6   39               M  Caucasian  25 - 45  Female             0   \n",
       "7   27               F  Caucasian  25 - 45    Male             0   \n",
       "\n",
       "   decile_score  two_year_recid high_score  \n",
       "4             6               1          1  \n",
       "6             1               0          0  \n",
       "7             4               0          0  "
      ]
     },
     "execution_count": 27,
     "metadata": {},
     "output_type": "execute_result"
    }
   ],
   "source": [
    "Caucasians = temp[temp.race == \"Caucasian\"]\n",
    "Caucasians.head(3)"
   ]
  },
  {
   "cell_type": "code",
   "execution_count": 28,
   "id": "b84b77af-330a-46dc-a060-89aa3526f311",
   "metadata": {},
   "outputs": [
    {
     "data": {
      "text/html": [
       "<div>\n",
       "<style scoped>\n",
       "    .dataframe tbody tr th:only-of-type {\n",
       "        vertical-align: middle;\n",
       "    }\n",
       "\n",
       "    .dataframe tbody tr th {\n",
       "        vertical-align: top;\n",
       "    }\n",
       "\n",
       "    .dataframe thead th {\n",
       "        text-align: right;\n",
       "    }\n",
       "</style>\n",
       "<table border=\"1\" class=\"dataframe\">\n",
       "  <thead>\n",
       "    <tr style=\"text-align: right;\">\n",
       "      <th></th>\n",
       "      <th>age</th>\n",
       "      <th>c_charge_degree</th>\n",
       "      <th>race</th>\n",
       "      <th>age_cat</th>\n",
       "      <th>sex</th>\n",
       "      <th>priors_count</th>\n",
       "      <th>decile_score</th>\n",
       "      <th>two_year_recid</th>\n",
       "      <th>high_score</th>\n",
       "    </tr>\n",
       "  </thead>\n",
       "  <tbody>\n",
       "    <tr>\n",
       "      <th>1</th>\n",
       "      <td>34</td>\n",
       "      <td>F</td>\n",
       "      <td>African-American</td>\n",
       "      <td>25 - 45</td>\n",
       "      <td>Male</td>\n",
       "      <td>0</td>\n",
       "      <td>3</td>\n",
       "      <td>1</td>\n",
       "      <td>0</td>\n",
       "    </tr>\n",
       "    <tr>\n",
       "      <th>2</th>\n",
       "      <td>24</td>\n",
       "      <td>F</td>\n",
       "      <td>African-American</td>\n",
       "      <td>Less than 25</td>\n",
       "      <td>Male</td>\n",
       "      <td>4</td>\n",
       "      <td>4</td>\n",
       "      <td>1</td>\n",
       "      <td>0</td>\n",
       "    </tr>\n",
       "    <tr>\n",
       "      <th>8</th>\n",
       "      <td>23</td>\n",
       "      <td>M</td>\n",
       "      <td>African-American</td>\n",
       "      <td>Less than 25</td>\n",
       "      <td>Male</td>\n",
       "      <td>3</td>\n",
       "      <td>6</td>\n",
       "      <td>1</td>\n",
       "      <td>1</td>\n",
       "    </tr>\n",
       "  </tbody>\n",
       "</table>\n",
       "</div>"
      ],
      "text/plain": [
       "   age c_charge_degree              race       age_cat   sex  priors_count  \\\n",
       "1   34               F  African-American       25 - 45  Male             0   \n",
       "2   24               F  African-American  Less than 25  Male             4   \n",
       "8   23               M  African-American  Less than 25  Male             3   \n",
       "\n",
       "   decile_score  two_year_recid high_score  \n",
       "1             3               1          0  \n",
       "2             4               1          0  \n",
       "8             6               1          1  "
      ]
     },
     "execution_count": 28,
     "metadata": {},
     "output_type": "execute_result"
    }
   ],
   "source": [
    "African_A = temp[temp.race == \"African-American\"]\n",
    "African_A.head(3)"
   ]
  },
  {
   "cell_type": "code",
   "execution_count": 29,
   "id": "0fc0b447-41f4-4905-a823-d9b8cdda69c2",
   "metadata": {},
   "outputs": [
    {
     "data": {
      "text/html": [
       "<div>\n",
       "<style scoped>\n",
       "    .dataframe tbody tr th:only-of-type {\n",
       "        vertical-align: middle;\n",
       "    }\n",
       "\n",
       "    .dataframe tbody tr th {\n",
       "        vertical-align: top;\n",
       "    }\n",
       "\n",
       "    .dataframe thead th {\n",
       "        text-align: right;\n",
       "    }\n",
       "</style>\n",
       "<table border=\"1\" class=\"dataframe\">\n",
       "  <thead>\n",
       "    <tr style=\"text-align: right;\">\n",
       "      <th>high_score</th>\n",
       "      <th>0</th>\n",
       "      <th>1</th>\n",
       "    </tr>\n",
       "    <tr>\n",
       "      <th>two_year_recid</th>\n",
       "      <th></th>\n",
       "      <th></th>\n",
       "    </tr>\n",
       "  </thead>\n",
       "  <tbody>\n",
       "    <tr>\n",
       "      <th>0</th>\n",
       "      <td>999</td>\n",
       "      <td>282</td>\n",
       "    </tr>\n",
       "    <tr>\n",
       "      <th>1</th>\n",
       "      <td>408</td>\n",
       "      <td>414</td>\n",
       "    </tr>\n",
       "  </tbody>\n",
       "</table>\n",
       "</div>"
      ],
      "text/plain": [
       "high_score        0    1\n",
       "two_year_recid          \n",
       "0               999  282\n",
       "1               408  414"
      ]
     },
     "execution_count": 29,
     "metadata": {},
     "output_type": "execute_result"
    }
   ],
   "source": [
    "cm_C = pd.crosstab(Caucasians.two_year_recid+0, Caucasians.high_score)\n",
    "cm_C"
   ]
  },
  {
   "cell_type": "code",
   "execution_count": 30,
   "id": "47912d6d-6fb4-4fab-97fe-c9f567dde17f",
   "metadata": {},
   "outputs": [
    {
     "data": {
      "text/html": [
       "<div>\n",
       "<style scoped>\n",
       "    .dataframe tbody tr th:only-of-type {\n",
       "        vertical-align: middle;\n",
       "    }\n",
       "\n",
       "    .dataframe tbody tr th {\n",
       "        vertical-align: top;\n",
       "    }\n",
       "\n",
       "    .dataframe thead th {\n",
       "        text-align: right;\n",
       "    }\n",
       "</style>\n",
       "<table border=\"1\" class=\"dataframe\">\n",
       "  <thead>\n",
       "    <tr style=\"text-align: right;\">\n",
       "      <th>high_score</th>\n",
       "      <th>0</th>\n",
       "      <th>1</th>\n",
       "    </tr>\n",
       "    <tr>\n",
       "      <th>two_year_recid</th>\n",
       "      <th></th>\n",
       "      <th></th>\n",
       "    </tr>\n",
       "  </thead>\n",
       "  <tbody>\n",
       "    <tr>\n",
       "      <th>0</th>\n",
       "      <td>873</td>\n",
       "      <td>641</td>\n",
       "    </tr>\n",
       "    <tr>\n",
       "      <th>1</th>\n",
       "      <td>473</td>\n",
       "      <td>1188</td>\n",
       "    </tr>\n",
       "  </tbody>\n",
       "</table>\n",
       "</div>"
      ],
      "text/plain": [
       "high_score        0     1\n",
       "two_year_recid           \n",
       "0               873   641\n",
       "1               473  1188"
      ]
     },
     "execution_count": 30,
     "metadata": {},
     "output_type": "execute_result"
    }
   ],
   "source": [
    "cm_A = pd.crosstab(African_A.two_year_recid+0, African_A.high_score)\n",
    "cm_A"
   ]
  },
  {
   "cell_type": "code",
   "execution_count": 31,
   "id": "76337fe5-7e32-4daa-82f7-984ca8fbd061",
   "metadata": {},
   "outputs": [
    {
     "data": {
      "text/plain": [
       "0.6718972895863052"
      ]
     },
     "execution_count": 31,
     "metadata": {},
     "output_type": "execute_result"
    }
   ],
   "source": [
    "from sklearn.metrics import accuracy_score\n",
    "accuracy_C = accuracy_score(Caucasians.two_year_recid+0, Caucasians.high_score)\n",
    "accuracy_C"
   ]
  },
  {
   "cell_type": "code",
   "execution_count": 32,
   "id": "7cd2066e-4598-45fc-9a08-ad86e76c3ac9",
   "metadata": {},
   "outputs": [
    {
     "data": {
      "text/plain": [
       "0.6491338582677165"
      ]
     },
     "execution_count": 32,
     "metadata": {},
     "output_type": "execute_result"
    }
   ],
   "source": [
    "from sklearn.metrics import accuracy_score\n",
    "accuracy_A = accuracy_score(African_A.two_year_recid+0, African_A.high_score)\n",
    "accuracy_A"
   ]
  },
  {
   "cell_type": "markdown",
   "id": "ebcbbfa6-0d5e-4051-9148-b853a4e056b3",
   "metadata": {},
   "source": [
    "#### (a)\n",
    "The accuracy for COMPAS classification on African-American individuals is 0.671897. And the accuracy on Caucasians is 0.649133.\n",
    "#### (b)\n"
   ]
  },
  {
   "cell_type": "code",
   "execution_count": 33,
   "id": "a28bb073-3d31-4eef-b706-b076c215ad25",
   "metadata": {},
   "outputs": [
    {
     "data": {
      "text/plain": [
       "0.22014051522248243"
      ]
     },
     "execution_count": 33,
     "metadata": {},
     "output_type": "execute_result"
    }
   ],
   "source": [
    "282/(999 + 282) # FPR for Caucasians"
   ]
  },
  {
   "cell_type": "code",
   "execution_count": 34,
   "id": "428defd1-ebe8-4000-b424-02af68d317d0",
   "metadata": {},
   "outputs": [
    {
     "data": {
      "text/plain": [
       "0.4233817701453104"
      ]
     },
     "execution_count": 34,
     "metadata": {},
     "output_type": "execute_result"
    }
   ],
   "source": [
    "641/(873 + 641) # FPR for African American"
   ]
  },
  {
   "cell_type": "markdown",
   "id": "629125d4-c207-4aad-b9be-cdd836251099",
   "metadata": {},
   "source": [
    "Caucasians have lower False Positive rate.\n",
    "#### (c)"
   ]
  },
  {
   "cell_type": "code",
   "execution_count": 35,
   "id": "0328447e-d519-4b10-8b2f-7beddced865d",
   "metadata": {},
   "outputs": [
    {
     "data": {
      "text/plain": [
       "0.49635036496350365"
      ]
     },
     "execution_count": 35,
     "metadata": {},
     "output_type": "execute_result"
    }
   ],
   "source": [
    "408/(414 + 408) # FNR for Caucasians"
   ]
  },
  {
   "cell_type": "code",
   "execution_count": 37,
   "id": "a04b8f2e-3636-4547-96c0-298806826678",
   "metadata": {},
   "outputs": [
    {
     "data": {
      "text/plain": [
       "0.28511151295961423"
      ]
     },
     "execution_count": 37,
     "metadata": {},
     "output_type": "execute_result"
    }
   ],
   "source": [
    "473/(471 + 1188) # FNR for African American"
   ]
  },
  {
   "cell_type": "markdown",
   "id": "932d7fcf-615d-461a-9f39-2b02543009c1",
   "metadata": {},
   "source": [
    "African Americans have lower False Negarive rate.\n",
    "#### 1.8\n",
    "The COMPAS algorithm is unfair. Though the accuracy is fairly similar for both Caucasians and African Americans, The False positive rate and False negative rate are different. Caucasians have lower False Positive rate, which means relatively more African Americans with low risk were incorrectly identified as high risk. And African Americans have lower False Negarive rate, which means relatively more high risk Caucasians are falsly identified as low risk. As a result, African American is more likely to be identified as high risk compared with Caucasians. Thus, COMAPS is unfair.\n",
    "## 2 Can you beat COMPAS\n",
    "#### 2.1\n",
    "I think appropriate model performance measures are Accuracy and Recall. A fair algorithm should identify true low risk individuals as low risk and true high risk individuals as high risk correctly, thus accuracy should be a good measurement of this. And in particular, we are more likely want true high risk individuals be identified correctly, thus Recall shows how many identified high risk is correct.\n",
    "#### 2.2"
   ]
  },
  {
   "cell_type": "code",
   "execution_count": 42,
   "id": "ce194939-a078-4769-bd9e-a46aa132d82d",
   "metadata": {},
   "outputs": [
    {
     "data": {
      "text/html": [
       "<div>\n",
       "<style scoped>\n",
       "    .dataframe tbody tr th:only-of-type {\n",
       "        vertical-align: middle;\n",
       "    }\n",
       "\n",
       "    .dataframe tbody tr th {\n",
       "        vertical-align: top;\n",
       "    }\n",
       "\n",
       "    .dataframe thead th {\n",
       "        text-align: right;\n",
       "    }\n",
       "</style>\n",
       "<table border=\"1\" class=\"dataframe\">\n",
       "  <thead>\n",
       "    <tr style=\"text-align: right;\">\n",
       "      <th></th>\n",
       "      <th>age</th>\n",
       "      <th>c_charge_degree</th>\n",
       "      <th>age_cat</th>\n",
       "      <th>priors_count</th>\n",
       "      <th>two_year_recid</th>\n",
       "    </tr>\n",
       "  </thead>\n",
       "  <tbody>\n",
       "    <tr>\n",
       "      <th>1</th>\n",
       "      <td>34</td>\n",
       "      <td>F</td>\n",
       "      <td>25 - 45</td>\n",
       "      <td>0</td>\n",
       "      <td>1</td>\n",
       "    </tr>\n",
       "    <tr>\n",
       "      <th>2</th>\n",
       "      <td>24</td>\n",
       "      <td>F</td>\n",
       "      <td>Less than 25</td>\n",
       "      <td>4</td>\n",
       "      <td>1</td>\n",
       "    </tr>\n",
       "    <tr>\n",
       "      <th>4</th>\n",
       "      <td>41</td>\n",
       "      <td>F</td>\n",
       "      <td>25 - 45</td>\n",
       "      <td>14</td>\n",
       "      <td>1</td>\n",
       "    </tr>\n",
       "  </tbody>\n",
       "</table>\n",
       "</div>"
      ],
      "text/plain": [
       "   age c_charge_degree       age_cat  priors_count  two_year_recid\n",
       "1   34               F       25 - 45             0               1\n",
       "2   24               F  Less than 25             4               1\n",
       "4   41               F       25 - 45            14               1"
      ]
     },
     "execution_count": 42,
     "metadata": {},
     "output_type": "execute_result"
    }
   ],
   "source": [
    "temp_reg = temp[[\"age\", \"c_charge_degree\", \"age_cat\", \"priors_count\", \"two_year_recid\"]]\n",
    "temp_reg.head(3)"
   ]
  },
  {
   "cell_type": "code",
   "execution_count": 45,
   "id": "413fc45b-ea26-46b5-bbb4-26d2ffbeae8f",
   "metadata": {},
   "outputs": [
    {
     "data": {
      "text/html": [
       "<div>\n",
       "<style scoped>\n",
       "    .dataframe tbody tr th:only-of-type {\n",
       "        vertical-align: middle;\n",
       "    }\n",
       "\n",
       "    .dataframe tbody tr th {\n",
       "        vertical-align: top;\n",
       "    }\n",
       "\n",
       "    .dataframe thead th {\n",
       "        text-align: right;\n",
       "    }\n",
       "</style>\n",
       "<table border=\"1\" class=\"dataframe\">\n",
       "  <thead>\n",
       "    <tr style=\"text-align: right;\">\n",
       "      <th></th>\n",
       "      <th>age</th>\n",
       "      <th>priors_count</th>\n",
       "      <th>c_charge_degree_M</th>\n",
       "      <th>age_cat_Greater than 45</th>\n",
       "      <th>age_cat_Less than 25</th>\n",
       "    </tr>\n",
       "  </thead>\n",
       "  <tbody>\n",
       "    <tr>\n",
       "      <th>1</th>\n",
       "      <td>34</td>\n",
       "      <td>0</td>\n",
       "      <td>0</td>\n",
       "      <td>0</td>\n",
       "      <td>0</td>\n",
       "    </tr>\n",
       "    <tr>\n",
       "      <th>2</th>\n",
       "      <td>24</td>\n",
       "      <td>4</td>\n",
       "      <td>0</td>\n",
       "      <td>0</td>\n",
       "      <td>1</td>\n",
       "    </tr>\n",
       "    <tr>\n",
       "      <th>4</th>\n",
       "      <td>41</td>\n",
       "      <td>14</td>\n",
       "      <td>0</td>\n",
       "      <td>0</td>\n",
       "      <td>0</td>\n",
       "    </tr>\n",
       "  </tbody>\n",
       "</table>\n",
       "</div>"
      ],
      "text/plain": [
       "   age  priors_count  c_charge_degree_M  age_cat_Greater than 45  \\\n",
       "1   34             0                  0                        0   \n",
       "2   24             4                  0                        0   \n",
       "4   41            14                  0                        0   \n",
       "\n",
       "   age_cat_Less than 25  \n",
       "1                     0  \n",
       "2                     1  \n",
       "4                     0  "
      ]
     },
     "execution_count": 45,
     "metadata": {},
     "output_type": "execute_result"
    }
   ],
   "source": [
    "# create dummies for categorical variables\n",
    "X = temp_reg[[\"age\", \"c_charge_degree\", \"age_cat\", \"priors_count\"]]\n",
    "X = pd.get_dummies(X, drop_first=True)\n",
    "X.head(3)"
   ]
  },
  {
   "cell_type": "code",
   "execution_count": 48,
   "id": "8a7d1be4-a728-466c-bb87-efb99fc6567b",
   "metadata": {},
   "outputs": [
    {
     "data": {
      "text/plain": [
       "1    1\n",
       "2    1\n",
       "4    1\n",
       "Name: two_year_recid, dtype: int64"
      ]
     },
     "execution_count": 48,
     "metadata": {},
     "output_type": "execute_result"
    }
   ],
   "source": [
    "y = temp_reg.two_year_recid\n",
    "y.head(3)"
   ]
  },
  {
   "cell_type": "code",
   "execution_count": 49,
   "id": "ff0ac380-9fe6-4cbc-8b16-baa942202d20",
   "metadata": {},
   "outputs": [],
   "source": [
    "from sklearn.linear_model import LogisticRegression\n",
    "m = LogisticRegression()\n",
    "_ = m.fit(X, y)"
   ]
  },
  {
   "cell_type": "code",
   "execution_count": 52,
   "id": "bbd0cd0c-3f4b-4777-8b98-1fe9556cf38d",
   "metadata": {},
   "outputs": [
    {
     "data": {
      "text/plain": [
       "0.6703291213846242"
      ]
     },
     "execution_count": 52,
     "metadata": {},
     "output_type": "execute_result"
    }
   ],
   "source": [
    "from sklearn.model_selection import cross_val_score\n",
    "accuracy = cross_val_score(m, X, y, scoring=\"accuracy\", cv=10)\n",
    "np.mean(accuracy)"
   ]
  },
  {
   "cell_type": "code",
   "execution_count": 53,
   "id": "fc8f8666-8405-402e-a87b-c800983c4fce",
   "metadata": {},
   "outputs": [
    {
     "data": {
      "text/plain": [
       "0.6161630392537893"
      ]
     },
     "execution_count": 53,
     "metadata": {},
     "output_type": "execute_result"
    }
   ],
   "source": [
    "recall = cross_val_score(m, X, y, scoring=\"recall\", cv=10)\n",
    "np.mean(recall)"
   ]
  },
  {
   "cell_type": "markdown",
   "id": "831abd6d-1c4e-4ec6-a296-85735be1bdbc",
   "metadata": {},
   "source": [
    "Accuracy for logistic regression model is 0.6703, and Recall is 0.6162.\n",
    "#### 2.3"
   ]
  },
  {
   "cell_type": "code",
   "execution_count": 54,
   "id": "c11a6c7c-41a2-44c4-9b7d-9873b37f379d",
   "metadata": {},
   "outputs": [],
   "source": [
    "# include only age categorical variable\n",
    "X = temp_reg[[\"c_charge_degree\", \"age_cat\", \"priors_count\"]]\n",
    "X = pd.get_dummies(X, drop_first=True)\n",
    "m = LogisticRegression()\n",
    "_ = m.fit(X, y)"
   ]
  },
  {
   "cell_type": "code",
   "execution_count": 55,
   "id": "d5dc441c-b2fd-4c06-8dd0-851c2dbebe6b",
   "metadata": {},
   "outputs": [
    {
     "data": {
      "text/plain": [
       "0.6614218561324823"
      ]
     },
     "execution_count": 55,
     "metadata": {},
     "output_type": "execute_result"
    }
   ],
   "source": [
    "accuracy = cross_val_score(m, X, y, scoring=\"accuracy\", cv=10)\n",
    "np.mean(accuracy)"
   ]
  },
  {
   "cell_type": "code",
   "execution_count": 56,
   "id": "18a8ea61-048a-42cf-9e4c-dfbda812cc31",
   "metadata": {},
   "outputs": [
    {
     "data": {
      "text/plain": [
       "0.5980421686746988"
      ]
     },
     "execution_count": 56,
     "metadata": {},
     "output_type": "execute_result"
    }
   ],
   "source": [
    "recall = cross_val_score(m, X, y, scoring=\"recall\", cv=10)\n",
    "np.mean(recall)"
   ]
  },
  {
   "cell_type": "code",
   "execution_count": 58,
   "id": "3b39f654-49cf-48aa-a03c-1c3c88925f76",
   "metadata": {},
   "outputs": [],
   "source": [
    "# include only age numerical variable\n",
    "X = temp_reg[[\"age\", \"c_charge_degree\", \"priors_count\"]]\n",
    "X = pd.get_dummies(X, drop_first=True)\n",
    "m = LogisticRegression()\n",
    "_ = m.fit(X, y)"
   ]
  },
  {
   "cell_type": "code",
   "execution_count": 59,
   "id": "70988cbb-ee4c-4390-aa6d-63f0b240d894",
   "metadata": {},
   "outputs": [
    {
     "data": {
      "text/plain": [
       "0.674883201081019"
      ]
     },
     "execution_count": 59,
     "metadata": {},
     "output_type": "execute_result"
    }
   ],
   "source": [
    "accuracy = cross_val_score(m, X, y, scoring=\"accuracy\", cv=10)\n",
    "np.mean(accuracy)"
   ]
  },
  {
   "cell_type": "code",
   "execution_count": 60,
   "id": "65dc0347-6d7b-4d94-8838-fd1e4537d40a",
   "metadata": {},
   "outputs": [
    {
     "data": {
      "text/plain": [
       "0.5851745692447208"
      ]
     },
     "execution_count": 60,
     "metadata": {},
     "output_type": "execute_result"
    }
   ],
   "source": [
    "recall = cross_val_score(m, X, y, scoring=\"recall\", cv=10)\n",
    "np.mean(recall)"
   ]
  },
  {
   "cell_type": "code",
   "execution_count": 61,
   "id": "8ee3b6b5-49a3-4ec9-b0e8-ae8b1cad2c11",
   "metadata": {},
   "outputs": [],
   "source": [
    "# regression without considering any age variables\n",
    "X = temp_reg[[\"c_charge_degree\", \"priors_count\"]]\n",
    "X = pd.get_dummies(X, drop_first=True)\n",
    "m = LogisticRegression()\n",
    "_ = m.fit(X, y)"
   ]
  },
  {
   "cell_type": "code",
   "execution_count": 62,
   "id": "8e62351d-bc55-4732-a46c-3ff9b41b0641",
   "metadata": {},
   "outputs": [
    {
     "data": {
      "text/plain": [
       "0.6354666206658617"
      ]
     },
     "execution_count": 62,
     "metadata": {},
     "output_type": "execute_result"
    }
   ],
   "source": [
    "accuracy = cross_val_score(m, X, y, scoring=\"accuracy\", cv=10)\n",
    "np.mean(accuracy)"
   ]
  },
  {
   "cell_type": "code",
   "execution_count": 67,
   "id": "15bd1824-229e-4c00-a28f-1a51cd04c7b8",
   "metadata": {},
   "outputs": [
    {
     "data": {
      "text/plain": [
       "0.5996761238502396"
      ]
     },
     "execution_count": 67,
     "metadata": {},
     "output_type": "execute_result"
    }
   ],
   "source": [
    "recall = cross_val_score(m, X, y, scoring=\"recall\", cv=10)\n",
    "np.mean(recall)"
   ]
  },
  {
   "cell_type": "code",
   "execution_count": 92,
   "id": "84dad910-d7a1-4ccd-9900-b050387b792e",
   "metadata": {},
   "outputs": [],
   "source": [
    "# change categories of age\n",
    "X = temp_reg.copy()\n",
    "X[\"age_cat\"] = pd.cut(X.age, \n",
    "                  bins = [ 18, 25, 35, 45, 55, np.inf], \n",
    "                  labels = [\"under 25\", \"25 - 35\", \"35 - 45\", \"45 - 55\", \"more than 45\"],\n",
    "                  right = False)\n"
   ]
  },
  {
   "cell_type": "code",
   "execution_count": 93,
   "id": "17b8300e-de05-4243-95c0-05bb78a77276",
   "metadata": {},
   "outputs": [],
   "source": [
    "# includes new age categories and exclued c_charge_degree\n",
    "X = X[[\"age\", \"age_cat\", \"priors_count\"]]\n",
    "X = pd.get_dummies(X, drop_first=True)\n",
    "m = LogisticRegression()\n",
    "_ = m.fit(X, y)"
   ]
  },
  {
   "cell_type": "code",
   "execution_count": 94,
   "id": "22fe0e73-3a8b-4043-bcc9-adde101d4183",
   "metadata": {},
   "outputs": [
    {
     "data": {
      "text/plain": [
       "0.67392724685182"
      ]
     },
     "execution_count": 94,
     "metadata": {},
     "output_type": "execute_result"
    }
   ],
   "source": [
    "accuracy = cross_val_score(m, X, y, scoring=\"accuracy\", cv=10)\n",
    "np.mean(accuracy)"
   ]
  },
  {
   "cell_type": "code",
   "execution_count": 95,
   "id": "78696529-ca6e-403a-bb55-79085d430ed7",
   "metadata": {},
   "outputs": [
    {
     "data": {
      "text/plain": [
       "0.6246178261432829"
      ]
     },
     "execution_count": 95,
     "metadata": {},
     "output_type": "execute_result"
    }
   ],
   "source": [
    "recall = cross_val_score(m, X, y, scoring=\"recall\", cv=10)\n",
    "np.mean(recall)"
   ]
  },
  {
   "cell_type": "markdown",
   "id": "306d56d2-d372-4f17-86ea-1e0be6b699ae",
   "metadata": {},
   "source": [
    "I tried 4 differnet models, which includes only age categorical variable, includes only age numerical variable, exculdes all age variables, and includes new age categories and exclued c_charge_degree. The best model is the last one that includes new age categories and exclued c_charge_degree, and this model is slightly better on Recall and almost the same on Accuracy.\n",
    "#### 2.4"
   ]
  },
  {
   "cell_type": "code",
   "execution_count": 97,
   "id": "b0ac7aa9-4d04-4405-b614-46ba33980cdd",
   "metadata": {},
   "outputs": [
    {
     "data": {
      "text/html": [
       "<div>\n",
       "<style scoped>\n",
       "    .dataframe tbody tr th:only-of-type {\n",
       "        vertical-align: middle;\n",
       "    }\n",
       "\n",
       "    .dataframe tbody tr th {\n",
       "        vertical-align: top;\n",
       "    }\n",
       "\n",
       "    .dataframe thead th {\n",
       "        text-align: right;\n",
       "    }\n",
       "</style>\n",
       "<table border=\"1\" class=\"dataframe\">\n",
       "  <thead>\n",
       "    <tr style=\"text-align: right;\">\n",
       "      <th></th>\n",
       "      <th>age</th>\n",
       "      <th>priors_count</th>\n",
       "      <th>sex_Male</th>\n",
       "      <th>c_charge_degree_M</th>\n",
       "      <th>age_cat_Greater than 45</th>\n",
       "      <th>age_cat_Less than 25</th>\n",
       "    </tr>\n",
       "  </thead>\n",
       "  <tbody>\n",
       "    <tr>\n",
       "      <th>1</th>\n",
       "      <td>34</td>\n",
       "      <td>0</td>\n",
       "      <td>1</td>\n",
       "      <td>0</td>\n",
       "      <td>0</td>\n",
       "      <td>0</td>\n",
       "    </tr>\n",
       "    <tr>\n",
       "      <th>2</th>\n",
       "      <td>24</td>\n",
       "      <td>4</td>\n",
       "      <td>1</td>\n",
       "      <td>0</td>\n",
       "      <td>0</td>\n",
       "      <td>1</td>\n",
       "    </tr>\n",
       "    <tr>\n",
       "      <th>4</th>\n",
       "      <td>41</td>\n",
       "      <td>14</td>\n",
       "      <td>1</td>\n",
       "      <td>0</td>\n",
       "      <td>0</td>\n",
       "      <td>0</td>\n",
       "    </tr>\n",
       "  </tbody>\n",
       "</table>\n",
       "</div>"
      ],
      "text/plain": [
       "   age  priors_count  sex_Male  c_charge_degree_M  age_cat_Greater than 45  \\\n",
       "1   34             0         1                  0                        0   \n",
       "2   24             4         1                  0                        0   \n",
       "4   41            14         1                  0                        0   \n",
       "\n",
       "   age_cat_Less than 25  \n",
       "1                     0  \n",
       "2                     1  \n",
       "4                     0  "
      ]
     },
     "execution_count": 97,
     "metadata": {},
     "output_type": "execute_result"
    }
   ],
   "source": [
    "X = temp[[\"age\", \"sex\", \"c_charge_degree\", \"age_cat\", \"priors_count\"]]\n",
    "X = pd.get_dummies(X, drop_first=True)\n",
    "X.head(3)"
   ]
  },
  {
   "cell_type": "code",
   "execution_count": 98,
   "id": "960d060a-7b65-4076-8210-1731abcb4db3",
   "metadata": {},
   "outputs": [],
   "source": [
    "m = LogisticRegression()\n",
    "_ = m.fit(X, y)"
   ]
  },
  {
   "cell_type": "code",
   "execution_count": 99,
   "id": "eb122acd-c72d-4f51-b841-10e7b5973fb3",
   "metadata": {},
   "outputs": [
    {
     "data": {
      "text/plain": [
       "0.6731682335690876"
      ]
     },
     "execution_count": 99,
     "metadata": {},
     "output_type": "execute_result"
    }
   ],
   "source": [
    "accuracy = cross_val_score(m, X, y, scoring=\"accuracy\", cv=10)\n",
    "np.mean(accuracy)"
   ]
  },
  {
   "cell_type": "code",
   "execution_count": 100,
   "id": "e483aa20-7bf8-4a4c-9584-89cda3c995d6",
   "metadata": {},
   "outputs": [
    {
     "data": {
      "text/plain": [
       "0.6137453037958285"
      ]
     },
     "execution_count": 100,
     "metadata": {},
     "output_type": "execute_result"
    }
   ],
   "source": [
    "recall = cross_val_score(m, X, y, scoring=\"recall\", cv=10)\n",
    "np.mean(recall)"
   ]
  },
  {
   "cell_type": "markdown",
   "id": "9459c925-10f7-4419-9206-b1cbd0bec592",
   "metadata": {},
   "source": [
    "The new model including sex does not have much improvement.\n",
    "#### 2.5"
   ]
  },
  {
   "cell_type": "code",
   "execution_count": 101,
   "id": "04bedd13-9a22-4afc-b416-676e56689d72",
   "metadata": {},
   "outputs": [
    {
     "data": {
      "text/html": [
       "<div>\n",
       "<style scoped>\n",
       "    .dataframe tbody tr th:only-of-type {\n",
       "        vertical-align: middle;\n",
       "    }\n",
       "\n",
       "    .dataframe tbody tr th {\n",
       "        vertical-align: top;\n",
       "    }\n",
       "\n",
       "    .dataframe thead th {\n",
       "        text-align: right;\n",
       "    }\n",
       "</style>\n",
       "<table border=\"1\" class=\"dataframe\">\n",
       "  <thead>\n",
       "    <tr style=\"text-align: right;\">\n",
       "      <th></th>\n",
       "      <th>age</th>\n",
       "      <th>priors_count</th>\n",
       "      <th>race_Caucasian</th>\n",
       "      <th>sex_Male</th>\n",
       "      <th>c_charge_degree_M</th>\n",
       "      <th>age_cat_Greater than 45</th>\n",
       "      <th>age_cat_Less than 25</th>\n",
       "    </tr>\n",
       "  </thead>\n",
       "  <tbody>\n",
       "    <tr>\n",
       "      <th>1</th>\n",
       "      <td>34</td>\n",
       "      <td>0</td>\n",
       "      <td>0</td>\n",
       "      <td>1</td>\n",
       "      <td>0</td>\n",
       "      <td>0</td>\n",
       "      <td>0</td>\n",
       "    </tr>\n",
       "    <tr>\n",
       "      <th>2</th>\n",
       "      <td>24</td>\n",
       "      <td>4</td>\n",
       "      <td>0</td>\n",
       "      <td>1</td>\n",
       "      <td>0</td>\n",
       "      <td>0</td>\n",
       "      <td>1</td>\n",
       "    </tr>\n",
       "    <tr>\n",
       "      <th>4</th>\n",
       "      <td>41</td>\n",
       "      <td>14</td>\n",
       "      <td>1</td>\n",
       "      <td>1</td>\n",
       "      <td>0</td>\n",
       "      <td>0</td>\n",
       "      <td>0</td>\n",
       "    </tr>\n",
       "  </tbody>\n",
       "</table>\n",
       "</div>"
      ],
      "text/plain": [
       "   age  priors_count  race_Caucasian  sex_Male  c_charge_degree_M  \\\n",
       "1   34             0               0         1                  0   \n",
       "2   24             4               0         1                  0   \n",
       "4   41            14               1         1                  0   \n",
       "\n",
       "   age_cat_Greater than 45  age_cat_Less than 25  \n",
       "1                        0                     0  \n",
       "2                        0                     1  \n",
       "4                        0                     0  "
      ]
     },
     "execution_count": 101,
     "metadata": {},
     "output_type": "execute_result"
    }
   ],
   "source": [
    "X = temp[[\"age\", \"race\", \"sex\", \"c_charge_degree\", \"age_cat\", \"priors_count\"]]\n",
    "X = pd.get_dummies(X, drop_first=True)\n",
    "X.head(3)"
   ]
  },
  {
   "cell_type": "code",
   "execution_count": 102,
   "id": "b2a48882-53f3-41d8-a85e-ab5f4698a410",
   "metadata": {},
   "outputs": [],
   "source": [
    "m = LogisticRegression()\n",
    "_ = m.fit(X, y)"
   ]
  },
  {
   "cell_type": "code",
   "execution_count": 103,
   "id": "5f85877a-883c-4135-bc6f-fb874b6fbc5f",
   "metadata": {},
   "outputs": [
    {
     "data": {
      "text/plain": [
       "0.6727894456902995"
      ]
     },
     "execution_count": 103,
     "metadata": {},
     "output_type": "execute_result"
    }
   ],
   "source": [
    "accuracy = cross_val_score(m, X, y, scoring=\"accuracy\", cv=10)\n",
    "np.mean(accuracy)"
   ]
  },
  {
   "cell_type": "code",
   "execution_count": 104,
   "id": "a24a5389-d717-4684-b2f2-c17077d3eb02",
   "metadata": {},
   "outputs": [
    {
     "data": {
      "text/plain": [
       "0.6141501489830288"
      ]
     },
     "execution_count": 104,
     "metadata": {},
     "output_type": "execute_result"
    }
   ],
   "source": [
    "recall = cross_val_score(m, X, y, scoring=\"recall\", cv=10)\n",
    "np.mean(recall)"
   ]
  },
  {
   "cell_type": "markdown",
   "id": "2d9b6a97-e019-4f3a-9709-1e33ce2037fc",
   "metadata": {},
   "source": [
    "This model including sex and race does not have much improvement.\n",
    "#### 2.6\n",
    "My besd model, the one includes new age categories and exclued c_charge_degree, and models from 2.4 and 2.5 managed to be equally good as COMPAS on Accuracy and Recall, but none of these new model really beats COMPAS model. Thus, sex and gender does not help on improving predictions. As a result, judges can use these new medels from 2.3, 2.4, and 2.5, and judges can use them exactly the same as COMPAS.\n",
    "## 3 Is your model more fair\n",
    "#### 3.1"
   ]
  },
  {
   "cell_type": "code",
   "execution_count": 110,
   "id": "96355ad3-1c5b-4d6e-bbe8-a75e33cc8bac",
   "metadata": {},
   "outputs": [],
   "source": [
    "# recover the best model\n",
    "# change categories of age\n",
    "X_temp = temp.copy()\n",
    "X_temp[\"age_cat\"] = pd.cut(X.age, \n",
    "                  bins = [ 18, 25, 35, 45, 55, np.inf], \n",
    "                  labels = [\"under 25\", \"25 - 35\", \"35 - 45\", \"45 - 55\", \"more than 45\"],\n",
    "                  right = False)\n",
    "# includes new age categories and exclued c_charge_degree\n",
    "X = X_temp[[\"age\", \"age_cat\", \"priors_count\"]]\n",
    "X = pd.get_dummies(X, drop_first=True)\n",
    "m = LogisticRegression()\n",
    "_ = m.fit(X, y)"
   ]
  },
  {
   "cell_type": "code",
   "execution_count": 122,
   "id": "91e468e2-1b83-4576-b35e-a7e0407d0109",
   "metadata": {},
   "outputs": [],
   "source": [
    "# separate data by race\n",
    "# data for Caucasians\n",
    "X_C = X_temp[X_temp.race == \"Caucasian\"][[\"age\", \"age_cat\", \"priors_count\"]]\n",
    "X_C = pd.get_dummies(X_C, drop_first=True)"
   ]
  },
  {
   "cell_type": "code",
   "execution_count": 123,
   "id": "eb7796d5-2194-4870-9f88-96665c344ad6",
   "metadata": {},
   "outputs": [],
   "source": [
    "# data for African Americans\n",
    "X_A = X_temp[X_temp.race == \"African-American\"][[\"age\", \"age_cat\", \"priors_count\"]]\n",
    "X_A = pd.get_dummies(X_A, drop_first=True)"
   ]
  },
  {
   "cell_type": "code",
   "execution_count": 126,
   "id": "06641cc3-037e-4ab8-8c01-047076ebc597",
   "metadata": {},
   "outputs": [],
   "source": [
    "# predict\n",
    "predict_C = m.predict(X_C)\n",
    "predict_A = m.predict(X_A)"
   ]
  },
  {
   "cell_type": "code",
   "execution_count": 127,
   "id": "650c1019-5c5c-4c50-9ba1-46cffbba20e4",
   "metadata": {},
   "outputs": [
    {
     "data": {
      "text/html": [
       "<div>\n",
       "<style scoped>\n",
       "    .dataframe tbody tr th:only-of-type {\n",
       "        vertical-align: middle;\n",
       "    }\n",
       "\n",
       "    .dataframe tbody tr th {\n",
       "        vertical-align: top;\n",
       "    }\n",
       "\n",
       "    .dataframe thead th {\n",
       "        text-align: right;\n",
       "    }\n",
       "</style>\n",
       "<table border=\"1\" class=\"dataframe\">\n",
       "  <thead>\n",
       "    <tr style=\"text-align: right;\">\n",
       "      <th>col_0</th>\n",
       "      <th>0</th>\n",
       "      <th>1</th>\n",
       "    </tr>\n",
       "    <tr>\n",
       "      <th>two_year_recid</th>\n",
       "      <th></th>\n",
       "      <th></th>\n",
       "    </tr>\n",
       "  </thead>\n",
       "  <tbody>\n",
       "    <tr>\n",
       "      <th>0</th>\n",
       "      <td>1034</td>\n",
       "      <td>247</td>\n",
       "    </tr>\n",
       "    <tr>\n",
       "      <th>1</th>\n",
       "      <td>456</td>\n",
       "      <td>366</td>\n",
       "    </tr>\n",
       "  </tbody>\n",
       "</table>\n",
       "</div>"
      ],
      "text/plain": [
       "col_0              0    1\n",
       "two_year_recid           \n",
       "0               1034  247\n",
       "1                456  366"
      ]
     },
     "execution_count": 127,
     "metadata": {},
     "output_type": "execute_result"
    }
   ],
   "source": [
    "cm_C = pd.crosstab(Caucasians.two_year_recid+0, predict_C)\n",
    "cm_C"
   ]
  },
  {
   "cell_type": "code",
   "execution_count": 128,
   "id": "938c65bb-ad73-4b5a-a3ff-cc4904e31828",
   "metadata": {},
   "outputs": [
    {
     "data": {
      "text/html": [
       "<div>\n",
       "<style scoped>\n",
       "    .dataframe tbody tr th:only-of-type {\n",
       "        vertical-align: middle;\n",
       "    }\n",
       "\n",
       "    .dataframe tbody tr th {\n",
       "        vertical-align: top;\n",
       "    }\n",
       "\n",
       "    .dataframe thead th {\n",
       "        text-align: right;\n",
       "    }\n",
       "</style>\n",
       "<table border=\"1\" class=\"dataframe\">\n",
       "  <thead>\n",
       "    <tr style=\"text-align: right;\">\n",
       "      <th>col_0</th>\n",
       "      <th>0</th>\n",
       "      <th>1</th>\n",
       "    </tr>\n",
       "    <tr>\n",
       "      <th>two_year_recid</th>\n",
       "      <th></th>\n",
       "      <th></th>\n",
       "    </tr>\n",
       "  </thead>\n",
       "  <tbody>\n",
       "    <tr>\n",
       "      <th>0</th>\n",
       "      <td>952</td>\n",
       "      <td>562</td>\n",
       "    </tr>\n",
       "    <tr>\n",
       "      <th>1</th>\n",
       "      <td>460</td>\n",
       "      <td>1201</td>\n",
       "    </tr>\n",
       "  </tbody>\n",
       "</table>\n",
       "</div>"
      ],
      "text/plain": [
       "col_0             0     1\n",
       "two_year_recid           \n",
       "0               952   562\n",
       "1               460  1201"
      ]
     },
     "execution_count": 128,
     "metadata": {},
     "output_type": "execute_result"
    }
   ],
   "source": [
    "cm_A = pd.crosstab(African_A.two_year_recid+0, predict_A)\n",
    "cm_A"
   ]
  },
  {
   "cell_type": "code",
   "execution_count": 131,
   "id": "4bc88514-c85c-4953-affe-dbfec84b9136",
   "metadata": {},
   "outputs": [
    {
     "data": {
      "text/plain": [
       "0.19281811085089773"
      ]
     },
     "execution_count": 131,
     "metadata": {},
     "output_type": "execute_result"
    }
   ],
   "source": [
    "# FPR for Caucasians\n",
    "247/(1034 + 247)"
   ]
  },
  {
   "cell_type": "code",
   "execution_count": 130,
   "id": "d58deba2-bb46-4c68-8ae5-3eb1ed24a3f5",
   "metadata": {},
   "outputs": [
    {
     "data": {
      "text/plain": [
       "0.3712021136063408"
      ]
     },
     "execution_count": 130,
     "metadata": {},
     "output_type": "execute_result"
    }
   ],
   "source": [
    "# FPR for African Americans\n",
    "562/(952 + 562) "
   ]
  },
  {
   "cell_type": "code",
   "execution_count": 132,
   "id": "b277c95f-9272-45d5-9cd0-eaf33bd0bddd",
   "metadata": {},
   "outputs": [
    {
     "data": {
      "text/plain": [
       "0.5547445255474452"
      ]
     },
     "execution_count": 132,
     "metadata": {},
     "output_type": "execute_result"
    }
   ],
   "source": [
    "# FNR for Caucasians\n",
    "456/(456 + 366)"
   ]
  },
  {
   "cell_type": "code",
   "execution_count": 133,
   "id": "ce8bfe26-6cdd-4330-9a2e-fe98c655edda",
   "metadata": {},
   "outputs": [
    {
     "data": {
      "text/plain": [
       "0.2769416014449127"
      ]
     },
     "execution_count": 133,
     "metadata": {},
     "output_type": "execute_result"
    }
   ],
   "source": [
    "# FNR for African Americans\n",
    "460/(460 + 1201)"
   ]
  },
  {
   "cell_type": "markdown",
   "id": "16018d1a-40ee-4cc3-8315-640e2574f78e",
   "metadata": {},
   "source": [
    "#### 3.2\n",
    "The False positive rate and False negative rate are still different in my model. False Positive rate for both Caucasians and African Americans decrease, and new False Negative rates are similar as those for COMPAS. Caucasians have lower False Positive rate, which means relatively more African Americans with low risk were incorrectly identified as high risk. And African Americans have lower False Negarive rate, which means relatively more high risk Caucasians are falsly identified as low risk. As a result, African American is more likely to be identified as high risk compared with Caucasians. "
   ]
  },
  {
   "cell_type": "markdown",
   "id": "741c9667-d1b8-4c21-9c9f-72f87002d806",
   "metadata": {},
   "source": [
    "I spent 6 hours on this PS."
   ]
  },
  {
   "cell_type": "code",
   "execution_count": null,
   "id": "350daa61-a9bc-4735-91ef-597c573c56da",
   "metadata": {},
   "outputs": [],
   "source": []
  }
 ],
 "metadata": {
  "kernelspec": {
   "display_name": "Python 3 (ipykernel)",
   "language": "python",
   "name": "python3"
  },
  "language_info": {
   "codemirror_mode": {
    "name": "ipython",
    "version": 3
   },
   "file_extension": ".py",
   "mimetype": "text/x-python",
   "name": "python",
   "nbconvert_exporter": "python",
   "pygments_lexer": "ipython3",
   "version": "3.9.7"
  }
 },
 "nbformat": 4,
 "nbformat_minor": 5
}
